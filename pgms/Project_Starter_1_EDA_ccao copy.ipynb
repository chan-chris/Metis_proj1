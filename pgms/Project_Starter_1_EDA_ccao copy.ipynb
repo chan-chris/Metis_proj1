{
 "cells": [
  {
   "cell_type": "code",
   "execution_count": 1,
   "metadata": {},
   "outputs": [],
   "source": [
    "import pandas as pd\n",
    "import matplotlib.pyplot as plt"
   ]
  },
  {
   "cell_type": "code",
   "execution_count": 2,
   "metadata": {},
   "outputs": [],
   "source": [
    "df1 = pd.read_csv('http://web.mta.info/developers/data/nyct/turnstile/turnstile_210102.txt')\n",
    "df2 = pd.read_csv('http://web.mta.info/developers/data/nyct/turnstile/turnstile_201226.txt')"
   ]
  },
  {
   "cell_type": "code",
   "execution_count": 3,
   "metadata": {},
   "outputs": [
    {
     "data": {
      "text/html": [
       "<div>\n",
       "<style scoped>\n",
       "    .dataframe tbody tr th:only-of-type {\n",
       "        vertical-align: middle;\n",
       "    }\n",
       "\n",
       "    .dataframe tbody tr th {\n",
       "        vertical-align: top;\n",
       "    }\n",
       "\n",
       "    .dataframe thead th {\n",
       "        text-align: right;\n",
       "    }\n",
       "</style>\n",
       "<table border=\"1\" class=\"dataframe\">\n",
       "  <thead>\n",
       "    <tr style=\"text-align: right;\">\n",
       "      <th></th>\n",
       "      <th>C/A</th>\n",
       "      <th>UNIT</th>\n",
       "      <th>SCP</th>\n",
       "      <th>STATION</th>\n",
       "      <th>LINENAME</th>\n",
       "      <th>DIVISION</th>\n",
       "      <th>DATE</th>\n",
       "      <th>TIME</th>\n",
       "      <th>DESC</th>\n",
       "      <th>ENTRIES</th>\n",
       "      <th>EXITS</th>\n",
       "    </tr>\n",
       "  </thead>\n",
       "  <tbody>\n",
       "    <tr>\n",
       "      <th>0</th>\n",
       "      <td>A002</td>\n",
       "      <td>R051</td>\n",
       "      <td>02-00-00</td>\n",
       "      <td>59 ST</td>\n",
       "      <td>NQR456W</td>\n",
       "      <td>BMT</td>\n",
       "      <td>12/26/2020</td>\n",
       "      <td>03:00:00</td>\n",
       "      <td>REGULAR</td>\n",
       "      <td>7508509</td>\n",
       "      <td>2557569</td>\n",
       "    </tr>\n",
       "    <tr>\n",
       "      <th>1</th>\n",
       "      <td>A002</td>\n",
       "      <td>R051</td>\n",
       "      <td>02-00-00</td>\n",
       "      <td>59 ST</td>\n",
       "      <td>NQR456W</td>\n",
       "      <td>BMT</td>\n",
       "      <td>12/26/2020</td>\n",
       "      <td>07:00:00</td>\n",
       "      <td>REGULAR</td>\n",
       "      <td>7508511</td>\n",
       "      <td>2557581</td>\n",
       "    </tr>\n",
       "    <tr>\n",
       "      <th>2</th>\n",
       "      <td>A002</td>\n",
       "      <td>R051</td>\n",
       "      <td>02-00-00</td>\n",
       "      <td>59 ST</td>\n",
       "      <td>NQR456W</td>\n",
       "      <td>BMT</td>\n",
       "      <td>12/26/2020</td>\n",
       "      <td>11:00:00</td>\n",
       "      <td>REGULAR</td>\n",
       "      <td>7508531</td>\n",
       "      <td>2557636</td>\n",
       "    </tr>\n",
       "    <tr>\n",
       "      <th>3</th>\n",
       "      <td>A002</td>\n",
       "      <td>R051</td>\n",
       "      <td>02-00-00</td>\n",
       "      <td>59 ST</td>\n",
       "      <td>NQR456W</td>\n",
       "      <td>BMT</td>\n",
       "      <td>12/26/2020</td>\n",
       "      <td>15:00:00</td>\n",
       "      <td>REGULAR</td>\n",
       "      <td>7508610</td>\n",
       "      <td>2557667</td>\n",
       "    </tr>\n",
       "    <tr>\n",
       "      <th>4</th>\n",
       "      <td>A002</td>\n",
       "      <td>R051</td>\n",
       "      <td>02-00-00</td>\n",
       "      <td>59 ST</td>\n",
       "      <td>NQR456W</td>\n",
       "      <td>BMT</td>\n",
       "      <td>12/26/2020</td>\n",
       "      <td>19:00:00</td>\n",
       "      <td>REGULAR</td>\n",
       "      <td>7508767</td>\n",
       "      <td>2557689</td>\n",
       "    </tr>\n",
       "    <tr>\n",
       "      <th>...</th>\n",
       "      <td>...</td>\n",
       "      <td>...</td>\n",
       "      <td>...</td>\n",
       "      <td>...</td>\n",
       "      <td>...</td>\n",
       "      <td>...</td>\n",
       "      <td>...</td>\n",
       "      <td>...</td>\n",
       "      <td>...</td>\n",
       "      <td>...</td>\n",
       "      <td>...</td>\n",
       "    </tr>\n",
       "    <tr>\n",
       "      <th>212294</th>\n",
       "      <td>TRAM2</td>\n",
       "      <td>R469</td>\n",
       "      <td>00-05-01</td>\n",
       "      <td>RIT-ROOSEVELT</td>\n",
       "      <td>R</td>\n",
       "      <td>RIT</td>\n",
       "      <td>12/25/2020</td>\n",
       "      <td>04:00:00</td>\n",
       "      <td>REGULAR</td>\n",
       "      <td>5554</td>\n",
       "      <td>541</td>\n",
       "    </tr>\n",
       "    <tr>\n",
       "      <th>212295</th>\n",
       "      <td>TRAM2</td>\n",
       "      <td>R469</td>\n",
       "      <td>00-05-01</td>\n",
       "      <td>RIT-ROOSEVELT</td>\n",
       "      <td>R</td>\n",
       "      <td>RIT</td>\n",
       "      <td>12/25/2020</td>\n",
       "      <td>08:00:00</td>\n",
       "      <td>REGULAR</td>\n",
       "      <td>5554</td>\n",
       "      <td>541</td>\n",
       "    </tr>\n",
       "    <tr>\n",
       "      <th>212296</th>\n",
       "      <td>TRAM2</td>\n",
       "      <td>R469</td>\n",
       "      <td>00-05-01</td>\n",
       "      <td>RIT-ROOSEVELT</td>\n",
       "      <td>R</td>\n",
       "      <td>RIT</td>\n",
       "      <td>12/25/2020</td>\n",
       "      <td>12:00:00</td>\n",
       "      <td>REGULAR</td>\n",
       "      <td>5554</td>\n",
       "      <td>541</td>\n",
       "    </tr>\n",
       "    <tr>\n",
       "      <th>212297</th>\n",
       "      <td>TRAM2</td>\n",
       "      <td>R469</td>\n",
       "      <td>00-05-01</td>\n",
       "      <td>RIT-ROOSEVELT</td>\n",
       "      <td>R</td>\n",
       "      <td>RIT</td>\n",
       "      <td>12/25/2020</td>\n",
       "      <td>16:00:00</td>\n",
       "      <td>REGULAR</td>\n",
       "      <td>5554</td>\n",
       "      <td>541</td>\n",
       "    </tr>\n",
       "    <tr>\n",
       "      <th>212298</th>\n",
       "      <td>TRAM2</td>\n",
       "      <td>R469</td>\n",
       "      <td>00-05-01</td>\n",
       "      <td>RIT-ROOSEVELT</td>\n",
       "      <td>R</td>\n",
       "      <td>RIT</td>\n",
       "      <td>12/25/2020</td>\n",
       "      <td>20:00:00</td>\n",
       "      <td>REGULAR</td>\n",
       "      <td>5554</td>\n",
       "      <td>541</td>\n",
       "    </tr>\n",
       "  </tbody>\n",
       "</table>\n",
       "<p>422732 rows × 11 columns</p>\n",
       "</div>"
      ],
      "text/plain": [
       "          C/A  UNIT       SCP        STATION LINENAME DIVISION        DATE  \\\n",
       "0        A002  R051  02-00-00          59 ST  NQR456W      BMT  12/26/2020   \n",
       "1        A002  R051  02-00-00          59 ST  NQR456W      BMT  12/26/2020   \n",
       "2        A002  R051  02-00-00          59 ST  NQR456W      BMT  12/26/2020   \n",
       "3        A002  R051  02-00-00          59 ST  NQR456W      BMT  12/26/2020   \n",
       "4        A002  R051  02-00-00          59 ST  NQR456W      BMT  12/26/2020   \n",
       "...       ...   ...       ...            ...      ...      ...         ...   \n",
       "212294  TRAM2  R469  00-05-01  RIT-ROOSEVELT        R      RIT  12/25/2020   \n",
       "212295  TRAM2  R469  00-05-01  RIT-ROOSEVELT        R      RIT  12/25/2020   \n",
       "212296  TRAM2  R469  00-05-01  RIT-ROOSEVELT        R      RIT  12/25/2020   \n",
       "212297  TRAM2  R469  00-05-01  RIT-ROOSEVELT        R      RIT  12/25/2020   \n",
       "212298  TRAM2  R469  00-05-01  RIT-ROOSEVELT        R      RIT  12/25/2020   \n",
       "\n",
       "            TIME     DESC  ENTRIES  \\\n",
       "0       03:00:00  REGULAR  7508509   \n",
       "1       07:00:00  REGULAR  7508511   \n",
       "2       11:00:00  REGULAR  7508531   \n",
       "3       15:00:00  REGULAR  7508610   \n",
       "4       19:00:00  REGULAR  7508767   \n",
       "...          ...      ...      ...   \n",
       "212294  04:00:00  REGULAR     5554   \n",
       "212295  08:00:00  REGULAR     5554   \n",
       "212296  12:00:00  REGULAR     5554   \n",
       "212297  16:00:00  REGULAR     5554   \n",
       "212298  20:00:00  REGULAR     5554   \n",
       "\n",
       "        EXITS                                                                 \n",
       "0                                                 2557569                     \n",
       "1                                                 2557581                     \n",
       "2                                                 2557636                     \n",
       "3                                                 2557667                     \n",
       "4                                                 2557689                     \n",
       "...                                                   ...                     \n",
       "212294                                                541                     \n",
       "212295                                                541                     \n",
       "212296                                                541                     \n",
       "212297                                                541                     \n",
       "212298                                                541                     \n",
       "\n",
       "[422732 rows x 11 columns]"
      ]
     },
     "execution_count": 3,
     "metadata": {},
     "output_type": "execute_result"
    }
   ],
   "source": [
    "df = pd.concat([df1,df2],axis=0)\n",
    "df"
   ]
  },
  {
   "cell_type": "code",
   "execution_count": 4,
   "metadata": {},
   "outputs": [
    {
     "data": {
      "text/plain": [
       "C/A                                                                     object\n",
       "UNIT                                                                    object\n",
       "SCP                                                                     object\n",
       "STATION                                                                 object\n",
       "LINENAME                                                                object\n",
       "DIVISION                                                                object\n",
       "DATE                                                                    object\n",
       "TIME                                                                    object\n",
       "DESC                                                                    object\n",
       "ENTRIES                                                                  int64\n",
       "EXITS                                                                    int64\n",
       "dtype: object"
      ]
     },
     "execution_count": 4,
     "metadata": {},
     "output_type": "execute_result"
    }
   ],
   "source": [
    "df.dtypes"
   ]
  },
  {
   "cell_type": "code",
   "execution_count": 5,
   "metadata": {},
   "outputs": [],
   "source": [
    "df['DATE_AND_TIME'] = df3['DATE'] + \" \" + df3['TIME']\n",
    "df['DATE_AND_TIME'] = pd.to_datetime(df3['DATE_AND_TIME'])"
   ]
  },
  {
   "cell_type": "code",
   "execution_count": 6,
   "metadata": {},
   "outputs": [
    {
     "data": {
      "text/plain": [
       "0   2020-12-26 03:00:00\n",
       "1   2020-12-26 07:00:00\n",
       "2   2020-12-26 11:00:00\n",
       "3   2020-12-26 15:00:00\n",
       "4   2020-12-26 19:00:00\n",
       "Name: DATE_AND_TIME, dtype: datetime64[ns]"
      ]
     },
     "execution_count": 6,
     "metadata": {},
     "output_type": "execute_result"
    }
   ],
   "source": [
    "df['DATE_AND_TIME'].head()"
   ]
  },
  {
   "cell_type": "code",
   "execution_count": null,
   "metadata": {},
   "outputs": [],
   "source": [
    "df.dtypes"
   ]
  },
  {
   "cell_type": "code",
   "execution_count": null,
   "metadata": {},
   "outputs": [],
   "source": [
    "df['TURNSTILE'] = df3['C/A'] + ' ' + df3['UNIT'] + \" \" + df3['SCP'] + \" \" + df3['STATION']\n",
    "daily_ts = df.groupby(['TURNSTILE','DATE']).sum()['ENTRIES']\n",
    "daily_ts"
   ]
  },
  {
   "cell_type": "code",
   "execution_count": null,
   "metadata": {},
   "outputs": [],
   "source": [
    " %matplotlib inline"
   ]
  },
  {
   "cell_type": "code",
   "execution_count": null,
   "metadata": {},
   "outputs": [],
   "source": [
    "rand_ts = df['TURNSTILE'].sample(1)\n",
    "rand_ts.iloc[0]"
   ]
  },
  {
   "cell_type": "code",
   "execution_count": null,
   "metadata": {},
   "outputs": [],
   "source": [
    "single_ts = df[df['TURNSTILE']==rand_ts.iloc[0]]\n",
    "single_ts.sort_values('DATE',ascending=False,inplace=True)"
   ]
  },
  {
   "cell_type": "code",
   "execution_count": null,
   "metadata": {},
   "outputs": [],
   "source": [
    "\"\"\"Attempt at finding increase of entries and exits for each instance of time without \n",
    "counting end of one turnstile and beginning of another by making each turnstile a separate dateframe within a dictionary\"\"\"\n",
    "\n",
    "ts_dict = {turnstile: df.loc[df['C/A_SCP'] == turnstile] for turnstile in TurnstileNames}\n",
    "Exit_df = pd.DataFrame()\n",
    "for ts in TurnstileNames:\n",
    "    Exit_df = pd.concat([Exit_df,ts_dict[ts]['EXITS'].diff()])\n",
    "Exit_df.rename(columns={0:'Exit_diff'},inplace=True)\n",
    "Entry_df = pd.DataFrame()\n",
    "for ts in TurnstileNames:\n",
    "    Entry_df = pd.concat([Entry_df,ts_dict[ts]['ENTRIES'].diff()])\n",
    "Entry_df.rename(columns={0:'Entry_diff'},inplace=True)\n",
    "df = pd.concat([df,Exit_df,Entry_df],axis=1)\n",
    "df['Total_Entry_Exit'] = df['Exit_diff'] + df['Entry_diff']"
   ]
  },
  {
   "cell_type": "code",
   "execution_count": null,
   "metadata": {},
   "outputs": [],
   "source": [
    "#Example given to team on graphing different stations for different days of week and time of day\n",
    "station_list = turnstile_summary['STATION'].unique().tolist()\n",
    "ticks_x = np.linspace(0.5, 6.5, 7)\n",
    "days = ['Sunday','Monday','Tuesday','Wednesday','Thursday','Friday','Saturday']\n",
    "plt.xticks(ticks_x, days, fontsize = '15', color='k');\n",
    "plt.scatter( x=turnstile_summary[turnstile_summary['STATION']==station_list[0]]['Day_hour'], y=turnstile_summary[turnstile_summary['STATION']==station_list[0]]['People_per_hour'], marker='.', s=(30,))\n",
    "plt.scatter( x=turnstile_summary[turnstile_summary['STATION']==station_list[1]]['Day_hour'], y=turnstile_summary[turnstile_summary['STATION']==station_list[1]]['People_per_hour'], marker='.', s=(30,))\n",
    "plt.scatter( x=turnstile_summary[turnstile_summary['STATION']==station_list[2]]['Day_hour'], y=turnstile_summary[turnstile_summary['STATION']==station_list[2]]['People_per_hour'], marker='.', s=(30,))\n",
    "plt.scatter( x=turnstile_summary[turnstile_summary['STATION']==station_list[3]]['Day_hour'], y=turnstile_summary[turnstile_summary['STATION']==station_list[3]]['People_per_hour'], marker='.', s=(30,))"
   ]
  }
 ],
 "metadata": {
  "kernelspec": {
   "display_name": "Python 3",
   "language": "python",
   "name": "python3"
  },
  "language_info": {
   "codemirror_mode": {
    "name": "ipython",
    "version": 3
   },
   "file_extension": ".py",
   "mimetype": "text/x-python",
   "name": "python",
   "nbconvert_exporter": "python",
   "pygments_lexer": "ipython3",
   "version": "3.7.9"
  }
 },
 "nbformat": 4,
 "nbformat_minor": 4
}
