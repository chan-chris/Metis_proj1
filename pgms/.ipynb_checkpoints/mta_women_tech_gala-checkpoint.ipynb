{
 "cells": [
  {
   "cell_type": "code",
   "execution_count": 1,
   "metadata": {},
   "outputs": [],
   "source": [
    "import pandas as pd\n",
    "from matplotlib import pyplot as plt\n",
    "import datetime"
   ]
  },
  {
   "cell_type": "code",
   "execution_count": 2,
   "metadata": {},
   "outputs": [],
   "source": [
    "#initialise the number of weeks for the dataset\n",
    "num_weeks = 1\n",
    "\n",
    "#initialise the date for the first week of the dataset (week ending on start_date)\n",
    "start_date = filedate = pd.Timestamp('2019-06-01 00:00:00')\n",
    "\n",
    "#initialise the regex for the MTA turnstile url\n",
    "filename_regex = \"http://web.mta.info/developers/data/nyct/turnstile/turnstile_{}.txt\"\n",
    "\n",
    "filelist = []\n",
    "\n",
    "for numfiles in range (num_weeks):\n",
    "\n",
    "    # create the appropriate filename for the week\n",
    "    filedate_str = str(filedate.year)[2:4] + str(filedate.month).zfill(2) + str(filedate.day).zfill(2)\n",
    "    filename = filename_regex.format(filedate_str)\n",
    "\n",
    "    # read the file and append it to the list of files to be concacated\n",
    "    #df = pd.read_csv(filename, parse_dates=['DATE'], keep_date_col=True)  \n",
    "    df = pd.read_csv(filename, keep_date_col=True)\n",
    "    filelist.append(df)\n",
    "\n",
    "    # advance to the next week\n",
    "    filedate += pd.Timedelta(days=7)\n",
    "\n",
    "df = pd.concat(filelist, axis=0, ignore_index=True)"
   ]
  },
  {
   "cell_type": "markdown",
   "metadata": {},
   "source": [
    "This next cell is legacy code from before we captured multiple weeks at a time"
   ]
  },
  {
   "cell_type": "code",
   "execution_count": 3,
   "metadata": {},
   "outputs": [],
   "source": [
    "# turnstile_data_source = 'http://web.mta.info/developers/data/nyct/turnstile/'\n",
    "    \n",
    "# turnstile_filename1 = 'turnstile_190713.txt'\n",
    "# #st = turnstile_data_source + '/' + turnstile_filename1\n",
    "\n",
    "# df = pd.read_csv(turnstile_data_source + '/' + turnstile_filename1)"
   ]
  },
  {
   "cell_type": "code",
   "execution_count": 4,
   "metadata": {},
   "outputs": [
    {
     "data": {
      "text/plain": [
       "Index(['C/A', 'UNIT', 'SCP', 'STATION', 'LINENAME', 'DIVISION', 'DATE', 'TIME',\n",
       "       'DESC', 'ENTRIES',\n",
       "       'EXITS                                                               '],\n",
       "      dtype='object')"
      ]
     },
     "execution_count": 4,
     "metadata": {},
     "output_type": "execute_result"
    }
   ],
   "source": [
    "df.columns"
   ]
  },
  {
   "cell_type": "code",
   "execution_count": 5,
   "metadata": {},
   "outputs": [],
   "source": [
    "# rename columns since the last column, 'EXITS', contains trailing whitespace\n",
    "df.columns = df.columns.str.replace(r'\\s+', '')\n",
    "\n",
    "df[\"EXITS\"] = pd.to_numeric(df[\"EXITS\"])\n",
    "df[\"ENTRIES\"] = pd.to_numeric(df[\"ENTRIES\"])\n",
    "\n"
   ]
  },
  {
   "cell_type": "markdown",
   "metadata": {},
   "source": [
    "******\n",
    "#### New code to convert date and time strings to data and time datatypes, and then generate a composed datetime column"
   ]
  },
  {
   "cell_type": "code",
   "execution_count": 6,
   "metadata": {},
   "outputs": [],
   "source": [
    "#df['TIME'] = pd.to_datetime(df['TIME'])\n",
    "#df['DATE'] =  pd.to_datetime(df['DATE'])\n",
    "df['Datetime'] = pd.to_datetime(df.DATE + df.TIME, format='%m/%d/%Y%H:%M:%S')"
   ]
  },
  {
   "cell_type": "code",
   "execution_count": 7,
   "metadata": {},
   "outputs": [],
   "source": [
    "# Use domain knowledge to select subway stops in and near the Flatiron district where there are many tech companies\n",
    "df_23st = df[df['STATION'].str.contains('23 ST')]\n",
    "\n",
    "# Four subway stops either in or near the Flatiron district\n",
    "flatiron = df_23st[df_23st['LINENAME'].str.contains('NRW')]\n",
    "gramercy = df_23st[df_23st['LINENAME'].str.contains('6')]\n",
    "east_chelsea = df_23st[df_23st['LINENAME'].str.contains('F')]\n",
    "union_sq = df[df['STATION'].str.contains('14 ST-UNION SQ')]"
   ]
  },
  {
   "cell_type": "markdown",
   "metadata": {},
   "source": [
    "Examine exits at different times in at the FI stop."
   ]
  },
  {
   "cell_type": "code",
   "execution_count": 8,
   "metadata": {},
   "outputs": [
    {
     "data": {
      "text/plain": [
       "<matplotlib.collections.PathCollection at 0x7fda714db520>"
      ]
     },
     "execution_count": 8,
     "metadata": {},
     "output_type": "execute_result"
    },
    {
     "data": {
      "image/png": "[encoded data removed]",
      "text/plain": [
       "<Figure size 432x288 with 1 Axes>"
      ]
     },
     "metadata": {
      "needs_background": "light"
     },
     "output_type": "display_data"
    }
   ],
   "source": [
    "plt.scatter(x=flatiron['TIME'], y=(flatiron['EXITS']).astype(int))"
   ]
  },
  {
   "cell_type": "code",
   "execution_count": null,
   "metadata": {},
   "outputs": [],
   "source": []
  },
  {
   "cell_type": "markdown",
   "metadata": {},
   "source": [
    "This is not very helpful because times are in four-hour increments. \n",
    "\n",
    "To verify, let's sample the data and look at the TIME column: 16, 12, 0, 8, etc."
   ]
  },
  {
   "cell_type": "code",
   "execution_count": 9,
   "metadata": {},
   "outputs": [
    {
     "data": {
      "text/html": [
       "<div>\n",
       "<style scoped>\n",
       "    .dataframe tbody tr th:only-of-type {\n",
       "        vertical-align: middle;\n",
       "    }\n",
       "\n",
       "    .dataframe tbody tr th {\n",
       "        vertical-align: top;\n",
       "    }\n",
       "\n",
       "    .dataframe thead th {\n",
       "        text-align: right;\n",
       "    }\n",
       "</style>\n",
       "<table border=\"1\" class=\"dataframe\">\n",
       "  <thead>\n",
       "    <tr style=\"text-align: right;\">\n",
       "      <th></th>\n",
       "      <th>C/A</th>\n",
       "      <th>UNIT</th>\n",
       "      <th>SCP</th>\n",
       "      <th>STATION</th>\n",
       "      <th>LINENAME</th>\n",
       "      <th>DIVISION</th>\n",
       "      <th>DATE</th>\n",
       "      <th>TIME</th>\n",
       "      <th>DESC</th>\n",
       "      <th>ENTRIES</th>\n",
       "      <th>EXITS</th>\n",
       "      <th>Datetime</th>\n",
       "    </tr>\n",
       "  </thead>\n",
       "  <tbody>\n",
       "    <tr>\n",
       "      <th>4371</th>\n",
       "      <td>A031</td>\n",
       "      <td>R083</td>\n",
       "      <td>00-03-01</td>\n",
       "      <td>23 ST</td>\n",
       "      <td>NRW</td>\n",
       "      <td>BMT</td>\n",
       "      <td>05/28/2019</td>\n",
       "      <td>12:00:00</td>\n",
       "      <td>REGULAR</td>\n",
       "      <td>4049630</td>\n",
       "      <td>4471730</td>\n",
       "      <td>2019-05-28 12:00:00</td>\n",
       "    </tr>\n",
       "    <tr>\n",
       "      <th>4360</th>\n",
       "      <td>A031</td>\n",
       "      <td>R083</td>\n",
       "      <td>00-03-01</td>\n",
       "      <td>23 ST</td>\n",
       "      <td>NRW</td>\n",
       "      <td>BMT</td>\n",
       "      <td>05/26/2019</td>\n",
       "      <td>16:00:00</td>\n",
       "      <td>REGULAR</td>\n",
       "      <td>4049103</td>\n",
       "      <td>4470847</td>\n",
       "      <td>2019-05-26 16:00:00</td>\n",
       "    </tr>\n",
       "    <tr>\n",
       "      <th>3862</th>\n",
       "      <td>A030</td>\n",
       "      <td>R083</td>\n",
       "      <td>01-00-00</td>\n",
       "      <td>23 ST</td>\n",
       "      <td>NRW</td>\n",
       "      <td>BMT</td>\n",
       "      <td>05/27/2019</td>\n",
       "      <td>16:00:00</td>\n",
       "      <td>REGULAR</td>\n",
       "      <td>71116</td>\n",
       "      <td>105454</td>\n",
       "      <td>2019-05-27 16:00:00</td>\n",
       "    </tr>\n",
       "    <tr>\n",
       "      <th>4280</th>\n",
       "      <td>A031</td>\n",
       "      <td>R083</td>\n",
       "      <td>00-00-02</td>\n",
       "      <td>23 ST</td>\n",
       "      <td>NRW</td>\n",
       "      <td>BMT</td>\n",
       "      <td>05/27/2019</td>\n",
       "      <td>08:00:00</td>\n",
       "      <td>REGULAR</td>\n",
       "      <td>6537939</td>\n",
       "      <td>3502162</td>\n",
       "      <td>2019-05-27 08:00:00</td>\n",
       "    </tr>\n",
       "    <tr>\n",
       "      <th>4316</th>\n",
       "      <td>A031</td>\n",
       "      <td>R083</td>\n",
       "      <td>00-03-00</td>\n",
       "      <td>23 ST</td>\n",
       "      <td>NRW</td>\n",
       "      <td>BMT</td>\n",
       "      <td>05/26/2019</td>\n",
       "      <td>08:00:00</td>\n",
       "      <td>REGULAR</td>\n",
       "      <td>2798412</td>\n",
       "      <td>4764455</td>\n",
       "      <td>2019-05-26 08:00:00</td>\n",
       "    </tr>\n",
       "    <tr>\n",
       "      <th>...</th>\n",
       "      <td>...</td>\n",
       "      <td>...</td>\n",
       "      <td>...</td>\n",
       "      <td>...</td>\n",
       "      <td>...</td>\n",
       "      <td>...</td>\n",
       "      <td>...</td>\n",
       "      <td>...</td>\n",
       "      <td>...</td>\n",
       "      <td>...</td>\n",
       "      <td>...</td>\n",
       "      <td>...</td>\n",
       "    </tr>\n",
       "    <tr>\n",
       "      <th>3928</th>\n",
       "      <td>A030</td>\n",
       "      <td>R083</td>\n",
       "      <td>01-00-01</td>\n",
       "      <td>23 ST</td>\n",
       "      <td>NRW</td>\n",
       "      <td>BMT</td>\n",
       "      <td>05/31/2019</td>\n",
       "      <td>16:00:00</td>\n",
       "      <td>REGULAR</td>\n",
       "      <td>6875076</td>\n",
       "      <td>2527606</td>\n",
       "      <td>2019-05-31 16:00:00</td>\n",
       "    </tr>\n",
       "    <tr>\n",
       "      <th>3870</th>\n",
       "      <td>A030</td>\n",
       "      <td>R083</td>\n",
       "      <td>01-00-00</td>\n",
       "      <td>23 ST</td>\n",
       "      <td>NRW</td>\n",
       "      <td>BMT</td>\n",
       "      <td>05/29/2019</td>\n",
       "      <td>00:00:00</td>\n",
       "      <td>REGULAR</td>\n",
       "      <td>71116</td>\n",
       "      <td>106917</td>\n",
       "      <td>2019-05-29 00:00:00</td>\n",
       "    </tr>\n",
       "    <tr>\n",
       "      <th>3847</th>\n",
       "      <td>A030</td>\n",
       "      <td>R083</td>\n",
       "      <td>01-00-00</td>\n",
       "      <td>23 ST</td>\n",
       "      <td>NRW</td>\n",
       "      <td>BMT</td>\n",
       "      <td>05/25/2019</td>\n",
       "      <td>04:00:00</td>\n",
       "      <td>REGULAR</td>\n",
       "      <td>70368</td>\n",
       "      <td>103924</td>\n",
       "      <td>2019-05-25 04:00:00</td>\n",
       "    </tr>\n",
       "    <tr>\n",
       "      <th>4113</th>\n",
       "      <td>A030</td>\n",
       "      <td>R083</td>\n",
       "      <td>01-06-00</td>\n",
       "      <td>23 ST</td>\n",
       "      <td>NRW</td>\n",
       "      <td>BMT</td>\n",
       "      <td>05/27/2019</td>\n",
       "      <td>12:00:00</td>\n",
       "      <td>REGULAR</td>\n",
       "      <td>8567538</td>\n",
       "      <td>4512221</td>\n",
       "      <td>2019-05-27 12:00:00</td>\n",
       "    </tr>\n",
       "    <tr>\n",
       "      <th>4173</th>\n",
       "      <td>A030</td>\n",
       "      <td>R083</td>\n",
       "      <td>01-06-01</td>\n",
       "      <td>23 ST</td>\n",
       "      <td>NRW</td>\n",
       "      <td>BMT</td>\n",
       "      <td>05/30/2019</td>\n",
       "      <td>12:00:00</td>\n",
       "      <td>REGULAR</td>\n",
       "      <td>85829129</td>\n",
       "      <td>1203586</td>\n",
       "      <td>2019-05-30 12:00:00</td>\n",
       "    </tr>\n",
       "  </tbody>\n",
       "</table>\n",
       "<p>200 rows × 12 columns</p>\n",
       "</div>"
      ],
      "text/plain": [
       "       C/A  UNIT       SCP STATION LINENAME DIVISION        DATE      TIME  \\\n",
       "4371  A031  R083  00-03-01   23 ST      NRW      BMT  05/28/2019  12:00:00   \n",
       "4360  A031  R083  00-03-01   23 ST      NRW      BMT  05/26/2019  16:00:00   \n",
       "3862  A030  R083  01-00-00   23 ST      NRW      BMT  05/27/2019  16:00:00   \n",
       "4280  A031  R083  00-00-02   23 ST      NRW      BMT  05/27/2019  08:00:00   \n",
       "4316  A031  R083  00-03-00   23 ST      NRW      BMT  05/26/2019  08:00:00   \n",
       "...    ...   ...       ...     ...      ...      ...         ...       ...   \n",
       "3928  A030  R083  01-00-01   23 ST      NRW      BMT  05/31/2019  16:00:00   \n",
       "3870  A030  R083  01-00-00   23 ST      NRW      BMT  05/29/2019  00:00:00   \n",
       "3847  A030  R083  01-00-00   23 ST      NRW      BMT  05/25/2019  04:00:00   \n",
       "4113  A030  R083  01-06-00   23 ST      NRW      BMT  05/27/2019  12:00:00   \n",
       "4173  A030  R083  01-06-01   23 ST      NRW      BMT  05/30/2019  12:00:00   \n",
       "\n",
       "         DESC   ENTRIES    EXITS            Datetime  \n",
       "4371  REGULAR   4049630  4471730 2019-05-28 12:00:00  \n",
       "4360  REGULAR   4049103  4470847 2019-05-26 16:00:00  \n",
       "3862  REGULAR     71116   105454 2019-05-27 16:00:00  \n",
       "4280  REGULAR   6537939  3502162 2019-05-27 08:00:00  \n",
       "4316  REGULAR   2798412  4764455 2019-05-26 08:00:00  \n",
       "...       ...       ...      ...                 ...  \n",
       "3928  REGULAR   6875076  2527606 2019-05-31 16:00:00  \n",
       "3870  REGULAR     71116   106917 2019-05-29 00:00:00  \n",
       "3847  REGULAR     70368   103924 2019-05-25 04:00:00  \n",
       "4113  REGULAR   8567538  4512221 2019-05-27 12:00:00  \n",
       "4173  REGULAR  85829129  1203586 2019-05-30 12:00:00  \n",
       "\n",
       "[200 rows x 12 columns]"
      ]
     },
     "execution_count": 9,
     "metadata": {},
     "output_type": "execute_result"
    }
   ],
   "source": [
    "flatiron.sample(200)"
   ]
  },
  {
   "cell_type": "code",
   "execution_count": 10,
   "metadata": {},
   "outputs": [
    {
     "data": {
      "text/plain": [
       "(336, 12)"
      ]
     },
     "execution_count": 10,
     "metadata": {},
     "output_type": "execute_result"
    }
   ],
   "source": [
    "flatiron[flatiron[\"C/A\"]==\"A030\"].shape"
   ]
  },
  {
   "cell_type": "code",
   "execution_count": 11,
   "metadata": {},
   "outputs": [
    {
     "data": {
      "text/plain": [
       "(252, 12)"
      ]
     },
     "execution_count": 11,
     "metadata": {},
     "output_type": "execute_result"
    }
   ],
   "source": [
    "flatiron[flatiron[\"C/A\"]==\"A031\"].shape"
   ]
  },
  {
   "cell_type": "code",
   "execution_count": 12,
   "metadata": {},
   "outputs": [
    {
     "data": {
      "text/plain": [
       "(588, 12)"
      ]
     },
     "execution_count": 12,
     "metadata": {},
     "output_type": "execute_result"
    }
   ],
   "source": [
    "flatiron[flatiron[\"UNIT\"]==\"R083\"].shape"
   ]
  },
  {
   "cell_type": "code",
   "execution_count": 13,
   "metadata": {},
   "outputs": [
    {
     "data": {
      "text/plain": [
       "588"
      ]
     },
     "execution_count": 13,
     "metadata": {},
     "output_type": "execute_result"
    }
   ],
   "source": [
    "252+336"
   ]
  },
  {
   "cell_type": "code",
   "execution_count": 14,
   "metadata": {},
   "outputs": [
    {
     "data": {
      "text/html": [
       "<div>\n",
       "<style scoped>\n",
       "    .dataframe tbody tr th:only-of-type {\n",
       "        vertical-align: middle;\n",
       "    }\n",
       "\n",
       "    .dataframe tbody tr th {\n",
       "        vertical-align: top;\n",
       "    }\n",
       "\n",
       "    .dataframe thead th {\n",
       "        text-align: right;\n",
       "    }\n",
       "</style>\n",
       "<table border=\"1\" class=\"dataframe\">\n",
       "  <thead>\n",
       "    <tr style=\"text-align: right;\">\n",
       "      <th></th>\n",
       "      <th>C/A</th>\n",
       "      <th>UNIT</th>\n",
       "      <th>SCP</th>\n",
       "      <th>STATION</th>\n",
       "      <th>LINENAME</th>\n",
       "      <th>DIVISION</th>\n",
       "      <th>DATE</th>\n",
       "      <th>TIME</th>\n",
       "      <th>DESC</th>\n",
       "      <th>ENTRIES</th>\n",
       "      <th>EXITS</th>\n",
       "      <th>Datetime</th>\n",
       "    </tr>\n",
       "  </thead>\n",
       "  <tbody>\n",
       "    <tr>\n",
       "      <th>4429</th>\n",
       "      <td>A031</td>\n",
       "      <td>R083</td>\n",
       "      <td>00-03-02</td>\n",
       "      <td>23 ST</td>\n",
       "      <td>NRW</td>\n",
       "      <td>BMT</td>\n",
       "      <td>05/31/2019</td>\n",
       "      <td>04:00:00</td>\n",
       "      <td>REGULAR</td>\n",
       "      <td>108998</td>\n",
       "      <td>137022</td>\n",
       "      <td>2019-05-31 04:00:00</td>\n",
       "    </tr>\n",
       "    <tr>\n",
       "      <th>4430</th>\n",
       "      <td>A031</td>\n",
       "      <td>R083</td>\n",
       "      <td>00-03-02</td>\n",
       "      <td>23 ST</td>\n",
       "      <td>NRW</td>\n",
       "      <td>BMT</td>\n",
       "      <td>05/31/2019</td>\n",
       "      <td>08:00:00</td>\n",
       "      <td>REGULAR</td>\n",
       "      <td>109037</td>\n",
       "      <td>137219</td>\n",
       "      <td>2019-05-31 08:00:00</td>\n",
       "    </tr>\n",
       "    <tr>\n",
       "      <th>4431</th>\n",
       "      <td>A031</td>\n",
       "      <td>R083</td>\n",
       "      <td>00-03-02</td>\n",
       "      <td>23 ST</td>\n",
       "      <td>NRW</td>\n",
       "      <td>BMT</td>\n",
       "      <td>05/31/2019</td>\n",
       "      <td>12:00:00</td>\n",
       "      <td>REGULAR</td>\n",
       "      <td>109285</td>\n",
       "      <td>137977</td>\n",
       "      <td>2019-05-31 12:00:00</td>\n",
       "    </tr>\n",
       "    <tr>\n",
       "      <th>4432</th>\n",
       "      <td>A031</td>\n",
       "      <td>R083</td>\n",
       "      <td>00-03-02</td>\n",
       "      <td>23 ST</td>\n",
       "      <td>NRW</td>\n",
       "      <td>BMT</td>\n",
       "      <td>05/31/2019</td>\n",
       "      <td>16:00:00</td>\n",
       "      <td>REGULAR</td>\n",
       "      <td>109668</td>\n",
       "      <td>138367</td>\n",
       "      <td>2019-05-31 16:00:00</td>\n",
       "    </tr>\n",
       "    <tr>\n",
       "      <th>4433</th>\n",
       "      <td>A031</td>\n",
       "      <td>R083</td>\n",
       "      <td>00-03-02</td>\n",
       "      <td>23 ST</td>\n",
       "      <td>NRW</td>\n",
       "      <td>BMT</td>\n",
       "      <td>05/31/2019</td>\n",
       "      <td>20:00:00</td>\n",
       "      <td>REGULAR</td>\n",
       "      <td>110241</td>\n",
       "      <td>138699</td>\n",
       "      <td>2019-05-31 20:00:00</td>\n",
       "    </tr>\n",
       "  </tbody>\n",
       "</table>\n",
       "</div>"
      ],
      "text/plain": [
       "       C/A  UNIT       SCP STATION LINENAME DIVISION        DATE      TIME  \\\n",
       "4429  A031  R083  00-03-02   23 ST      NRW      BMT  05/31/2019  04:00:00   \n",
       "4430  A031  R083  00-03-02   23 ST      NRW      BMT  05/31/2019  08:00:00   \n",
       "4431  A031  R083  00-03-02   23 ST      NRW      BMT  05/31/2019  12:00:00   \n",
       "4432  A031  R083  00-03-02   23 ST      NRW      BMT  05/31/2019  16:00:00   \n",
       "4433  A031  R083  00-03-02   23 ST      NRW      BMT  05/31/2019  20:00:00   \n",
       "\n",
       "         DESC  ENTRIES   EXITS            Datetime  \n",
       "4429  REGULAR   108998  137022 2019-05-31 04:00:00  \n",
       "4430  REGULAR   109037  137219 2019-05-31 08:00:00  \n",
       "4431  REGULAR   109285  137977 2019-05-31 12:00:00  \n",
       "4432  REGULAR   109668  138367 2019-05-31 16:00:00  \n",
       "4433  REGULAR   110241  138699 2019-05-31 20:00:00  "
      ]
     },
     "execution_count": 14,
     "metadata": {},
     "output_type": "execute_result"
    }
   ],
   "source": [
    "flatiron[flatiron[\"UNIT\"]==\"R083\"].tail()"
   ]
  },
  {
   "cell_type": "markdown",
   "metadata": {},
   "source": [
    "Could do a groupby to aggregate the average or sum of entries at each time of day. "
   ]
  },
  {
   "cell_type": "markdown",
   "metadata": {},
   "source": [
    "What about by days of the week?"
   ]
  },
  {
   "cell_type": "markdown",
   "metadata": {},
   "source": [
    "What about by days of the week?"
   ]
  },
  {
   "cell_type": "code",
   "execution_count": 15,
   "metadata": {},
   "outputs": [
    {
     "data": {
      "text/plain": [
       "<matplotlib.collections.PathCollection at 0x7fda80068b80>"
      ]
     },
     "execution_count": 15,
     "metadata": {},
     "output_type": "execute_result"
    },
    {
     "data": {
      "image/png": "[encoded data removed]",
      "text/plain": [
       "<Figure size 432x288 with 1 Axes>"
      ]
     },
     "metadata": {
      "needs_background": "light"
     },
     "output_type": "display_data"
    }
   ],
   "source": [
    "plt.scatter(x=flatiron['DATE'], y=(flatiron['EXITS']).astype(int))"
   ]
  },
  {
   "cell_type": "markdown",
   "metadata": {},
   "source": [
    "I don't think I understand yet what the 'EXITS' column really means yet.  Even within the same week at the same time interval \n",
    "\n",
    "there are many datapoints.\n",
    "\n",
    "To go further, we probably need to review the 'codebook' for this dataset. Otherwise we can end up with a garbage-in analysis"
   ]
  },
  {
   "cell_type": "markdown",
   "metadata": {},
   "source": [
    "*******\n",
    "## Update \n",
    "\n",
    "\n",
    "I've figured out the issue here. The entries and exits columns are actually cumulative counts for each specific counting device. Therefore to extract the data we need, we need to is the following:\n",
    "0. Convert ENTRIES and EXITS columns to integers so we can compute their numerical diff\n",
    "1. Convert it into a list of dataframes where each dataframe in the list corresponds to a counting device. (To do this we first extract the unique values in the device column; then cycle through that list, using each item to extract rows matching it.\n",
    "2. Then cycle through each data frame in our list of dataframes\n",
    "    * sort it by TIME just to be on the safe side\n",
    "    * create two new columns that contains the difference between each row's ENTRY and EXIT counts and that of the previous row\n",
    "3. Append each of dataframe in the result list into a one list\n",
    "4. Sort by date and time to find graph these to discover days and times with highest traffic\n",
    "5. might use a calendar library ot convert date to day of week and do groupby on that\n",
    "6. could also graph traffic against TIME, while ignorning day\n",
    "7. Ideally we could drill down and find the day-of-week and time that consistently have the highest traffic during the summer. This would require the above pipeline for multiple weeks and multiple years, and pooling that data.\n",
    "\n"
   ]
  },
  {
   "cell_type": "markdown",
   "metadata": {},
   "source": [
    "Unfortunately the \"Field description\" actually doesn't explain which column corresponds to the counting device. Is it `C/A` or it it `Unit`? "
   ]
  },
  {
   "cell_type": "code",
   "execution_count": 16,
   "metadata": {
    "scrolled": true
   },
   "outputs": [
    {
     "data": {
      "text/html": [
       "<div>\n",
       "<style scoped>\n",
       "    .dataframe tbody tr th:only-of-type {\n",
       "        vertical-align: middle;\n",
       "    }\n",
       "\n",
       "    .dataframe tbody tr th {\n",
       "        vertical-align: top;\n",
       "    }\n",
       "\n",
       "    .dataframe thead th {\n",
       "        text-align: right;\n",
       "    }\n",
       "</style>\n",
       "<table border=\"1\" class=\"dataframe\">\n",
       "  <thead>\n",
       "    <tr style=\"text-align: right;\">\n",
       "      <th></th>\n",
       "      <th>C/A</th>\n",
       "      <th>UNIT</th>\n",
       "      <th>SCP</th>\n",
       "      <th>STATION</th>\n",
       "      <th>LINENAME</th>\n",
       "      <th>DIVISION</th>\n",
       "      <th>DATE</th>\n",
       "      <th>TIME</th>\n",
       "      <th>DESC</th>\n",
       "      <th>ENTRIES</th>\n",
       "      <th>EXITS</th>\n",
       "      <th>Datetime</th>\n",
       "    </tr>\n",
       "  </thead>\n",
       "  <tbody>\n",
       "    <tr>\n",
       "      <th>3846</th>\n",
       "      <td>A030</td>\n",
       "      <td>R083</td>\n",
       "      <td>01-00-00</td>\n",
       "      <td>23 ST</td>\n",
       "      <td>NRW</td>\n",
       "      <td>BMT</td>\n",
       "      <td>05/25/2019</td>\n",
       "      <td>00:00:00</td>\n",
       "      <td>REGULAR</td>\n",
       "      <td>70338</td>\n",
       "      <td>103907</td>\n",
       "      <td>2019-05-25 00:00:00</td>\n",
       "    </tr>\n",
       "    <tr>\n",
       "      <th>3847</th>\n",
       "      <td>A030</td>\n",
       "      <td>R083</td>\n",
       "      <td>01-00-00</td>\n",
       "      <td>23 ST</td>\n",
       "      <td>NRW</td>\n",
       "      <td>BMT</td>\n",
       "      <td>05/25/2019</td>\n",
       "      <td>04:00:00</td>\n",
       "      <td>REGULAR</td>\n",
       "      <td>70368</td>\n",
       "      <td>103924</td>\n",
       "      <td>2019-05-25 04:00:00</td>\n",
       "    </tr>\n",
       "    <tr>\n",
       "      <th>3848</th>\n",
       "      <td>A030</td>\n",
       "      <td>R083</td>\n",
       "      <td>01-00-00</td>\n",
       "      <td>23 ST</td>\n",
       "      <td>NRW</td>\n",
       "      <td>BMT</td>\n",
       "      <td>05/25/2019</td>\n",
       "      <td>08:00:00</td>\n",
       "      <td>REGULAR</td>\n",
       "      <td>70373</td>\n",
       "      <td>103979</td>\n",
       "      <td>2019-05-25 08:00:00</td>\n",
       "    </tr>\n",
       "    <tr>\n",
       "      <th>3849</th>\n",
       "      <td>A030</td>\n",
       "      <td>R083</td>\n",
       "      <td>01-00-00</td>\n",
       "      <td>23 ST</td>\n",
       "      <td>NRW</td>\n",
       "      <td>BMT</td>\n",
       "      <td>05/25/2019</td>\n",
       "      <td>12:00:00</td>\n",
       "      <td>REGULAR</td>\n",
       "      <td>70395</td>\n",
       "      <td>104145</td>\n",
       "      <td>2019-05-25 12:00:00</td>\n",
       "    </tr>\n",
       "    <tr>\n",
       "      <th>3850</th>\n",
       "      <td>A030</td>\n",
       "      <td>R083</td>\n",
       "      <td>01-00-00</td>\n",
       "      <td>23 ST</td>\n",
       "      <td>NRW</td>\n",
       "      <td>BMT</td>\n",
       "      <td>05/25/2019</td>\n",
       "      <td>16:00:00</td>\n",
       "      <td>REGULAR</td>\n",
       "      <td>70618</td>\n",
       "      <td>104364</td>\n",
       "      <td>2019-05-25 16:00:00</td>\n",
       "    </tr>\n",
       "  </tbody>\n",
       "</table>\n",
       "</div>"
      ],
      "text/plain": [
       "       C/A  UNIT       SCP STATION LINENAME DIVISION        DATE      TIME  \\\n",
       "3846  A030  R083  01-00-00   23 ST      NRW      BMT  05/25/2019  00:00:00   \n",
       "3847  A030  R083  01-00-00   23 ST      NRW      BMT  05/25/2019  04:00:00   \n",
       "3848  A030  R083  01-00-00   23 ST      NRW      BMT  05/25/2019  08:00:00   \n",
       "3849  A030  R083  01-00-00   23 ST      NRW      BMT  05/25/2019  12:00:00   \n",
       "3850  A030  R083  01-00-00   23 ST      NRW      BMT  05/25/2019  16:00:00   \n",
       "\n",
       "         DESC  ENTRIES   EXITS            Datetime  \n",
       "3846  REGULAR    70338  103907 2019-05-25 00:00:00  \n",
       "3847  REGULAR    70368  103924 2019-05-25 04:00:00  \n",
       "3848  REGULAR    70373  103979 2019-05-25 08:00:00  \n",
       "3849  REGULAR    70395  104145 2019-05-25 12:00:00  \n",
       "3850  REGULAR    70618  104364 2019-05-25 16:00:00  "
      ]
     },
     "execution_count": 16,
     "metadata": {},
     "output_type": "execute_result"
    }
   ],
   "source": [
    "flatiron.head()"
   ]
  },
  {
   "cell_type": "markdown",
   "metadata": {},
   "source": [
    "Let's see how many rows are in a single `C/A` and `UNIT`"
   ]
  },
  {
   "cell_type": "code",
   "execution_count": 17,
   "metadata": {},
   "outputs": [
    {
     "data": {
      "text/plain": [
       "(336, 12)"
      ]
     },
     "execution_count": 17,
     "metadata": {},
     "output_type": "execute_result"
    }
   ],
   "source": [
    "flatiron[flatiron[\"C/A\"]==\"A030\"].shape"
   ]
  },
  {
   "cell_type": "code",
   "execution_count": 18,
   "metadata": {},
   "outputs": [
    {
     "data": {
      "text/plain": [
       "(252, 12)"
      ]
     },
     "execution_count": 18,
     "metadata": {},
     "output_type": "execute_result"
    }
   ],
   "source": [
    "flatiron[flatiron[\"C/A\"]==\"A031\"].shape"
   ]
  },
  {
   "cell_type": "code",
   "execution_count": 19,
   "metadata": {},
   "outputs": [
    {
     "data": {
      "text/plain": [
       "(588, 12)"
      ]
     },
     "execution_count": 19,
     "metadata": {},
     "output_type": "execute_result"
    }
   ],
   "source": [
    "flatiron[flatiron[\"UNIT\"]==\"R083\"].shape"
   ]
  },
  {
   "cell_type": "code",
   "execution_count": 20,
   "metadata": {},
   "outputs": [
    {
     "data": {
      "text/plain": [
       "True"
      ]
     },
     "execution_count": 20,
     "metadata": {},
     "output_type": "execute_result"
    }
   ],
   "source": [
    "336+252 == 588"
   ]
  },
  {
   "cell_type": "markdown",
   "metadata": {},
   "source": [
    "Let's look at the seam between `C/A` == A030 and and A031, to see if the cumulative count restarts."
   ]
  },
  {
   "cell_type": "code",
   "execution_count": 21,
   "metadata": {},
   "outputs": [
    {
     "data": {
      "text/html": [
       "<div>\n",
       "<style scoped>\n",
       "    .dataframe tbody tr th:only-of-type {\n",
       "        vertical-align: middle;\n",
       "    }\n",
       "\n",
       "    .dataframe tbody tr th {\n",
       "        vertical-align: top;\n",
       "    }\n",
       "\n",
       "    .dataframe thead th {\n",
       "        text-align: right;\n",
       "    }\n",
       "</style>\n",
       "<table border=\"1\" class=\"dataframe\">\n",
       "  <thead>\n",
       "    <tr style=\"text-align: right;\">\n",
       "      <th></th>\n",
       "      <th>C/A</th>\n",
       "      <th>UNIT</th>\n",
       "      <th>SCP</th>\n",
       "      <th>STATION</th>\n",
       "      <th>LINENAME</th>\n",
       "      <th>DIVISION</th>\n",
       "      <th>DATE</th>\n",
       "      <th>TIME</th>\n",
       "      <th>DESC</th>\n",
       "      <th>ENTRIES</th>\n",
       "      <th>EXITS</th>\n",
       "      <th>Datetime</th>\n",
       "    </tr>\n",
       "  </thead>\n",
       "  <tbody>\n",
       "    <tr>\n",
       "      <th>4176</th>\n",
       "      <td>A030</td>\n",
       "      <td>R083</td>\n",
       "      <td>01-06-01</td>\n",
       "      <td>23 ST</td>\n",
       "      <td>NRW</td>\n",
       "      <td>BMT</td>\n",
       "      <td>05/31/2019</td>\n",
       "      <td>00:00:00</td>\n",
       "      <td>REGULAR</td>\n",
       "      <td>85830424</td>\n",
       "      <td>1203985</td>\n",
       "      <td>2019-05-31 00:00:00</td>\n",
       "    </tr>\n",
       "    <tr>\n",
       "      <th>4177</th>\n",
       "      <td>A030</td>\n",
       "      <td>R083</td>\n",
       "      <td>01-06-01</td>\n",
       "      <td>23 ST</td>\n",
       "      <td>NRW</td>\n",
       "      <td>BMT</td>\n",
       "      <td>05/31/2019</td>\n",
       "      <td>04:00:00</td>\n",
       "      <td>REGULAR</td>\n",
       "      <td>85830435</td>\n",
       "      <td>1203990</td>\n",
       "      <td>2019-05-31 04:00:00</td>\n",
       "    </tr>\n",
       "    <tr>\n",
       "      <th>4178</th>\n",
       "      <td>A030</td>\n",
       "      <td>R083</td>\n",
       "      <td>01-06-01</td>\n",
       "      <td>23 ST</td>\n",
       "      <td>NRW</td>\n",
       "      <td>BMT</td>\n",
       "      <td>05/31/2019</td>\n",
       "      <td>08:00:00</td>\n",
       "      <td>REGULAR</td>\n",
       "      <td>85830456</td>\n",
       "      <td>1204042</td>\n",
       "      <td>2019-05-31 08:00:00</td>\n",
       "    </tr>\n",
       "    <tr>\n",
       "      <th>4179</th>\n",
       "      <td>A030</td>\n",
       "      <td>R083</td>\n",
       "      <td>01-06-01</td>\n",
       "      <td>23 ST</td>\n",
       "      <td>NRW</td>\n",
       "      <td>BMT</td>\n",
       "      <td>05/31/2019</td>\n",
       "      <td>12:00:00</td>\n",
       "      <td>REGULAR</td>\n",
       "      <td>85830636</td>\n",
       "      <td>1204303</td>\n",
       "      <td>2019-05-31 12:00:00</td>\n",
       "    </tr>\n",
       "    <tr>\n",
       "      <th>4180</th>\n",
       "      <td>A030</td>\n",
       "      <td>R083</td>\n",
       "      <td>01-06-01</td>\n",
       "      <td>23 ST</td>\n",
       "      <td>NRW</td>\n",
       "      <td>BMT</td>\n",
       "      <td>05/31/2019</td>\n",
       "      <td>16:00:00</td>\n",
       "      <td>REGULAR</td>\n",
       "      <td>85830979</td>\n",
       "      <td>1204467</td>\n",
       "      <td>2019-05-31 16:00:00</td>\n",
       "    </tr>\n",
       "    <tr>\n",
       "      <th>4181</th>\n",
       "      <td>A030</td>\n",
       "      <td>R083</td>\n",
       "      <td>01-06-01</td>\n",
       "      <td>23 ST</td>\n",
       "      <td>NRW</td>\n",
       "      <td>BMT</td>\n",
       "      <td>05/31/2019</td>\n",
       "      <td>20:00:00</td>\n",
       "      <td>REGULAR</td>\n",
       "      <td>85831481</td>\n",
       "      <td>1204704</td>\n",
       "      <td>2019-05-31 20:00:00</td>\n",
       "    </tr>\n",
       "    <tr>\n",
       "      <th>4182</th>\n",
       "      <td>A031</td>\n",
       "      <td>R083</td>\n",
       "      <td>00-00-00</td>\n",
       "      <td>23 ST</td>\n",
       "      <td>NRW</td>\n",
       "      <td>BMT</td>\n",
       "      <td>05/25/2019</td>\n",
       "      <td>00:00:00</td>\n",
       "      <td>REGULAR</td>\n",
       "      <td>1244632</td>\n",
       "      <td>670095</td>\n",
       "      <td>2019-05-25 00:00:00</td>\n",
       "    </tr>\n",
       "    <tr>\n",
       "      <th>4183</th>\n",
       "      <td>A031</td>\n",
       "      <td>R083</td>\n",
       "      <td>00-00-00</td>\n",
       "      <td>23 ST</td>\n",
       "      <td>NRW</td>\n",
       "      <td>BMT</td>\n",
       "      <td>05/25/2019</td>\n",
       "      <td>04:00:00</td>\n",
       "      <td>REGULAR</td>\n",
       "      <td>1244690</td>\n",
       "      <td>670108</td>\n",
       "      <td>2019-05-25 04:00:00</td>\n",
       "    </tr>\n",
       "    <tr>\n",
       "      <th>4184</th>\n",
       "      <td>A031</td>\n",
       "      <td>R083</td>\n",
       "      <td>00-00-00</td>\n",
       "      <td>23 ST</td>\n",
       "      <td>NRW</td>\n",
       "      <td>BMT</td>\n",
       "      <td>05/25/2019</td>\n",
       "      <td>08:00:00</td>\n",
       "      <td>REGULAR</td>\n",
       "      <td>1244717</td>\n",
       "      <td>670127</td>\n",
       "      <td>2019-05-25 08:00:00</td>\n",
       "    </tr>\n",
       "    <tr>\n",
       "      <th>4185</th>\n",
       "      <td>A031</td>\n",
       "      <td>R083</td>\n",
       "      <td>00-00-00</td>\n",
       "      <td>23 ST</td>\n",
       "      <td>NRW</td>\n",
       "      <td>BMT</td>\n",
       "      <td>05/25/2019</td>\n",
       "      <td>12:00:00</td>\n",
       "      <td>REGULAR</td>\n",
       "      <td>1244918</td>\n",
       "      <td>670206</td>\n",
       "      <td>2019-05-25 12:00:00</td>\n",
       "    </tr>\n",
       "  </tbody>\n",
       "</table>\n",
       "</div>"
      ],
      "text/plain": [
       "       C/A  UNIT       SCP STATION LINENAME DIVISION        DATE      TIME  \\\n",
       "4176  A030  R083  01-06-01   23 ST      NRW      BMT  05/31/2019  00:00:00   \n",
       "4177  A030  R083  01-06-01   23 ST      NRW      BMT  05/31/2019  04:00:00   \n",
       "4178  A030  R083  01-06-01   23 ST      NRW      BMT  05/31/2019  08:00:00   \n",
       "4179  A030  R083  01-06-01   23 ST      NRW      BMT  05/31/2019  12:00:00   \n",
       "4180  A030  R083  01-06-01   23 ST      NRW      BMT  05/31/2019  16:00:00   \n",
       "4181  A030  R083  01-06-01   23 ST      NRW      BMT  05/31/2019  20:00:00   \n",
       "4182  A031  R083  00-00-00   23 ST      NRW      BMT  05/25/2019  00:00:00   \n",
       "4183  A031  R083  00-00-00   23 ST      NRW      BMT  05/25/2019  04:00:00   \n",
       "4184  A031  R083  00-00-00   23 ST      NRW      BMT  05/25/2019  08:00:00   \n",
       "4185  A031  R083  00-00-00   23 ST      NRW      BMT  05/25/2019  12:00:00   \n",
       "\n",
       "         DESC   ENTRIES    EXITS            Datetime  \n",
       "4176  REGULAR  85830424  1203985 2019-05-31 00:00:00  \n",
       "4177  REGULAR  85830435  1203990 2019-05-31 04:00:00  \n",
       "4178  REGULAR  85830456  1204042 2019-05-31 08:00:00  \n",
       "4179  REGULAR  85830636  1204303 2019-05-31 12:00:00  \n",
       "4180  REGULAR  85830979  1204467 2019-05-31 16:00:00  \n",
       "4181  REGULAR  85831481  1204704 2019-05-31 20:00:00  \n",
       "4182  REGULAR   1244632   670095 2019-05-25 00:00:00  \n",
       "4183  REGULAR   1244690   670108 2019-05-25 04:00:00  \n",
       "4184  REGULAR   1244717   670127 2019-05-25 08:00:00  \n",
       "4185  REGULAR   1244918   670206 2019-05-25 12:00:00  "
      ]
     },
     "execution_count": 21,
     "metadata": {},
     "output_type": "execute_result"
    }
   ],
   "source": [
    "flatiron[flatiron[\"UNIT\"]==\"R083\"].iloc[330:340]"
   ]
  },
  {
   "cell_type": "markdown",
   "metadata": {},
   "source": [
    "Indeed, the counting in `EXITS` jumps from 1230536 to 714199 at the seam from A030 to A031, so it seems that the C/A column contains the device label."
   ]
  },
  {
   "cell_type": "markdown",
   "metadata": {},
   "source": [
    "Looking further, however, what about the SCP colomn? Let's observe what happens to the EXITS column when SCP shifts."
   ]
  },
  {
   "cell_type": "code",
   "execution_count": 22,
   "metadata": {},
   "outputs": [
    {
     "data": {
      "text/html": [
       "<div>\n",
       "<style scoped>\n",
       "    .dataframe tbody tr th:only-of-type {\n",
       "        vertical-align: middle;\n",
       "    }\n",
       "\n",
       "    .dataframe tbody tr th {\n",
       "        vertical-align: top;\n",
       "    }\n",
       "\n",
       "    .dataframe thead th {\n",
       "        text-align: right;\n",
       "    }\n",
       "</style>\n",
       "<table border=\"1\" class=\"dataframe\">\n",
       "  <thead>\n",
       "    <tr style=\"text-align: right;\">\n",
       "      <th></th>\n",
       "      <th>C/A</th>\n",
       "      <th>UNIT</th>\n",
       "      <th>SCP</th>\n",
       "      <th>STATION</th>\n",
       "      <th>LINENAME</th>\n",
       "      <th>DIVISION</th>\n",
       "      <th>DATE</th>\n",
       "      <th>TIME</th>\n",
       "      <th>DESC</th>\n",
       "      <th>ENTRIES</th>\n",
       "      <th>EXITS</th>\n",
       "      <th>Datetime</th>\n",
       "    </tr>\n",
       "  </thead>\n",
       "  <tbody>\n",
       "    <tr>\n",
       "      <th>4221</th>\n",
       "      <td>A031</td>\n",
       "      <td>R083</td>\n",
       "      <td>00-00-00</td>\n",
       "      <td>23 ST</td>\n",
       "      <td>NRW</td>\n",
       "      <td>BMT</td>\n",
       "      <td>05/31/2019</td>\n",
       "      <td>12:00:00</td>\n",
       "      <td>REGULAR</td>\n",
       "      <td>1256770</td>\n",
       "      <td>675796</td>\n",
       "      <td>2019-05-31 12:00:00</td>\n",
       "    </tr>\n",
       "    <tr>\n",
       "      <th>4222</th>\n",
       "      <td>A031</td>\n",
       "      <td>R083</td>\n",
       "      <td>00-00-00</td>\n",
       "      <td>23 ST</td>\n",
       "      <td>NRW</td>\n",
       "      <td>BMT</td>\n",
       "      <td>05/31/2019</td>\n",
       "      <td>16:00:00</td>\n",
       "      <td>REGULAR</td>\n",
       "      <td>1257431</td>\n",
       "      <td>676020</td>\n",
       "      <td>2019-05-31 16:00:00</td>\n",
       "    </tr>\n",
       "    <tr>\n",
       "      <th>4223</th>\n",
       "      <td>A031</td>\n",
       "      <td>R083</td>\n",
       "      <td>00-00-00</td>\n",
       "      <td>23 ST</td>\n",
       "      <td>NRW</td>\n",
       "      <td>BMT</td>\n",
       "      <td>05/31/2019</td>\n",
       "      <td>20:00:00</td>\n",
       "      <td>REGULAR</td>\n",
       "      <td>1258481</td>\n",
       "      <td>676241</td>\n",
       "      <td>2019-05-31 20:00:00</td>\n",
       "    </tr>\n",
       "    <tr>\n",
       "      <th>4224</th>\n",
       "      <td>A031</td>\n",
       "      <td>R083</td>\n",
       "      <td>00-00-01</td>\n",
       "      <td>23 ST</td>\n",
       "      <td>NRW</td>\n",
       "      <td>BMT</td>\n",
       "      <td>05/25/2019</td>\n",
       "      <td>00:00:00</td>\n",
       "      <td>REGULAR</td>\n",
       "      <td>4605826</td>\n",
       "      <td>1541987</td>\n",
       "      <td>2019-05-25 00:00:00</td>\n",
       "    </tr>\n",
       "    <tr>\n",
       "      <th>4225</th>\n",
       "      <td>A031</td>\n",
       "      <td>R083</td>\n",
       "      <td>00-00-01</td>\n",
       "      <td>23 ST</td>\n",
       "      <td>NRW</td>\n",
       "      <td>BMT</td>\n",
       "      <td>05/25/2019</td>\n",
       "      <td>04:00:00</td>\n",
       "      <td>REGULAR</td>\n",
       "      <td>4605870</td>\n",
       "      <td>1541994</td>\n",
       "      <td>2019-05-25 04:00:00</td>\n",
       "    </tr>\n",
       "  </tbody>\n",
       "</table>\n",
       "</div>"
      ],
      "text/plain": [
       "       C/A  UNIT       SCP STATION LINENAME DIVISION        DATE      TIME  \\\n",
       "4221  A031  R083  00-00-00   23 ST      NRW      BMT  05/31/2019  12:00:00   \n",
       "4222  A031  R083  00-00-00   23 ST      NRW      BMT  05/31/2019  16:00:00   \n",
       "4223  A031  R083  00-00-00   23 ST      NRW      BMT  05/31/2019  20:00:00   \n",
       "4224  A031  R083  00-00-01   23 ST      NRW      BMT  05/25/2019  00:00:00   \n",
       "4225  A031  R083  00-00-01   23 ST      NRW      BMT  05/25/2019  04:00:00   \n",
       "\n",
       "         DESC  ENTRIES    EXITS            Datetime  \n",
       "4221  REGULAR  1256770   675796 2019-05-31 12:00:00  \n",
       "4222  REGULAR  1257431   676020 2019-05-31 16:00:00  \n",
       "4223  REGULAR  1258481   676241 2019-05-31 20:00:00  \n",
       "4224  REGULAR  4605826  1541987 2019-05-25 00:00:00  \n",
       "4225  REGULAR  4605870  1541994 2019-05-25 04:00:00  "
      ]
     },
     "execution_count": 22,
     "metadata": {},
     "output_type": "execute_result"
    }
   ],
   "source": [
    "flatiron[flatiron[\"UNIT\"]==\"R083\"].iloc[375:380]"
   ]
  },
  {
   "cell_type": "markdown",
   "metadata": {},
   "source": [
    "Whoops. When SCP changes, the EXITS counts start again. So actually the combination of the C/A and SCP columns seem to \n",
    "define a counting stream"
   ]
  },
  {
   "cell_type": "markdown",
   "metadata": {},
   "source": [
    "#### Try out a graph using the data from just one device\n",
    "\n",
    "If this pans out, we'll go back and do this data cleaning at an earlier stage so it affects the entire dataset"
   ]
  },
  {
   "cell_type": "code",
   "execution_count": 23,
   "metadata": {},
   "outputs": [
    {
     "data": {
      "text/html": [
       "<div>\n",
       "<style scoped>\n",
       "    .dataframe tbody tr th:only-of-type {\n",
       "        vertical-align: middle;\n",
       "    }\n",
       "\n",
       "    .dataframe tbody tr th {\n",
       "        vertical-align: top;\n",
       "    }\n",
       "\n",
       "    .dataframe thead th {\n",
       "        text-align: right;\n",
       "    }\n",
       "</style>\n",
       "<table border=\"1\" class=\"dataframe\">\n",
       "  <thead>\n",
       "    <tr style=\"text-align: right;\">\n",
       "      <th></th>\n",
       "      <th>C/A</th>\n",
       "      <th>UNIT</th>\n",
       "      <th>SCP</th>\n",
       "      <th>STATION</th>\n",
       "      <th>LINENAME</th>\n",
       "      <th>DIVISION</th>\n",
       "      <th>DATE</th>\n",
       "      <th>TIME</th>\n",
       "      <th>DESC</th>\n",
       "      <th>ENTRIES</th>\n",
       "      <th>EXITS</th>\n",
       "      <th>Datetime</th>\n",
       "    </tr>\n",
       "  </thead>\n",
       "  <tbody>\n",
       "    <tr>\n",
       "      <th>4182</th>\n",
       "      <td>A031</td>\n",
       "      <td>R083</td>\n",
       "      <td>00-00-00</td>\n",
       "      <td>23 ST</td>\n",
       "      <td>NRW</td>\n",
       "      <td>BMT</td>\n",
       "      <td>05/25/2019</td>\n",
       "      <td>00:00:00</td>\n",
       "      <td>REGULAR</td>\n",
       "      <td>1244632</td>\n",
       "      <td>670095</td>\n",
       "      <td>2019-05-25 00:00:00</td>\n",
       "    </tr>\n",
       "    <tr>\n",
       "      <th>4183</th>\n",
       "      <td>A031</td>\n",
       "      <td>R083</td>\n",
       "      <td>00-00-00</td>\n",
       "      <td>23 ST</td>\n",
       "      <td>NRW</td>\n",
       "      <td>BMT</td>\n",
       "      <td>05/25/2019</td>\n",
       "      <td>04:00:00</td>\n",
       "      <td>REGULAR</td>\n",
       "      <td>1244690</td>\n",
       "      <td>670108</td>\n",
       "      <td>2019-05-25 04:00:00</td>\n",
       "    </tr>\n",
       "    <tr>\n",
       "      <th>4184</th>\n",
       "      <td>A031</td>\n",
       "      <td>R083</td>\n",
       "      <td>00-00-00</td>\n",
       "      <td>23 ST</td>\n",
       "      <td>NRW</td>\n",
       "      <td>BMT</td>\n",
       "      <td>05/25/2019</td>\n",
       "      <td>08:00:00</td>\n",
       "      <td>REGULAR</td>\n",
       "      <td>1244717</td>\n",
       "      <td>670127</td>\n",
       "      <td>2019-05-25 08:00:00</td>\n",
       "    </tr>\n",
       "    <tr>\n",
       "      <th>4185</th>\n",
       "      <td>A031</td>\n",
       "      <td>R083</td>\n",
       "      <td>00-00-00</td>\n",
       "      <td>23 ST</td>\n",
       "      <td>NRW</td>\n",
       "      <td>BMT</td>\n",
       "      <td>05/25/2019</td>\n",
       "      <td>12:00:00</td>\n",
       "      <td>REGULAR</td>\n",
       "      <td>1244918</td>\n",
       "      <td>670206</td>\n",
       "      <td>2019-05-25 12:00:00</td>\n",
       "    </tr>\n",
       "    <tr>\n",
       "      <th>4186</th>\n",
       "      <td>A031</td>\n",
       "      <td>R083</td>\n",
       "      <td>00-00-00</td>\n",
       "      <td>23 ST</td>\n",
       "      <td>NRW</td>\n",
       "      <td>BMT</td>\n",
       "      <td>05/25/2019</td>\n",
       "      <td>16:00:00</td>\n",
       "      <td>REGULAR</td>\n",
       "      <td>1245329</td>\n",
       "      <td>670320</td>\n",
       "      <td>2019-05-25 16:00:00</td>\n",
       "    </tr>\n",
       "    <tr>\n",
       "      <th>4187</th>\n",
       "      <td>A031</td>\n",
       "      <td>R083</td>\n",
       "      <td>00-00-00</td>\n",
       "      <td>23 ST</td>\n",
       "      <td>NRW</td>\n",
       "      <td>BMT</td>\n",
       "      <td>05/25/2019</td>\n",
       "      <td>20:00:00</td>\n",
       "      <td>REGULAR</td>\n",
       "      <td>1245794</td>\n",
       "      <td>670510</td>\n",
       "      <td>2019-05-25 20:00:00</td>\n",
       "    </tr>\n",
       "    <tr>\n",
       "      <th>4188</th>\n",
       "      <td>A031</td>\n",
       "      <td>R083</td>\n",
       "      <td>00-00-00</td>\n",
       "      <td>23 ST</td>\n",
       "      <td>NRW</td>\n",
       "      <td>BMT</td>\n",
       "      <td>05/26/2019</td>\n",
       "      <td>00:00:00</td>\n",
       "      <td>REGULAR</td>\n",
       "      <td>1246033</td>\n",
       "      <td>670580</td>\n",
       "      <td>2019-05-26 00:00:00</td>\n",
       "    </tr>\n",
       "    <tr>\n",
       "      <th>4189</th>\n",
       "      <td>A031</td>\n",
       "      <td>R083</td>\n",
       "      <td>00-00-00</td>\n",
       "      <td>23 ST</td>\n",
       "      <td>NRW</td>\n",
       "      <td>BMT</td>\n",
       "      <td>05/26/2019</td>\n",
       "      <td>04:00:00</td>\n",
       "      <td>REGULAR</td>\n",
       "      <td>1246089</td>\n",
       "      <td>670591</td>\n",
       "      <td>2019-05-26 04:00:00</td>\n",
       "    </tr>\n",
       "    <tr>\n",
       "      <th>4190</th>\n",
       "      <td>A031</td>\n",
       "      <td>R083</td>\n",
       "      <td>00-00-00</td>\n",
       "      <td>23 ST</td>\n",
       "      <td>NRW</td>\n",
       "      <td>BMT</td>\n",
       "      <td>05/26/2019</td>\n",
       "      <td>08:00:00</td>\n",
       "      <td>REGULAR</td>\n",
       "      <td>1246113</td>\n",
       "      <td>670604</td>\n",
       "      <td>2019-05-26 08:00:00</td>\n",
       "    </tr>\n",
       "    <tr>\n",
       "      <th>4191</th>\n",
       "      <td>A031</td>\n",
       "      <td>R083</td>\n",
       "      <td>00-00-00</td>\n",
       "      <td>23 ST</td>\n",
       "      <td>NRW</td>\n",
       "      <td>BMT</td>\n",
       "      <td>05/26/2019</td>\n",
       "      <td>12:00:00</td>\n",
       "      <td>REGULAR</td>\n",
       "      <td>1246261</td>\n",
       "      <td>670705</td>\n",
       "      <td>2019-05-26 12:00:00</td>\n",
       "    </tr>\n",
       "  </tbody>\n",
       "</table>\n",
       "</div>"
      ],
      "text/plain": [
       "       C/A  UNIT       SCP STATION LINENAME DIVISION        DATE      TIME  \\\n",
       "4182  A031  R083  00-00-00   23 ST      NRW      BMT  05/25/2019  00:00:00   \n",
       "4183  A031  R083  00-00-00   23 ST      NRW      BMT  05/25/2019  04:00:00   \n",
       "4184  A031  R083  00-00-00   23 ST      NRW      BMT  05/25/2019  08:00:00   \n",
       "4185  A031  R083  00-00-00   23 ST      NRW      BMT  05/25/2019  12:00:00   \n",
       "4186  A031  R083  00-00-00   23 ST      NRW      BMT  05/25/2019  16:00:00   \n",
       "4187  A031  R083  00-00-00   23 ST      NRW      BMT  05/25/2019  20:00:00   \n",
       "4188  A031  R083  00-00-00   23 ST      NRW      BMT  05/26/2019  00:00:00   \n",
       "4189  A031  R083  00-00-00   23 ST      NRW      BMT  05/26/2019  04:00:00   \n",
       "4190  A031  R083  00-00-00   23 ST      NRW      BMT  05/26/2019  08:00:00   \n",
       "4191  A031  R083  00-00-00   23 ST      NRW      BMT  05/26/2019  12:00:00   \n",
       "\n",
       "         DESC  ENTRIES   EXITS            Datetime  \n",
       "4182  REGULAR  1244632  670095 2019-05-25 00:00:00  \n",
       "4183  REGULAR  1244690  670108 2019-05-25 04:00:00  \n",
       "4184  REGULAR  1244717  670127 2019-05-25 08:00:00  \n",
       "4185  REGULAR  1244918  670206 2019-05-25 12:00:00  \n",
       "4186  REGULAR  1245329  670320 2019-05-25 16:00:00  \n",
       "4187  REGULAR  1245794  670510 2019-05-25 20:00:00  \n",
       "4188  REGULAR  1246033  670580 2019-05-26 00:00:00  \n",
       "4189  REGULAR  1246089  670591 2019-05-26 04:00:00  \n",
       "4190  REGULAR  1246113  670604 2019-05-26 08:00:00  \n",
       "4191  REGULAR  1246261  670705 2019-05-26 12:00:00  "
      ]
     },
     "execution_count": 23,
     "metadata": {},
     "output_type": "execute_result"
    }
   ],
   "source": [
    "FI_device_A031zeroSCP = flatiron[ (flatiron[\"C/A\"]==\"A031\") & (flatiron[\"SCP\"]==\"00-00-00\")].copy()\n",
    "FI_device_A031zeroSCP.sort_values(by=[\"DATE\", \"TIME\"]).head(10)"
   ]
  },
  {
   "cell_type": "code",
   "execution_count": 24,
   "metadata": {},
   "outputs": [],
   "source": [
    "FI_device_A031zeroSCP[\"Exit diffs\"] = FI_device_A031zeroSCP[\"EXITS\"].diff()"
   ]
  },
  {
   "cell_type": "code",
   "execution_count": 25,
   "metadata": {},
   "outputs": [
    {
     "data": {
      "text/html": [
       "<div>\n",
       "<style scoped>\n",
       "    .dataframe tbody tr th:only-of-type {\n",
       "        vertical-align: middle;\n",
       "    }\n",
       "\n",
       "    .dataframe tbody tr th {\n",
       "        vertical-align: top;\n",
       "    }\n",
       "\n",
       "    .dataframe thead th {\n",
       "        text-align: right;\n",
       "    }\n",
       "</style>\n",
       "<table border=\"1\" class=\"dataframe\">\n",
       "  <thead>\n",
       "    <tr style=\"text-align: right;\">\n",
       "      <th></th>\n",
       "      <th>C/A</th>\n",
       "      <th>UNIT</th>\n",
       "      <th>SCP</th>\n",
       "      <th>STATION</th>\n",
       "      <th>LINENAME</th>\n",
       "      <th>DIVISION</th>\n",
       "      <th>DATE</th>\n",
       "      <th>TIME</th>\n",
       "      <th>DESC</th>\n",
       "      <th>ENTRIES</th>\n",
       "      <th>EXITS</th>\n",
       "      <th>Datetime</th>\n",
       "      <th>Exit diffs</th>\n",
       "    </tr>\n",
       "  </thead>\n",
       "  <tbody>\n",
       "    <tr>\n",
       "      <th>4182</th>\n",
       "      <td>A031</td>\n",
       "      <td>R083</td>\n",
       "      <td>00-00-00</td>\n",
       "      <td>23 ST</td>\n",
       "      <td>NRW</td>\n",
       "      <td>BMT</td>\n",
       "      <td>05/25/2019</td>\n",
       "      <td>00:00:00</td>\n",
       "      <td>REGULAR</td>\n",
       "      <td>1244632</td>\n",
       "      <td>670095</td>\n",
       "      <td>2019-05-25</td>\n",
       "      <td>NaN</td>\n",
       "    </tr>\n",
       "    <tr>\n",
       "      <th>4188</th>\n",
       "      <td>A031</td>\n",
       "      <td>R083</td>\n",
       "      <td>00-00-00</td>\n",
       "      <td>23 ST</td>\n",
       "      <td>NRW</td>\n",
       "      <td>BMT</td>\n",
       "      <td>05/26/2019</td>\n",
       "      <td>00:00:00</td>\n",
       "      <td>REGULAR</td>\n",
       "      <td>1246033</td>\n",
       "      <td>670580</td>\n",
       "      <td>2019-05-26</td>\n",
       "      <td>70.0</td>\n",
       "    </tr>\n",
       "    <tr>\n",
       "      <th>4194</th>\n",
       "      <td>A031</td>\n",
       "      <td>R083</td>\n",
       "      <td>00-00-00</td>\n",
       "      <td>23 ST</td>\n",
       "      <td>NRW</td>\n",
       "      <td>BMT</td>\n",
       "      <td>05/27/2019</td>\n",
       "      <td>00:00:00</td>\n",
       "      <td>REGULAR</td>\n",
       "      <td>1247200</td>\n",
       "      <td>670968</td>\n",
       "      <td>2019-05-27</td>\n",
       "      <td>47.0</td>\n",
       "    </tr>\n",
       "    <tr>\n",
       "      <th>4200</th>\n",
       "      <td>A031</td>\n",
       "      <td>R083</td>\n",
       "      <td>00-00-00</td>\n",
       "      <td>23 ST</td>\n",
       "      <td>NRW</td>\n",
       "      <td>BMT</td>\n",
       "      <td>05/28/2019</td>\n",
       "      <td>00:00:00</td>\n",
       "      <td>REGULAR</td>\n",
       "      <td>1248250</td>\n",
       "      <td>671327</td>\n",
       "      <td>2019-05-28</td>\n",
       "      <td>49.0</td>\n",
       "    </tr>\n",
       "    <tr>\n",
       "      <th>4206</th>\n",
       "      <td>A031</td>\n",
       "      <td>R083</td>\n",
       "      <td>00-00-00</td>\n",
       "      <td>23 ST</td>\n",
       "      <td>NRW</td>\n",
       "      <td>BMT</td>\n",
       "      <td>05/29/2019</td>\n",
       "      <td>00:00:00</td>\n",
       "      <td>REGULAR</td>\n",
       "      <td>1250852</td>\n",
       "      <td>672544</td>\n",
       "      <td>2019-05-29</td>\n",
       "      <td>62.0</td>\n",
       "    </tr>\n",
       "    <tr>\n",
       "      <th>4212</th>\n",
       "      <td>A031</td>\n",
       "      <td>R083</td>\n",
       "      <td>00-00-00</td>\n",
       "      <td>23 ST</td>\n",
       "      <td>NRW</td>\n",
       "      <td>BMT</td>\n",
       "      <td>05/30/2019</td>\n",
       "      <td>00:00:00</td>\n",
       "      <td>REGULAR</td>\n",
       "      <td>1253620</td>\n",
       "      <td>673818</td>\n",
       "      <td>2019-05-30</td>\n",
       "      <td>72.0</td>\n",
       "    </tr>\n",
       "    <tr>\n",
       "      <th>4218</th>\n",
       "      <td>A031</td>\n",
       "      <td>R083</td>\n",
       "      <td>00-00-00</td>\n",
       "      <td>23 ST</td>\n",
       "      <td>NRW</td>\n",
       "      <td>BMT</td>\n",
       "      <td>05/31/2019</td>\n",
       "      <td>00:00:00</td>\n",
       "      <td>REGULAR</td>\n",
       "      <td>1256321</td>\n",
       "      <td>675089</td>\n",
       "      <td>2019-05-31</td>\n",
       "      <td>56.0</td>\n",
       "    </tr>\n",
       "  </tbody>\n",
       "</table>\n",
       "</div>"
      ],
      "text/plain": [
       "       C/A  UNIT       SCP STATION LINENAME DIVISION        DATE      TIME  \\\n",
       "4182  A031  R083  00-00-00   23 ST      NRW      BMT  05/25/2019  00:00:00   \n",
       "4188  A031  R083  00-00-00   23 ST      NRW      BMT  05/26/2019  00:00:00   \n",
       "4194  A031  R083  00-00-00   23 ST      NRW      BMT  05/27/2019  00:00:00   \n",
       "4200  A031  R083  00-00-00   23 ST      NRW      BMT  05/28/2019  00:00:00   \n",
       "4206  A031  R083  00-00-00   23 ST      NRW      BMT  05/29/2019  00:00:00   \n",
       "4212  A031  R083  00-00-00   23 ST      NRW      BMT  05/30/2019  00:00:00   \n",
       "4218  A031  R083  00-00-00   23 ST      NRW      BMT  05/31/2019  00:00:00   \n",
       "\n",
       "         DESC  ENTRIES   EXITS   Datetime  Exit diffs  \n",
       "4182  REGULAR  1244632  670095 2019-05-25         NaN  \n",
       "4188  REGULAR  1246033  670580 2019-05-26        70.0  \n",
       "4194  REGULAR  1247200  670968 2019-05-27        47.0  \n",
       "4200  REGULAR  1248250  671327 2019-05-28        49.0  \n",
       "4206  REGULAR  1250852  672544 2019-05-29        62.0  \n",
       "4212  REGULAR  1253620  673818 2019-05-30        72.0  \n",
       "4218  REGULAR  1256321  675089 2019-05-31        56.0  "
      ]
     },
     "execution_count": 25,
     "metadata": {},
     "output_type": "execute_result"
    }
   ],
   "source": [
    "FI_device_A031zeroSCP[FI_device_A031zeroSCP[\"TIME\"]==\"00:00:00\"]"
   ]
  },
  {
   "cell_type": "code",
   "execution_count": 26,
   "metadata": {},
   "outputs": [
    {
     "data": {
      "text/plain": [
       "<matplotlib.collections.PathCollection at 0x7fda900e8880>"
      ]
     },
     "execution_count": 26,
     "metadata": {},
     "output_type": "execute_result"
    },
    {
     "data": {
      "image/png": "[encoded data removed]",
      "text/plain": [
       "<Figure size 720x720 with 1 Axes>"
      ]
     },
     "metadata": {
      "needs_background": "light"
     },
     "output_type": "display_data"
    }
   ],
   "source": [
    "plt.figure(figsize=(10,10))\n",
    "plt.scatter( x=FI_device_A031zeroSCP['TIME'], y=FI_device_A031zeroSCP['Exit diffs'], marker='_', s=(800,))"
   ]
  },
  {
   "cell_type": "markdown",
   "metadata": {},
   "source": [
    "#### It seems as though **_8am-12 noon_** time (at least on certain days) as well as **_4pm-8pm_** are the times with the most traffic."
   ]
  },
  {
   "cell_type": "code",
   "execution_count": 27,
   "metadata": {},
   "outputs": [
    {
     "data": {
      "text/plain": [
       "<matplotlib.collections.PathCollection at 0x7fda9014be50>"
      ]
     },
     "execution_count": 27,
     "metadata": {},
     "output_type": "execute_result"
    },
    {
     "data": {
      "image/png": "[encoded data removed]",
      "text/plain": [
       "<Figure size 720x720 with 1 Axes>"
      ]
     },
     "metadata": {
      "needs_background": "light"
     },
     "output_type": "display_data"
    }
   ],
   "source": [
    "x_labels = ['Sat', 'Sun', 'Mon', 'Tues', 'Wed', 'Thurs', 'Fri'] \n",
    "plt.figure(figsize=(10,10))\n",
    "positions = range(7)\n",
    "plt.xticks(positions, x_labels)\n",
    "plt.scatter( x=FI_device_A031zeroSCP['DATE'], y=FI_device_A031zeroSCP['Exit diffs'], marker='_', s=(800,))"
   ]
  },
  {
   "cell_type": "markdown",
   "metadata": {},
   "source": [
    "#### It seems as though Wednesday and Thursday have the most traffic."
   ]
  },
  {
   "cell_type": "code",
   "execution_count": 33,
   "metadata": {},
   "outputs": [
    {
     "data": {
      "text/plain": [
       "<matplotlib.collections.PathCollection at 0x7fdac06407f0>"
      ]
     },
     "execution_count": 33,
     "metadata": {},
     "output_type": "execute_result"
    },
    {
     "data": {
      "image/png": "[encoded data removed]",
      "text/plain": [
       "<Figure size 2880x720 with 1 Axes>"
      ]
     },
     "metadata": {},
     "output_type": "display_data"
    }
   ],
   "source": [
    "#x_labels = ['Midnight', 'Dawn', 'Morning', 'Afternoon', 'Dusk', 'Evening', 'Night'] \n",
    "\n",
    "#fig, ax = plt.subplots()\n",
    "#fig.figsize=(40,10)\n",
    "plt.figure(figsize=(40,10))\n",
    "#positions = range(7*6)\n",
    "#plt.xticks(positions, x_labels)\n",
    "#plt.xaxis.set_major_locator(MultipleLocator(20))\n",
    "plt.scatter( x=FI_device_A031zeroSCP['Datetime'], y=FI_device_A031zeroSCP['Exit diffs'], marker='.', s=(1000,))\n",
    "#ax.plot( x=FI_device_A031zeroSCP['Datetime'], y=FI_device_A031zeroSCP['Exit diffs'], marker='.', s=(300,))"
   ]
  },
  {
   "cell_type": "markdown",
   "metadata": {},
   "source": [
    "Attempts to format the x-axis labels with the days of the week have not progressed very far."
   ]
  },
  {
   "cell_type": "code",
   "execution_count": 29,
   "metadata": {},
   "outputs": [],
   "source": [
    "# #plt.figure(figsize=(40,10))\n",
    "# graph = pd.Series(FI_device_A031zeroSCP['Datetime'], FI_device_A031zeroSCP['Exit diffs'])\n",
    "# ax = graph.plot()\n",
    "# weekday_map= {0:'MON', 1:'TUE', 2:'WED', 3:'THU',\n",
    "#               4:'FRI', 5:'SAT', 6:'SUN'}\n",
    "# xs = sorted(ax.get_xticks(minor='both'))\n",
    "# wd = graph.index[xs - xs[0]].map(pd.Timestamp.weekday)\n",
    "\n",
    "# ax.set_xticks(xs)\n",
    "# ax.set_xticks([], minor=True)\n",
    "# ax.set_xticklabels([weekday_map[d] for d in wd])\n",
    "# #plt.scatter( x=FI_device_A031zeroSCP['Datetime'], y=FI_device_A031zeroSCP['Exit diffs'], marker='.', s=(1000,))"
   ]
  },
  {
   "cell_type": "code",
   "execution_count": 30,
   "metadata": {},
   "outputs": [],
   "source": [
    "time_series = FI_device_A031zeroSCP.set_index('Datetime')['Exit diffs']"
   ]
  },
  {
   "cell_type": "code",
   "execution_count": 31,
   "metadata": {},
   "outputs": [],
   "source": [
    "import seaborn as sns\n",
    "import matplotlib.dates as mdates\n",
    "sns.set(rc={'figure.figsize':(40, 10)})"
   ]
  },
  {
   "cell_type": "code",
   "execution_count": 34,
   "metadata": {},
   "outputs": [
    {
     "data": {
      "image/png": "[encoded data removed]",
      "text/plain": [
       "<Figure size 2880x720 with 1 Axes>"
      ]
     },
     "metadata": {},
     "output_type": "display_data"
    }
   ],
   "source": [
    "fig, ax = plt.subplots()\n",
    "ax.plot(time_series)\n",
    "# Set x-axis major ticks to weekly interval, on Mondays\n",
    "ax.xaxis.set_major_locator(mdates.WeekdayLocator(byweekday=mdates.SATURDAY))\n",
    "# Format x-tick labels as 3-letter month name and day number\n",
    "ax.xaxis.set_major_formatter(mdates.DateFormatter('%b %d'));"
   ]
  },
  {
   "cell_type": "markdown",
   "metadata": {},
   "source": [
    "******"
   ]
  },
  {
   "cell_type": "markdown",
   "metadata": {},
   "source": [
    "Meanwhile, what about the zip code of stations? We'll need to merge this with the turnstile data if we want to \n",
    "\n",
    "identify stops that that are higher-income neighborhoods, by joining (merging) with a demographics/census dataset"
   ]
  },
  {
   "cell_type": "code",
   "execution_count": null,
   "metadata": {},
   "outputs": [],
   "source": [
    "stations = pd.read_csv('http://web.mta.info/developers/data/nyct/subway/Stations.csv')"
   ]
  },
  {
   "cell_type": "code",
   "execution_count": null,
   "metadata": {},
   "outputs": [],
   "source": [
    "stations.sample(10)"
   ]
  },
  {
   "cell_type": "markdown",
   "metadata": {},
   "source": [
    "Whereas the stop names in the turnstile dataset were all caps, these are in title case. \n",
    "\n",
    "Who knows if truly corresponding names are used for each station?\n",
    "\n",
    "As a preliminary step to finding out, lets convert that columns to upper "
   ]
  },
  {
   "cell_type": "code",
   "execution_count": null,
   "metadata": {},
   "outputs": [],
   "source": [
    "stations['Stop Name'] = stations['Stop Name'].str.upper() "
   ]
  },
  {
   "cell_type": "code",
   "execution_count": null,
   "metadata": {},
   "outputs": [],
   "source": [
    "# sanity check\n",
    "stations.sample(5)"
   ]
  },
  {
   "cell_type": "code",
   "execution_count": null,
   "metadata": {},
   "outputs": [],
   "source": [
    "stations.columns"
   ]
  },
  {
   "cell_type": "markdown",
   "metadata": {},
   "source": [
    "Merge (join) the turnstile and stations dataframes.  We probably have too many columms here and should pare down."
   ]
  },
  {
   "cell_type": "code",
   "execution_count": null,
   "metadata": {},
   "outputs": [],
   "source": [
    "turnstile_station = df.merge(stations, left_on=\"STATION\", right_on=\"Stop Name\")\n",
    "turnstile_station "
   ]
  },
  {
   "cell_type": "markdown",
   "metadata": {},
   "source": [
    "For this to be useful regarding income levels in neighborhoods (which will probably exists by zip code), \n",
    "\n",
    "we'd have to merge this station we'd have to use library that gets zip code from lat and longitude\n",
    "\n",
    "I believe the one to use is probably geopy: \n",
    "[geopy](https://geopy.readthedocs.io/en/stable/)"
   ]
  },
  {
   "cell_type": "markdown",
   "metadata": {},
   "source": [
    "These might or not be helpful:\n",
    "\n",
    "[income by zip](https://www.incomebyzipcode.com/newyork)\n",
    "\n",
    "[open data nyc](https://opendata.cityofnewyork.us/)    "
   ]
  },
  {
   "cell_type": "code",
   "execution_count": null,
   "metadata": {},
   "outputs": [],
   "source": []
  }
 ],
 "metadata": {
  "kernelspec": {
   "display_name": "Python 3",
   "language": "python",
   "name": "python3"
  },
  "language_info": {
   "codemirror_mode": {
    "name": "ipython",
    "version": 3
   },
   "file_extension": ".py",
   "mimetype": "text/x-python",
   "name": "python",
   "nbconvert_exporter": "python",
   "pygments_lexer": "ipython3",
   "version": "3.8.5"
  }
 },
 "nbformat": 4,
 "nbformat_minor": 4
}
