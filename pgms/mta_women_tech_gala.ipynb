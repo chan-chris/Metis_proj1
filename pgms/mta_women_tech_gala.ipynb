{
 "cells": [
  {
   "cell_type": "code",
   "execution_count": null,
   "metadata": {},
   "outputs": [],
   "source": [
    "import pandas as pd\n",
    "from matplotlib import pyplot as plt\n",
    "import datetime\n",
    "import seaborn as sb"
   ]
  },
  {
   "cell_type": "code",
   "execution_count": null,
   "metadata": {},
   "outputs": [],
   "source": [
    "#initialise the number of weeks for the dataset\n",
    "num_weeks = 1\n",
    "\n",
    "#initialise the date for the first week of the dataset (week ending on start_date)\n",
    "start_date = filedate = pd.Timestamp('2019-07-06 00:00:00')\n",
    "\n",
    "#initialise the regex for the MTA turnstile url\n",
    "filename_regex = \"http://web.mta.info/developers/data/nyct/turnstile/turnstile_{}.txt\"\n",
    "\n",
    "filelist = []\n",
    "\n",
    "for numfiles in range (num_weeks):\n",
    "\n",
    "    # create the appropriate filename for the week\n",
    "    filedate_str = str(filedate.year)[2:4] + str(filedate.month).zfill(2) + str(filedate.day).zfill(2)\n",
    "    filename = filename_regex.format(filedate_str)\n",
    "\n",
    "    # read the file and append it to the list of files to be concacated\n",
    "    #df = pd.read_csv(filename, parse_dates=['DATE'], keep_date_col=True)  \n",
    "    df = pd.read_csv(filename, keep_date_col=True)\n",
    "    filelist.append(df)\n",
    "\n",
    "    # advance to the next week\n",
    "    filedate += pd.Timedelta(days=7)\n",
    "\n",
    "df = pd.concat(filelist, axis=0, ignore_index=True)"
   ]
  },
  {
   "cell_type": "markdown",
   "metadata": {},
   "source": [
    "This next cell is legacy code from before we captured multiple weeks at a time"
   ]
  },
  {
   "cell_type": "code",
   "execution_count": null,
   "metadata": {},
   "outputs": [],
   "source": [
    "# turnstile_data_source = 'http://web.mta.info/developers/data/nyct/turnstile/'\n",
    "    \n",
    "# turnstile_filename1 = 'turnstile_190713.txt'\n",
    "# #st = turnstile_data_source + '/' + turnstile_filename1\n",
    "\n",
    "# df = pd.read_csv(turnstile_data_source + '/' + turnstile_filename1)"
   ]
  },
  {
   "cell_type": "code",
   "execution_count": 3,
   "metadata": {},
   "outputs": [
    {
     "data": {
      "text/plain": [
       "Index(['C/A', 'UNIT', 'SCP', 'STATION', 'LINENAME', 'DIVISION', 'DATE', 'TIME',\n",
       "       'DESC', 'ENTRIES',\n",
       "       'EXITS                                                               '],\n",
       "      dtype='object')"
      ]
     },
     "execution_count": 3,
     "metadata": {},
     "output_type": "execute_result"
    }
   ],
   "source": [
    "df.columns"
   ]
  },
  {
   "cell_type": "code",
   "execution_count": 4,
   "metadata": {},
   "outputs": [],
   "source": [
    "# rename columns since the last column, 'EXITS', contains trailing whitespace\n",
    "df.columns = df.columns.str.replace(r'\\s+', '')\n",
    "\n",
    "df[\"EXITS\"] = pd.to_numeric(df[\"EXITS\"])\n",
    "df[\"ENTRIES\"] = pd.to_numeric(df[\"ENTRIES\"])\n",
    "\n"
   ]
  },
  {
   "cell_type": "markdown",
   "metadata": {},
   "source": [
    "******\n",
    "#### New code to convert date and time strings to data and time datatypes, and then generate a composed datetime column"
   ]
  },
  {
   "cell_type": "code",
   "execution_count": 5,
   "metadata": {},
   "outputs": [],
   "source": [
    "df['Datetime'] = pd.to_datetime(df.DATE + df.TIME, format='%m/%d/%Y%H:%M:%S')"
   ]
  },
  {
   "cell_type": "markdown",
   "metadata": {},
   "source": [
    "New code that makes a dictionary for days-of-week as number to days of week as words.\n",
    "Then generate a new column that provides days of any date given."
   ]
  },
  {
   "cell_type": "code",
   "execution_count": null,
   "metadata": {},
   "outputs": [],
   "source": [
    "# We'll now get days of the week instead at a later step\n",
    "\n",
    "# days_of_week = {0: 'Monday', 1:'Tuesday', 2:'Wednesday',3:'Thursday',4:'Friday', 5:'Saturday', 6:'Sunday'}\n",
    "# df['Day_of_week'] = [days_of_week[datetime.datetime.weekday(date)] for date in df['Datetime']]\n",
    "# df.sample(10)"
   ]
  },
  {
   "cell_type": "markdown",
   "metadata": {},
   "source": [
    "Trying to groupby to get counter-runs isolated"
   ]
  },
  {
   "cell_type": "code",
   "execution_count": 6,
   "metadata": {},
   "outputs": [],
   "source": [
    "df['Traffic_running_total']=df['ENTRIES']+df['EXITS']"
   ]
  },
  {
   "cell_type": "code",
   "execution_count": 7,
   "metadata": {},
   "outputs": [],
   "source": [
    "# creating DF: grouping by unique turnstile and date to remove dups\n",
    "turnstiles_4hourly = (df.groupby([\"C/A\", \"UNIT\", \"SCP\", \"STATION\", \"Datetime\"],as_index=False)).Traffic_running_total.first()"
   ]
  },
  {
   "cell_type": "code",
   "execution_count": 8,
   "metadata": {},
   "outputs": [
    {
     "data": {
      "text/html": [
       "<div>\n",
       "<style scoped>\n",
       "    .dataframe tbody tr th:only-of-type {\n",
       "        vertical-align: middle;\n",
       "    }\n",
       "\n",
       "    .dataframe tbody tr th {\n",
       "        vertical-align: top;\n",
       "    }\n",
       "\n",
       "    .dataframe thead th {\n",
       "        text-align: right;\n",
       "    }\n",
       "</style>\n",
       "<table border=\"1\" class=\"dataframe\">\n",
       "  <thead>\n",
       "    <tr style=\"text-align: right;\">\n",
       "      <th></th>\n",
       "      <th>C/A</th>\n",
       "      <th>UNIT</th>\n",
       "      <th>SCP</th>\n",
       "      <th>STATION</th>\n",
       "      <th>Datetime</th>\n",
       "      <th>Traffic_running_total</th>\n",
       "    </tr>\n",
       "  </thead>\n",
       "  <tbody>\n",
       "    <tr>\n",
       "      <th>0</th>\n",
       "      <td>A002</td>\n",
       "      <td>R051</td>\n",
       "      <td>02-00-00</td>\n",
       "      <td>59 ST</td>\n",
       "      <td>2019-06-29 00:00:00</td>\n",
       "      <td>9526917</td>\n",
       "    </tr>\n",
       "    <tr>\n",
       "      <th>1</th>\n",
       "      <td>A002</td>\n",
       "      <td>R051</td>\n",
       "      <td>02-00-00</td>\n",
       "      <td>59 ST</td>\n",
       "      <td>2019-06-29 08:00:00</td>\n",
       "      <td>9526988</td>\n",
       "    </tr>\n",
       "    <tr>\n",
       "      <th>2</th>\n",
       "      <td>A002</td>\n",
       "      <td>R051</td>\n",
       "      <td>02-00-00</td>\n",
       "      <td>59 ST</td>\n",
       "      <td>2019-06-29 12:00:00</td>\n",
       "      <td>9527144</td>\n",
       "    </tr>\n",
       "    <tr>\n",
       "      <th>3</th>\n",
       "      <td>A002</td>\n",
       "      <td>R051</td>\n",
       "      <td>02-00-00</td>\n",
       "      <td>59 ST</td>\n",
       "      <td>2019-06-29 16:00:00</td>\n",
       "      <td>9527422</td>\n",
       "    </tr>\n",
       "    <tr>\n",
       "      <th>4</th>\n",
       "      <td>A002</td>\n",
       "      <td>R051</td>\n",
       "      <td>02-00-00</td>\n",
       "      <td>59 ST</td>\n",
       "      <td>2019-06-29 20:00:00</td>\n",
       "      <td>9527727</td>\n",
       "    </tr>\n",
       "    <tr>\n",
       "      <th>5</th>\n",
       "      <td>A002</td>\n",
       "      <td>R051</td>\n",
       "      <td>02-00-00</td>\n",
       "      <td>59 ST</td>\n",
       "      <td>2019-06-30 00:00:00</td>\n",
       "      <td>9527886</td>\n",
       "    </tr>\n",
       "    <tr>\n",
       "      <th>6</th>\n",
       "      <td>A002</td>\n",
       "      <td>R051</td>\n",
       "      <td>02-00-00</td>\n",
       "      <td>59 ST</td>\n",
       "      <td>2019-06-30 04:00:00</td>\n",
       "      <td>9527923</td>\n",
       "    </tr>\n",
       "    <tr>\n",
       "      <th>7</th>\n",
       "      <td>A002</td>\n",
       "      <td>R051</td>\n",
       "      <td>02-00-00</td>\n",
       "      <td>59 ST</td>\n",
       "      <td>2019-06-30 08:00:00</td>\n",
       "      <td>9527954</td>\n",
       "    </tr>\n",
       "    <tr>\n",
       "      <th>8</th>\n",
       "      <td>A002</td>\n",
       "      <td>R051</td>\n",
       "      <td>02-00-00</td>\n",
       "      <td>59 ST</td>\n",
       "      <td>2019-06-30 12:00:00</td>\n",
       "      <td>9528096</td>\n",
       "    </tr>\n",
       "    <tr>\n",
       "      <th>9</th>\n",
       "      <td>A002</td>\n",
       "      <td>R051</td>\n",
       "      <td>02-00-00</td>\n",
       "      <td>59 ST</td>\n",
       "      <td>2019-06-30 16:00:00</td>\n",
       "      <td>9528334</td>\n",
       "    </tr>\n",
       "  </tbody>\n",
       "</table>\n",
       "</div>"
      ],
      "text/plain": [
       "    C/A  UNIT       SCP STATION            Datetime  Traffic_running_total\n",
       "0  A002  R051  02-00-00   59 ST 2019-06-29 00:00:00                9526917\n",
       "1  A002  R051  02-00-00   59 ST 2019-06-29 08:00:00                9526988\n",
       "2  A002  R051  02-00-00   59 ST 2019-06-29 12:00:00                9527144\n",
       "3  A002  R051  02-00-00   59 ST 2019-06-29 16:00:00                9527422\n",
       "4  A002  R051  02-00-00   59 ST 2019-06-29 20:00:00                9527727\n",
       "5  A002  R051  02-00-00   59 ST 2019-06-30 00:00:00                9527886\n",
       "6  A002  R051  02-00-00   59 ST 2019-06-30 04:00:00                9527923\n",
       "7  A002  R051  02-00-00   59 ST 2019-06-30 08:00:00                9527954\n",
       "8  A002  R051  02-00-00   59 ST 2019-06-30 12:00:00                9528096\n",
       "9  A002  R051  02-00-00   59 ST 2019-06-30 16:00:00                9528334"
      ]
     },
     "execution_count": 8,
     "metadata": {},
     "output_type": "execute_result"
    }
   ],
   "source": [
    "turnstiles_4hourly.head(10)"
   ]
  },
  {
   "cell_type": "code",
   "execution_count": 9,
   "metadata": {},
   "outputs": [
    {
     "name": "stderr",
     "output_type": "stream",
     "text": [
      "<ipython-input-9-4dbeff6a8812>:3: FutureWarning: Indexing with multiple keys (implicitly converted to a tuple of keys) will be deprecated, use a list instead.\n",
      "  turnstiles_4hourly[[\"PREV_TIME\", \"PREV_Traffic_running_total\"]] = (turnstiles_4hourly\n"
     ]
    }
   ],
   "source": [
    "# apply shift of datetime and running total to compute the diff in running total traffic\n",
    "\n",
    "turnstiles_4hourly[[\"PREV_TIME\", \"PREV_Traffic_running_total\"]] = (turnstiles_4hourly\n",
    "                                                       .groupby([\"C/A\", \"UNIT\", \"SCP\", \"STATION\"])[\"Datetime\", \"Traffic_running_total\"]\n",
    "                                                       .apply(lambda grp: grp.shift(1)))"
   ]
  },
  {
   "cell_type": "code",
   "execution_count": 10,
   "metadata": {},
   "outputs": [
    {
     "data": {
      "text/html": [
       "<div>\n",
       "<style scoped>\n",
       "    .dataframe tbody tr th:only-of-type {\n",
       "        vertical-align: middle;\n",
       "    }\n",
       "\n",
       "    .dataframe tbody tr th {\n",
       "        vertical-align: top;\n",
       "    }\n",
       "\n",
       "    .dataframe thead th {\n",
       "        text-align: right;\n",
       "    }\n",
       "</style>\n",
       "<table border=\"1\" class=\"dataframe\">\n",
       "  <thead>\n",
       "    <tr style=\"text-align: right;\">\n",
       "      <th></th>\n",
       "      <th>C/A</th>\n",
       "      <th>UNIT</th>\n",
       "      <th>SCP</th>\n",
       "      <th>STATION</th>\n",
       "      <th>Datetime</th>\n",
       "      <th>Traffic_running_total</th>\n",
       "      <th>PREV_TIME</th>\n",
       "      <th>PREV_Traffic_running_total</th>\n",
       "    </tr>\n",
       "  </thead>\n",
       "  <tbody>\n",
       "    <tr>\n",
       "      <th>40</th>\n",
       "      <td>A002</td>\n",
       "      <td>R051</td>\n",
       "      <td>02-00-00</td>\n",
       "      <td>59 ST</td>\n",
       "      <td>2019-07-05 20:00:00</td>\n",
       "      <td>9536469</td>\n",
       "      <td>2019-07-05 16:00:00</td>\n",
       "      <td>9535988.0</td>\n",
       "    </tr>\n",
       "    <tr>\n",
       "      <th>41</th>\n",
       "      <td>A002</td>\n",
       "      <td>R051</td>\n",
       "      <td>02-00-01</td>\n",
       "      <td>59 ST</td>\n",
       "      <td>2019-06-29 00:00:00</td>\n",
       "      <td>7755866</td>\n",
       "      <td>NaT</td>\n",
       "      <td>NaN</td>\n",
       "    </tr>\n",
       "    <tr>\n",
       "      <th>42</th>\n",
       "      <td>A002</td>\n",
       "      <td>R051</td>\n",
       "      <td>02-00-01</td>\n",
       "      <td>59 ST</td>\n",
       "      <td>2019-06-29 08:00:00</td>\n",
       "      <td>7755918</td>\n",
       "      <td>2019-06-29 00:00:00</td>\n",
       "      <td>7755866.0</td>\n",
       "    </tr>\n",
       "    <tr>\n",
       "      <th>43</th>\n",
       "      <td>A002</td>\n",
       "      <td>R051</td>\n",
       "      <td>02-00-01</td>\n",
       "      <td>59 ST</td>\n",
       "      <td>2019-06-29 12:00:00</td>\n",
       "      <td>7756051</td>\n",
       "      <td>2019-06-29 08:00:00</td>\n",
       "      <td>7755918.0</td>\n",
       "    </tr>\n",
       "    <tr>\n",
       "      <th>44</th>\n",
       "      <td>A002</td>\n",
       "      <td>R051</td>\n",
       "      <td>02-00-01</td>\n",
       "      <td>59 ST</td>\n",
       "      <td>2019-06-29 16:00:00</td>\n",
       "      <td>7756256</td>\n",
       "      <td>2019-06-29 12:00:00</td>\n",
       "      <td>7756051.0</td>\n",
       "    </tr>\n",
       "  </tbody>\n",
       "</table>\n",
       "</div>"
      ],
      "text/plain": [
       "     C/A  UNIT       SCP STATION            Datetime  Traffic_running_total  \\\n",
       "40  A002  R051  02-00-00   59 ST 2019-07-05 20:00:00                9536469   \n",
       "41  A002  R051  02-00-01   59 ST 2019-06-29 00:00:00                7755866   \n",
       "42  A002  R051  02-00-01   59 ST 2019-06-29 08:00:00                7755918   \n",
       "43  A002  R051  02-00-01   59 ST 2019-06-29 12:00:00                7756051   \n",
       "44  A002  R051  02-00-01   59 ST 2019-06-29 16:00:00                7756256   \n",
       "\n",
       "             PREV_TIME  PREV_Traffic_running_total  \n",
       "40 2019-07-05 16:00:00                   9535988.0  \n",
       "41                 NaT                         NaN  \n",
       "42 2019-06-29 00:00:00                   7755866.0  \n",
       "43 2019-06-29 08:00:00                   7755918.0  \n",
       "44 2019-06-29 12:00:00                   7756051.0  "
      ]
     },
     "execution_count": 10,
     "metadata": {},
     "output_type": "execute_result"
    }
   ],
   "source": [
    "turnstiles_4hourly.iloc[40:45]"
   ]
  },
  {
   "cell_type": "code",
   "execution_count": 11,
   "metadata": {},
   "outputs": [],
   "source": [
    "# create separate hour var\n",
    "turnstiles_4hourly[\"Hour\"]=pd.to_datetime(turnstiles_4hourly['Datetime']).dt.hour"
   ]
  },
  {
   "cell_type": "code",
   "execution_count": 12,
   "metadata": {},
   "outputs": [],
   "source": [
    "# compute traffic per hour\n",
    "turnstiles_4hourly[\"Delta_hours\"]=pd.to_datetime(turnstiles_4hourly['Datetime']).dt.hour - pd.to_datetime(turnstiles_4hourly['PREV_TIME']).dt.hour\n",
    "turnstiles_4hourly[\"People_per_hour\"] = (turnstiles_4hourly[\"Traffic_running_total\"] - turnstiles_4hourly[\"PREV_Traffic_running_total\"])/turnstiles_4hourly[\"Delta_hours\"]"
   ]
  },
  {
   "cell_type": "code",
   "execution_count": 13,
   "metadata": {},
   "outputs": [
    {
     "data": {
      "text/html": [
       "<div>\n",
       "<style scoped>\n",
       "    .dataframe tbody tr th:only-of-type {\n",
       "        vertical-align: middle;\n",
       "    }\n",
       "\n",
       "    .dataframe tbody tr th {\n",
       "        vertical-align: top;\n",
       "    }\n",
       "\n",
       "    .dataframe thead th {\n",
       "        text-align: right;\n",
       "    }\n",
       "</style>\n",
       "<table border=\"1\" class=\"dataframe\">\n",
       "  <thead>\n",
       "    <tr style=\"text-align: right;\">\n",
       "      <th></th>\n",
       "      <th>C/A</th>\n",
       "      <th>UNIT</th>\n",
       "      <th>SCP</th>\n",
       "      <th>STATION</th>\n",
       "      <th>Datetime</th>\n",
       "      <th>Traffic_running_total</th>\n",
       "      <th>PREV_TIME</th>\n",
       "      <th>PREV_Traffic_running_total</th>\n",
       "      <th>Hour</th>\n",
       "      <th>Delta_hours</th>\n",
       "      <th>People_per_hour</th>\n",
       "    </tr>\n",
       "  </thead>\n",
       "  <tbody>\n",
       "    <tr>\n",
       "      <th>40</th>\n",
       "      <td>A002</td>\n",
       "      <td>R051</td>\n",
       "      <td>02-00-00</td>\n",
       "      <td>59 ST</td>\n",
       "      <td>2019-07-05 20:00:00</td>\n",
       "      <td>9536469</td>\n",
       "      <td>2019-07-05 16:00:00</td>\n",
       "      <td>9535988.0</td>\n",
       "      <td>20</td>\n",
       "      <td>4.0</td>\n",
       "      <td>120.25</td>\n",
       "    </tr>\n",
       "    <tr>\n",
       "      <th>41</th>\n",
       "      <td>A002</td>\n",
       "      <td>R051</td>\n",
       "      <td>02-00-01</td>\n",
       "      <td>59 ST</td>\n",
       "      <td>2019-06-29 00:00:00</td>\n",
       "      <td>7755866</td>\n",
       "      <td>NaT</td>\n",
       "      <td>NaN</td>\n",
       "      <td>0</td>\n",
       "      <td>NaN</td>\n",
       "      <td>NaN</td>\n",
       "    </tr>\n",
       "    <tr>\n",
       "      <th>42</th>\n",
       "      <td>A002</td>\n",
       "      <td>R051</td>\n",
       "      <td>02-00-01</td>\n",
       "      <td>59 ST</td>\n",
       "      <td>2019-06-29 08:00:00</td>\n",
       "      <td>7755918</td>\n",
       "      <td>2019-06-29 00:00:00</td>\n",
       "      <td>7755866.0</td>\n",
       "      <td>8</td>\n",
       "      <td>8.0</td>\n",
       "      <td>6.50</td>\n",
       "    </tr>\n",
       "    <tr>\n",
       "      <th>43</th>\n",
       "      <td>A002</td>\n",
       "      <td>R051</td>\n",
       "      <td>02-00-01</td>\n",
       "      <td>59 ST</td>\n",
       "      <td>2019-06-29 12:00:00</td>\n",
       "      <td>7756051</td>\n",
       "      <td>2019-06-29 08:00:00</td>\n",
       "      <td>7755918.0</td>\n",
       "      <td>12</td>\n",
       "      <td>4.0</td>\n",
       "      <td>33.25</td>\n",
       "    </tr>\n",
       "    <tr>\n",
       "      <th>44</th>\n",
       "      <td>A002</td>\n",
       "      <td>R051</td>\n",
       "      <td>02-00-01</td>\n",
       "      <td>59 ST</td>\n",
       "      <td>2019-06-29 16:00:00</td>\n",
       "      <td>7756256</td>\n",
       "      <td>2019-06-29 12:00:00</td>\n",
       "      <td>7756051.0</td>\n",
       "      <td>16</td>\n",
       "      <td>4.0</td>\n",
       "      <td>51.25</td>\n",
       "    </tr>\n",
       "  </tbody>\n",
       "</table>\n",
       "</div>"
      ],
      "text/plain": [
       "     C/A  UNIT       SCP STATION            Datetime  Traffic_running_total  \\\n",
       "40  A002  R051  02-00-00   59 ST 2019-07-05 20:00:00                9536469   \n",
       "41  A002  R051  02-00-01   59 ST 2019-06-29 00:00:00                7755866   \n",
       "42  A002  R051  02-00-01   59 ST 2019-06-29 08:00:00                7755918   \n",
       "43  A002  R051  02-00-01   59 ST 2019-06-29 12:00:00                7756051   \n",
       "44  A002  R051  02-00-01   59 ST 2019-06-29 16:00:00                7756256   \n",
       "\n",
       "             PREV_TIME  PREV_Traffic_running_total  Hour  Delta_hours  \\\n",
       "40 2019-07-05 16:00:00                   9535988.0    20          4.0   \n",
       "41                 NaT                         NaN     0          NaN   \n",
       "42 2019-06-29 00:00:00                   7755866.0     8          8.0   \n",
       "43 2019-06-29 08:00:00                   7755918.0    12          4.0   \n",
       "44 2019-06-29 12:00:00                   7756051.0    16          4.0   \n",
       "\n",
       "    People_per_hour  \n",
       "40           120.25  \n",
       "41              NaN  \n",
       "42             6.50  \n",
       "43            33.25  \n",
       "44            51.25  "
      ]
     },
     "execution_count": 13,
     "metadata": {},
     "output_type": "execute_result"
    }
   ],
   "source": [
    "turnstiles_4hourly.iloc[40:45]"
   ]
  },
  {
   "cell_type": "code",
   "execution_count": 14,
   "metadata": {},
   "outputs": [],
   "source": [
    "# based on datetime, create numeric and str days of week vars\n",
    "days_of_week = {0: 'Monday', 1:'Tuesday', 2:'Wednesday',3:'Thursday',4:'Friday', 5:'Saturday', 6:'Sunday'}\n",
    "turnstiles_4hourly['Day_num'] = [datetime.datetime.weekday(date) for date in turnstiles_4hourly['Datetime']]\n",
    "turnstiles_4hourly['Day_of_week'] = [days_of_week[datetime.datetime.weekday(date)] for date in turnstiles_4hourly['Datetime']]"
   ]
  },
  {
   "cell_type": "code",
   "execution_count": 15,
   "metadata": {
    "scrolled": false
   },
   "outputs": [
    {
     "data": {
      "text/html": [
       "<div>\n",
       "<style scoped>\n",
       "    .dataframe tbody tr th:only-of-type {\n",
       "        vertical-align: middle;\n",
       "    }\n",
       "\n",
       "    .dataframe tbody tr th {\n",
       "        vertical-align: top;\n",
       "    }\n",
       "\n",
       "    .dataframe thead th {\n",
       "        text-align: right;\n",
       "    }\n",
       "</style>\n",
       "<table border=\"1\" class=\"dataframe\">\n",
       "  <thead>\n",
       "    <tr style=\"text-align: right;\">\n",
       "      <th></th>\n",
       "      <th>C/A</th>\n",
       "      <th>UNIT</th>\n",
       "      <th>SCP</th>\n",
       "      <th>STATION</th>\n",
       "      <th>Datetime</th>\n",
       "      <th>Traffic_running_total</th>\n",
       "      <th>PREV_TIME</th>\n",
       "      <th>PREV_Traffic_running_total</th>\n",
       "      <th>Hour</th>\n",
       "      <th>Delta_hours</th>\n",
       "      <th>People_per_hour</th>\n",
       "      <th>Day_num</th>\n",
       "      <th>Day_of_week</th>\n",
       "    </tr>\n",
       "  </thead>\n",
       "  <tbody>\n",
       "    <tr>\n",
       "      <th>40</th>\n",
       "      <td>A002</td>\n",
       "      <td>R051</td>\n",
       "      <td>02-00-00</td>\n",
       "      <td>59 ST</td>\n",
       "      <td>2019-07-05 20:00:00</td>\n",
       "      <td>9536469</td>\n",
       "      <td>2019-07-05 16:00:00</td>\n",
       "      <td>9535988.0</td>\n",
       "      <td>20</td>\n",
       "      <td>4.0</td>\n",
       "      <td>120.25</td>\n",
       "      <td>4</td>\n",
       "      <td>Friday</td>\n",
       "    </tr>\n",
       "    <tr>\n",
       "      <th>41</th>\n",
       "      <td>A002</td>\n",
       "      <td>R051</td>\n",
       "      <td>02-00-01</td>\n",
       "      <td>59 ST</td>\n",
       "      <td>2019-06-29 00:00:00</td>\n",
       "      <td>7755866</td>\n",
       "      <td>NaT</td>\n",
       "      <td>NaN</td>\n",
       "      <td>0</td>\n",
       "      <td>NaN</td>\n",
       "      <td>NaN</td>\n",
       "      <td>5</td>\n",
       "      <td>Saturday</td>\n",
       "    </tr>\n",
       "    <tr>\n",
       "      <th>42</th>\n",
       "      <td>A002</td>\n",
       "      <td>R051</td>\n",
       "      <td>02-00-01</td>\n",
       "      <td>59 ST</td>\n",
       "      <td>2019-06-29 08:00:00</td>\n",
       "      <td>7755918</td>\n",
       "      <td>2019-06-29 00:00:00</td>\n",
       "      <td>7755866.0</td>\n",
       "      <td>8</td>\n",
       "      <td>8.0</td>\n",
       "      <td>6.50</td>\n",
       "      <td>5</td>\n",
       "      <td>Saturday</td>\n",
       "    </tr>\n",
       "    <tr>\n",
       "      <th>43</th>\n",
       "      <td>A002</td>\n",
       "      <td>R051</td>\n",
       "      <td>02-00-01</td>\n",
       "      <td>59 ST</td>\n",
       "      <td>2019-06-29 12:00:00</td>\n",
       "      <td>7756051</td>\n",
       "      <td>2019-06-29 08:00:00</td>\n",
       "      <td>7755918.0</td>\n",
       "      <td>12</td>\n",
       "      <td>4.0</td>\n",
       "      <td>33.25</td>\n",
       "      <td>5</td>\n",
       "      <td>Saturday</td>\n",
       "    </tr>\n",
       "    <tr>\n",
       "      <th>44</th>\n",
       "      <td>A002</td>\n",
       "      <td>R051</td>\n",
       "      <td>02-00-01</td>\n",
       "      <td>59 ST</td>\n",
       "      <td>2019-06-29 16:00:00</td>\n",
       "      <td>7756256</td>\n",
       "      <td>2019-06-29 12:00:00</td>\n",
       "      <td>7756051.0</td>\n",
       "      <td>16</td>\n",
       "      <td>4.0</td>\n",
       "      <td>51.25</td>\n",
       "      <td>5</td>\n",
       "      <td>Saturday</td>\n",
       "    </tr>\n",
       "  </tbody>\n",
       "</table>\n",
       "</div>"
      ],
      "text/plain": [
       "     C/A  UNIT       SCP STATION            Datetime  Traffic_running_total  \\\n",
       "40  A002  R051  02-00-00   59 ST 2019-07-05 20:00:00                9536469   \n",
       "41  A002  R051  02-00-01   59 ST 2019-06-29 00:00:00                7755866   \n",
       "42  A002  R051  02-00-01   59 ST 2019-06-29 08:00:00                7755918   \n",
       "43  A002  R051  02-00-01   59 ST 2019-06-29 12:00:00                7756051   \n",
       "44  A002  R051  02-00-01   59 ST 2019-06-29 16:00:00                7756256   \n",
       "\n",
       "             PREV_TIME  PREV_Traffic_running_total  Hour  Delta_hours  \\\n",
       "40 2019-07-05 16:00:00                   9535988.0    20          4.0   \n",
       "41                 NaT                         NaN     0          NaN   \n",
       "42 2019-06-29 00:00:00                   7755866.0     8          8.0   \n",
       "43 2019-06-29 08:00:00                   7755918.0    12          4.0   \n",
       "44 2019-06-29 12:00:00                   7756051.0    16          4.0   \n",
       "\n",
       "    People_per_hour  Day_num Day_of_week  \n",
       "40           120.25        4      Friday  \n",
       "41              NaN        5    Saturday  \n",
       "42             6.50        5    Saturday  \n",
       "43            33.25        5    Saturday  \n",
       "44            51.25        5    Saturday  "
      ]
     },
     "execution_count": 15,
     "metadata": {},
     "output_type": "execute_result"
    }
   ],
   "source": [
    "turnstiles_4hourly.iloc[40:45]"
   ]
  },
  {
   "cell_type": "code",
   "execution_count": 16,
   "metadata": {},
   "outputs": [
    {
     "data": {
      "text/html": [
       "<div>\n",
       "<style scoped>\n",
       "    .dataframe tbody tr th:only-of-type {\n",
       "        vertical-align: middle;\n",
       "    }\n",
       "\n",
       "    .dataframe tbody tr th {\n",
       "        vertical-align: top;\n",
       "    }\n",
       "\n",
       "    .dataframe thead th {\n",
       "        text-align: right;\n",
       "    }\n",
       "</style>\n",
       "<table border=\"1\" class=\"dataframe\">\n",
       "  <thead>\n",
       "    <tr style=\"text-align: right;\">\n",
       "      <th></th>\n",
       "      <th>C/A</th>\n",
       "      <th>UNIT</th>\n",
       "      <th>SCP</th>\n",
       "      <th>STATION</th>\n",
       "      <th>Datetime</th>\n",
       "      <th>Traffic_running_total</th>\n",
       "      <th>PREV_TIME</th>\n",
       "      <th>PREV_Traffic_running_total</th>\n",
       "      <th>Hour</th>\n",
       "      <th>Delta_hours</th>\n",
       "      <th>People_per_hour</th>\n",
       "      <th>Day_num</th>\n",
       "      <th>Day_of_week</th>\n",
       "      <th>Day_hour</th>\n",
       "    </tr>\n",
       "  </thead>\n",
       "  <tbody>\n",
       "    <tr>\n",
       "      <th>40</th>\n",
       "      <td>A002</td>\n",
       "      <td>R051</td>\n",
       "      <td>02-00-00</td>\n",
       "      <td>59 ST</td>\n",
       "      <td>2019-07-05 20:00:00</td>\n",
       "      <td>9536469</td>\n",
       "      <td>2019-07-05 16:00:00</td>\n",
       "      <td>9535988.0</td>\n",
       "      <td>20</td>\n",
       "      <td>4.0</td>\n",
       "      <td>120.25</td>\n",
       "      <td>4</td>\n",
       "      <td>Friday</td>\n",
       "      <td>4.833333</td>\n",
       "    </tr>\n",
       "    <tr>\n",
       "      <th>41</th>\n",
       "      <td>A002</td>\n",
       "      <td>R051</td>\n",
       "      <td>02-00-01</td>\n",
       "      <td>59 ST</td>\n",
       "      <td>2019-06-29 00:00:00</td>\n",
       "      <td>7755866</td>\n",
       "      <td>NaT</td>\n",
       "      <td>NaN</td>\n",
       "      <td>0</td>\n",
       "      <td>NaN</td>\n",
       "      <td>NaN</td>\n",
       "      <td>5</td>\n",
       "      <td>Saturday</td>\n",
       "      <td>5.000000</td>\n",
       "    </tr>\n",
       "    <tr>\n",
       "      <th>42</th>\n",
       "      <td>A002</td>\n",
       "      <td>R051</td>\n",
       "      <td>02-00-01</td>\n",
       "      <td>59 ST</td>\n",
       "      <td>2019-06-29 08:00:00</td>\n",
       "      <td>7755918</td>\n",
       "      <td>2019-06-29 00:00:00</td>\n",
       "      <td>7755866.0</td>\n",
       "      <td>8</td>\n",
       "      <td>8.0</td>\n",
       "      <td>6.50</td>\n",
       "      <td>5</td>\n",
       "      <td>Saturday</td>\n",
       "      <td>5.333333</td>\n",
       "    </tr>\n",
       "    <tr>\n",
       "      <th>43</th>\n",
       "      <td>A002</td>\n",
       "      <td>R051</td>\n",
       "      <td>02-00-01</td>\n",
       "      <td>59 ST</td>\n",
       "      <td>2019-06-29 12:00:00</td>\n",
       "      <td>7756051</td>\n",
       "      <td>2019-06-29 08:00:00</td>\n",
       "      <td>7755918.0</td>\n",
       "      <td>12</td>\n",
       "      <td>4.0</td>\n",
       "      <td>33.25</td>\n",
       "      <td>5</td>\n",
       "      <td>Saturday</td>\n",
       "      <td>5.500000</td>\n",
       "    </tr>\n",
       "    <tr>\n",
       "      <th>44</th>\n",
       "      <td>A002</td>\n",
       "      <td>R051</td>\n",
       "      <td>02-00-01</td>\n",
       "      <td>59 ST</td>\n",
       "      <td>2019-06-29 16:00:00</td>\n",
       "      <td>7756256</td>\n",
       "      <td>2019-06-29 12:00:00</td>\n",
       "      <td>7756051.0</td>\n",
       "      <td>16</td>\n",
       "      <td>4.0</td>\n",
       "      <td>51.25</td>\n",
       "      <td>5</td>\n",
       "      <td>Saturday</td>\n",
       "      <td>5.666667</td>\n",
       "    </tr>\n",
       "  </tbody>\n",
       "</table>\n",
       "</div>"
      ],
      "text/plain": [
       "     C/A  UNIT       SCP STATION            Datetime  Traffic_running_total  \\\n",
       "40  A002  R051  02-00-00   59 ST 2019-07-05 20:00:00                9536469   \n",
       "41  A002  R051  02-00-01   59 ST 2019-06-29 00:00:00                7755866   \n",
       "42  A002  R051  02-00-01   59 ST 2019-06-29 08:00:00                7755918   \n",
       "43  A002  R051  02-00-01   59 ST 2019-06-29 12:00:00                7756051   \n",
       "44  A002  R051  02-00-01   59 ST 2019-06-29 16:00:00                7756256   \n",
       "\n",
       "             PREV_TIME  PREV_Traffic_running_total  Hour  Delta_hours  \\\n",
       "40 2019-07-05 16:00:00                   9535988.0    20          4.0   \n",
       "41                 NaT                         NaN     0          NaN   \n",
       "42 2019-06-29 00:00:00                   7755866.0     8          8.0   \n",
       "43 2019-06-29 08:00:00                   7755918.0    12          4.0   \n",
       "44 2019-06-29 12:00:00                   7756051.0    16          4.0   \n",
       "\n",
       "    People_per_hour  Day_num Day_of_week  Day_hour  \n",
       "40           120.25        4      Friday  4.833333  \n",
       "41              NaN        5    Saturday  5.000000  \n",
       "42             6.50        5    Saturday  5.333333  \n",
       "43            33.25        5    Saturday  5.500000  \n",
       "44            51.25        5    Saturday  5.666667  "
      ]
     },
     "execution_count": 16,
     "metadata": {},
     "output_type": "execute_result"
    }
   ],
   "source": [
    "# turnstiles_4hourly['Day_hour'] = \n",
    "turnstiles_4hourly[\"Day_hour\"]= turnstiles_4hourly[\"Day_num\"] + (turnstiles_4hourly[\"Hour\"])/24\n",
    "turnstiles_4hourly.iloc[40:45]"
   ]
  },
  {
   "cell_type": "code",
   "execution_count": 17,
   "metadata": {},
   "outputs": [],
   "source": [
    "# Use domain knowledge to select subway stops in and near the Flatiron district where there are many tech companies\n",
    "df_23st = df[df['STATION'].str.contains('23 ST')]\n",
    "\n",
    "# Four subway stops either in or near the Flatiron district\n",
    "flatiron = df_23st[df_23st['LINENAME'].str.contains('NRW')]\n",
    "gramercy = df_23st[df_23st['LINENAME'].str.contains('6')]\n",
    "east_chelsea = df_23st[df_23st['LINENAME'].str.contains('F')]\n",
    "union_sq = df[df['STATION'].str.contains('14 ST-UNION SQ')]"
   ]
  },
  {
   "cell_type": "markdown",
   "metadata": {},
   "source": [
    "Examine exits at different times in at the FI stop."
   ]
  },
  {
   "cell_type": "code",
   "execution_count": 18,
   "metadata": {},
   "outputs": [
    {
     "data": {
      "text/plain": [
       "<matplotlib.collections.PathCollection at 0x7fbc3b2acb50>"
      ]
     },
     "execution_count": 18,
     "metadata": {},
     "output_type": "execute_result"
    },
    {
     "data": {
      "image/png": "[encoded data removed]",
      "text/plain": [
       "<Figure size 432x288 with 1 Axes>"
      ]
     },
     "metadata": {
      "needs_background": "light"
     },
     "output_type": "display_data"
    }
   ],
   "source": [
    "# ignore\n",
    "plt.scatter(x=flatiron['TIME'], y=(flatiron['EXITS']).astype(int))"
   ]
  },
  {
   "cell_type": "markdown",
   "metadata": {},
   "source": [
    "This is not very helpful because times are in four-hour increments. \n",
    "\n",
    "To verify, let's sample the data and look at the TIME column: 16, 12, 0, 8, etc."
   ]
  },
  {
   "cell_type": "code",
   "execution_count": 19,
   "metadata": {},
   "outputs": [
    {
     "data": {
      "text/html": [
       "<div>\n",
       "<style scoped>\n",
       "    .dataframe tbody tr th:only-of-type {\n",
       "        vertical-align: middle;\n",
       "    }\n",
       "\n",
       "    .dataframe tbody tr th {\n",
       "        vertical-align: top;\n",
       "    }\n",
       "\n",
       "    .dataframe thead th {\n",
       "        text-align: right;\n",
       "    }\n",
       "</style>\n",
       "<table border=\"1\" class=\"dataframe\">\n",
       "  <thead>\n",
       "    <tr style=\"text-align: right;\">\n",
       "      <th></th>\n",
       "      <th>C/A</th>\n",
       "      <th>UNIT</th>\n",
       "      <th>SCP</th>\n",
       "      <th>STATION</th>\n",
       "      <th>LINENAME</th>\n",
       "      <th>DIVISION</th>\n",
       "      <th>DATE</th>\n",
       "      <th>TIME</th>\n",
       "      <th>DESC</th>\n",
       "      <th>ENTRIES</th>\n",
       "      <th>EXITS</th>\n",
       "      <th>Datetime</th>\n",
       "      <th>Traffic_running_total</th>\n",
       "    </tr>\n",
       "  </thead>\n",
       "  <tbody>\n",
       "    <tr>\n",
       "      <th>3941</th>\n",
       "      <td>A030</td>\n",
       "      <td>R083</td>\n",
       "      <td>01-00-00</td>\n",
       "      <td>23 ST</td>\n",
       "      <td>NRW</td>\n",
       "      <td>BMT</td>\n",
       "      <td>07/01/2019</td>\n",
       "      <td>16:00:00</td>\n",
       "      <td>REGULAR</td>\n",
       "      <td>98095</td>\n",
       "      <td>144112</td>\n",
       "      <td>2019-07-01 16:00:00</td>\n",
       "      <td>242207</td>\n",
       "    </tr>\n",
       "    <tr>\n",
       "      <th>4408</th>\n",
       "      <td>A031</td>\n",
       "      <td>R083</td>\n",
       "      <td>00-03-00</td>\n",
       "      <td>23 ST</td>\n",
       "      <td>NRW</td>\n",
       "      <td>BMT</td>\n",
       "      <td>07/02/2019</td>\n",
       "      <td>12:00:00</td>\n",
       "      <td>REGULAR</td>\n",
       "      <td>2816627</td>\n",
       "      <td>4793849</td>\n",
       "      <td>2019-07-02 12:00:00</td>\n",
       "      <td>7610476</td>\n",
       "    </tr>\n",
       "    <tr>\n",
       "      <th>4490</th>\n",
       "      <td>A031</td>\n",
       "      <td>R083</td>\n",
       "      <td>00-03-02</td>\n",
       "      <td>23 ST</td>\n",
       "      <td>NRW</td>\n",
       "      <td>BMT</td>\n",
       "      <td>07/02/2019</td>\n",
       "      <td>04:00:00</td>\n",
       "      <td>REGULAR</td>\n",
       "      <td>149119</td>\n",
       "      <td>187538</td>\n",
       "      <td>2019-07-02 04:00:00</td>\n",
       "      <td>336657</td>\n",
       "    </tr>\n",
       "    <tr>\n",
       "      <th>4454</th>\n",
       "      <td>A031</td>\n",
       "      <td>R083</td>\n",
       "      <td>00-03-01</td>\n",
       "      <td>23 ST</td>\n",
       "      <td>NRW</td>\n",
       "      <td>BMT</td>\n",
       "      <td>07/03/2019</td>\n",
       "      <td>04:00:00</td>\n",
       "      <td>REGULAR</td>\n",
       "      <td>4075980</td>\n",
       "      <td>4499820</td>\n",
       "      <td>2019-07-03 04:00:00</td>\n",
       "      <td>8575800</td>\n",
       "    </tr>\n",
       "    <tr>\n",
       "      <th>4240</th>\n",
       "      <td>A030</td>\n",
       "      <td>R083</td>\n",
       "      <td>01-06-01</td>\n",
       "      <td>23 ST</td>\n",
       "      <td>NRW</td>\n",
       "      <td>BMT</td>\n",
       "      <td>07/02/2019</td>\n",
       "      <td>12:00:00</td>\n",
       "      <td>REGULAR</td>\n",
       "      <td>85864759</td>\n",
       "      <td>1224417</td>\n",
       "      <td>2019-07-02 12:00:00</td>\n",
       "      <td>87089176</td>\n",
       "    </tr>\n",
       "    <tr>\n",
       "      <th>...</th>\n",
       "      <td>...</td>\n",
       "      <td>...</td>\n",
       "      <td>...</td>\n",
       "      <td>...</td>\n",
       "      <td>...</td>\n",
       "      <td>...</td>\n",
       "      <td>...</td>\n",
       "      <td>...</td>\n",
       "      <td>...</td>\n",
       "      <td>...</td>\n",
       "      <td>...</td>\n",
       "      <td>...</td>\n",
       "      <td>...</td>\n",
       "    </tr>\n",
       "    <tr>\n",
       "      <th>4410</th>\n",
       "      <td>A031</td>\n",
       "      <td>R083</td>\n",
       "      <td>00-03-00</td>\n",
       "      <td>23 ST</td>\n",
       "      <td>NRW</td>\n",
       "      <td>BMT</td>\n",
       "      <td>07/02/2019</td>\n",
       "      <td>20:00:00</td>\n",
       "      <td>REGULAR</td>\n",
       "      <td>2817002</td>\n",
       "      <td>4794219</td>\n",
       "      <td>2019-07-02 20:00:00</td>\n",
       "      <td>7611221</td>\n",
       "    </tr>\n",
       "    <tr>\n",
       "      <th>4416</th>\n",
       "      <td>A031</td>\n",
       "      <td>R083</td>\n",
       "      <td>00-03-00</td>\n",
       "      <td>23 ST</td>\n",
       "      <td>NRW</td>\n",
       "      <td>BMT</td>\n",
       "      <td>07/03/2019</td>\n",
       "      <td>20:00:00</td>\n",
       "      <td>REGULAR</td>\n",
       "      <td>2817619</td>\n",
       "      <td>4795038</td>\n",
       "      <td>2019-07-03 20:00:00</td>\n",
       "      <td>7612657</td>\n",
       "    </tr>\n",
       "    <tr>\n",
       "      <th>4025</th>\n",
       "      <td>A030</td>\n",
       "      <td>R083</td>\n",
       "      <td>01-00-02</td>\n",
       "      <td>23 ST</td>\n",
       "      <td>NRW</td>\n",
       "      <td>BMT</td>\n",
       "      <td>07/01/2019</td>\n",
       "      <td>16:00:00</td>\n",
       "      <td>REGULAR</td>\n",
       "      <td>5206668</td>\n",
       "      <td>2424894</td>\n",
       "      <td>2019-07-01 16:00:00</td>\n",
       "      <td>7631562</td>\n",
       "    </tr>\n",
       "    <tr>\n",
       "      <th>4400</th>\n",
       "      <td>A031</td>\n",
       "      <td>R083</td>\n",
       "      <td>00-03-00</td>\n",
       "      <td>23 ST</td>\n",
       "      <td>NRW</td>\n",
       "      <td>BMT</td>\n",
       "      <td>07/01/2019</td>\n",
       "      <td>04:00:00</td>\n",
       "      <td>REGULAR</td>\n",
       "      <td>2815994</td>\n",
       "      <td>4792466</td>\n",
       "      <td>2019-07-01 04:00:00</td>\n",
       "      <td>7608460</td>\n",
       "    </tr>\n",
       "    <tr>\n",
       "      <th>4478</th>\n",
       "      <td>A031</td>\n",
       "      <td>R083</td>\n",
       "      <td>00-03-02</td>\n",
       "      <td>23 ST</td>\n",
       "      <td>NRW</td>\n",
       "      <td>BMT</td>\n",
       "      <td>06/30/2019</td>\n",
       "      <td>04:00:00</td>\n",
       "      <td>REGULAR</td>\n",
       "      <td>146827</td>\n",
       "      <td>183892</td>\n",
       "      <td>2019-06-30 04:00:00</td>\n",
       "      <td>330719</td>\n",
       "    </tr>\n",
       "  </tbody>\n",
       "</table>\n",
       "<p>200 rows × 13 columns</p>\n",
       "</div>"
      ],
      "text/plain": [
       "       C/A  UNIT       SCP STATION LINENAME DIVISION        DATE      TIME  \\\n",
       "3941  A030  R083  01-00-00   23 ST      NRW      BMT  07/01/2019  16:00:00   \n",
       "4408  A031  R083  00-03-00   23 ST      NRW      BMT  07/02/2019  12:00:00   \n",
       "4490  A031  R083  00-03-02   23 ST      NRW      BMT  07/02/2019  04:00:00   \n",
       "4454  A031  R083  00-03-01   23 ST      NRW      BMT  07/03/2019  04:00:00   \n",
       "4240  A030  R083  01-06-01   23 ST      NRW      BMT  07/02/2019  12:00:00   \n",
       "...    ...   ...       ...     ...      ...      ...         ...       ...   \n",
       "4410  A031  R083  00-03-00   23 ST      NRW      BMT  07/02/2019  20:00:00   \n",
       "4416  A031  R083  00-03-00   23 ST      NRW      BMT  07/03/2019  20:00:00   \n",
       "4025  A030  R083  01-00-02   23 ST      NRW      BMT  07/01/2019  16:00:00   \n",
       "4400  A031  R083  00-03-00   23 ST      NRW      BMT  07/01/2019  04:00:00   \n",
       "4478  A031  R083  00-03-02   23 ST      NRW      BMT  06/30/2019  04:00:00   \n",
       "\n",
       "         DESC   ENTRIES    EXITS            Datetime  Traffic_running_total  \n",
       "3941  REGULAR     98095   144112 2019-07-01 16:00:00                 242207  \n",
       "4408  REGULAR   2816627  4793849 2019-07-02 12:00:00                7610476  \n",
       "4490  REGULAR    149119   187538 2019-07-02 04:00:00                 336657  \n",
       "4454  REGULAR   4075980  4499820 2019-07-03 04:00:00                8575800  \n",
       "4240  REGULAR  85864759  1224417 2019-07-02 12:00:00               87089176  \n",
       "...       ...       ...      ...                 ...                    ...  \n",
       "4410  REGULAR   2817002  4794219 2019-07-02 20:00:00                7611221  \n",
       "4416  REGULAR   2817619  4795038 2019-07-03 20:00:00                7612657  \n",
       "4025  REGULAR   5206668  2424894 2019-07-01 16:00:00                7631562  \n",
       "4400  REGULAR   2815994  4792466 2019-07-01 04:00:00                7608460  \n",
       "4478  REGULAR    146827   183892 2019-06-30 04:00:00                 330719  \n",
       "\n",
       "[200 rows x 13 columns]"
      ]
     },
     "execution_count": 19,
     "metadata": {},
     "output_type": "execute_result"
    }
   ],
   "source": [
    "flatiron.sample(200)"
   ]
  },
  {
   "cell_type": "code",
   "execution_count": 20,
   "metadata": {},
   "outputs": [
    {
     "data": {
      "text/plain": [
       "(336, 13)"
      ]
     },
     "execution_count": 20,
     "metadata": {},
     "output_type": "execute_result"
    }
   ],
   "source": [
    "# ignore\n",
    "flatiron[flatiron[\"C/A\"]==\"A030\"].shape"
   ]
  },
  {
   "cell_type": "code",
   "execution_count": null,
   "metadata": {},
   "outputs": [],
   "source": [
    "# ignore\n",
    "flatiron[flatiron[\"C/A\"]==\"A031\"].shape"
   ]
  },
  {
   "cell_type": "code",
   "execution_count": null,
   "metadata": {},
   "outputs": [],
   "source": [
    "# ignore\n",
    "flatiron[flatiron[\"UNIT\"]==\"R083\"].shape"
   ]
  },
  {
   "cell_type": "code",
   "execution_count": null,
   "metadata": {},
   "outputs": [],
   "source": [
    "# ignore\n",
    "252+336"
   ]
  },
  {
   "cell_type": "code",
   "execution_count": null,
   "metadata": {},
   "outputs": [],
   "source": [
    "# ignore\n",
    "flatiron[flatiron[\"UNIT\"]==\"R083\"].tail()"
   ]
  },
  {
   "cell_type": "markdown",
   "metadata": {},
   "source": [
    "Could do a groupby to aggregate the average or sum of entries at each time of day. "
   ]
  },
  {
   "cell_type": "markdown",
   "metadata": {},
   "source": [
    "What about by days of the week?"
   ]
  },
  {
   "cell_type": "markdown",
   "metadata": {},
   "source": [
    "What about by days of the week?"
   ]
  },
  {
   "cell_type": "code",
   "execution_count": null,
   "metadata": {},
   "outputs": [],
   "source": [
    "# ignore\n",
    "plt.scatter(x=flatiron['DATE'], y=(flatiron['EXITS']).astype(int))"
   ]
  },
  {
   "cell_type": "markdown",
   "metadata": {},
   "source": [
    "I don't think I understand yet what the 'EXITS' column really means yet.  Even within the same week at the same time interval \n",
    "\n",
    "there are many datapoints.\n",
    "\n",
    "To go further, we probably need to review the 'codebook' for this dataset. Otherwise we can end up with a garbage-in analysis"
   ]
  },
  {
   "cell_type": "markdown",
   "metadata": {},
   "source": [
    "*******\n",
    "## Update \n",
    "\n",
    "\n",
    "I've figured out the issue here. The entries and exits columns are actually cumulative counts for each specific counting device. Therefore to extract the data we need, we need to is the following:\n",
    "0. Convert ENTRIES and EXITS columns to integers so we can compute their numerical diff\n",
    "1. Convert it into a list of dataframes where each dataframe in the list corresponds to a counting device. (To do this we first extract the unique values in the device column; then cycle through that list, using each item to extract rows matching it.\n",
    "2. Then cycle through each data frame in our list of dataframes\n",
    "    * sort it by TIME just to be on the safe side\n",
    "    * create two new columns that contains the difference between each row's ENTRY and EXIT counts and that of the previous row\n",
    "3. Append each of dataframe in the result list into a one list\n",
    "4. Sort by date and time to find graph these to discover days and times with highest traffic\n",
    "5. might use a calendar library ot convert date to day of week and do groupby on that\n",
    "6. could also graph traffic against TIME, while ignorning day\n",
    "7. Ideally we could drill down and find the day-of-week and time that consistently have the highest traffic during the summer. This would require the above pipeline for multiple weeks and multiple years, and pooling that data.\n",
    "\n"
   ]
  },
  {
   "cell_type": "markdown",
   "metadata": {},
   "source": [
    "Unfortunately the \"Field description\" actually doesn't explain which column corresponds to the counting device. Is it `C/A` or it it `Unit`? "
   ]
  },
  {
   "cell_type": "code",
   "execution_count": null,
   "metadata": {
    "scrolled": true
   },
   "outputs": [],
   "source": [
    "flatiron.head()"
   ]
  },
  {
   "cell_type": "markdown",
   "metadata": {},
   "source": [
    "Let's see how many rows are in a single `C/A` and `UNIT`"
   ]
  },
  {
   "cell_type": "code",
   "execution_count": null,
   "metadata": {},
   "outputs": [],
   "source": [
    "flatiron[flatiron[\"C/A\"]==\"A030\"].shape"
   ]
  },
  {
   "cell_type": "code",
   "execution_count": null,
   "metadata": {},
   "outputs": [],
   "source": [
    "flatiron[flatiron[\"C/A\"]==\"A031\"].shape"
   ]
  },
  {
   "cell_type": "code",
   "execution_count": null,
   "metadata": {},
   "outputs": [],
   "source": [
    "flatiron[flatiron[\"UNIT\"]==\"R083\"].shape"
   ]
  },
  {
   "cell_type": "code",
   "execution_count": null,
   "metadata": {},
   "outputs": [],
   "source": [
    "336+252 == 588"
   ]
  },
  {
   "cell_type": "markdown",
   "metadata": {},
   "source": [
    "Let's look at the seam between `C/A` == A030 and and A031, to see if the cumulative count restarts."
   ]
  },
  {
   "cell_type": "code",
   "execution_count": null,
   "metadata": {},
   "outputs": [],
   "source": [
    "flatiron[flatiron[\"UNIT\"]==\"R083\"].iloc[330:340]"
   ]
  },
  {
   "cell_type": "markdown",
   "metadata": {},
   "source": [
    "Indeed, the counting in `EXITS` jumps from 1230536 to 714199 at the seam from A030 to A031, so it seems that the C/A column contains the device label."
   ]
  },
  {
   "cell_type": "markdown",
   "metadata": {},
   "source": [
    "Looking further, however, what about the SCP colomn? Let's observe what happens to the EXITS column when SCP shifts."
   ]
  },
  {
   "cell_type": "code",
   "execution_count": null,
   "metadata": {},
   "outputs": [],
   "source": [
    "flatiron[flatiron[\"UNIT\"]==\"R083\"].iloc[375:380]"
   ]
  },
  {
   "cell_type": "markdown",
   "metadata": {},
   "source": [
    "Whoops. When SCP changes, the EXITS counts start again. So actually the combination of the C/A and SCP columns seem to \n",
    "define a counting stream"
   ]
  },
  {
   "cell_type": "markdown",
   "metadata": {},
   "source": [
    "#### Try out a graph using the data from just one device\n",
    "\n",
    "If this pans out, we'll go back and do this data cleaning at an earlier stage so it affects the entire dataset"
   ]
  },
  {
   "cell_type": "code",
   "execution_count": 21,
   "metadata": {},
   "outputs": [
    {
     "data": {
      "text/html": [
       "<div>\n",
       "<style scoped>\n",
       "    .dataframe tbody tr th:only-of-type {\n",
       "        vertical-align: middle;\n",
       "    }\n",
       "\n",
       "    .dataframe tbody tr th {\n",
       "        vertical-align: top;\n",
       "    }\n",
       "\n",
       "    .dataframe thead th {\n",
       "        text-align: right;\n",
       "    }\n",
       "</style>\n",
       "<table border=\"1\" class=\"dataframe\">\n",
       "  <thead>\n",
       "    <tr style=\"text-align: right;\">\n",
       "      <th></th>\n",
       "      <th>C/A</th>\n",
       "      <th>UNIT</th>\n",
       "      <th>SCP</th>\n",
       "      <th>STATION</th>\n",
       "      <th>LINENAME</th>\n",
       "      <th>DIVISION</th>\n",
       "      <th>DATE</th>\n",
       "      <th>TIME</th>\n",
       "      <th>DESC</th>\n",
       "      <th>ENTRIES</th>\n",
       "      <th>EXITS</th>\n",
       "      <th>Datetime</th>\n",
       "      <th>Traffic_running_total</th>\n",
       "    </tr>\n",
       "  </thead>\n",
       "  <tbody>\n",
       "    <tr>\n",
       "      <th>4261</th>\n",
       "      <td>A031</td>\n",
       "      <td>R083</td>\n",
       "      <td>00-00-00</td>\n",
       "      <td>23 ST</td>\n",
       "      <td>NRW</td>\n",
       "      <td>BMT</td>\n",
       "      <td>06/29/2019</td>\n",
       "      <td>00:00:00</td>\n",
       "      <td>REGULAR</td>\n",
       "      <td>1319870</td>\n",
       "      <td>707549</td>\n",
       "      <td>2019-06-29 00:00:00</td>\n",
       "      <td>2027419</td>\n",
       "    </tr>\n",
       "    <tr>\n",
       "      <th>4262</th>\n",
       "      <td>A031</td>\n",
       "      <td>R083</td>\n",
       "      <td>00-00-00</td>\n",
       "      <td>23 ST</td>\n",
       "      <td>NRW</td>\n",
       "      <td>BMT</td>\n",
       "      <td>06/29/2019</td>\n",
       "      <td>04:00:00</td>\n",
       "      <td>REGULAR</td>\n",
       "      <td>1319957</td>\n",
       "      <td>707564</td>\n",
       "      <td>2019-06-29 04:00:00</td>\n",
       "      <td>2027521</td>\n",
       "    </tr>\n",
       "    <tr>\n",
       "      <th>4263</th>\n",
       "      <td>A031</td>\n",
       "      <td>R083</td>\n",
       "      <td>00-00-00</td>\n",
       "      <td>23 ST</td>\n",
       "      <td>NRW</td>\n",
       "      <td>BMT</td>\n",
       "      <td>06/29/2019</td>\n",
       "      <td>08:00:00</td>\n",
       "      <td>REGULAR</td>\n",
       "      <td>1319976</td>\n",
       "      <td>707589</td>\n",
       "      <td>2019-06-29 08:00:00</td>\n",
       "      <td>2027565</td>\n",
       "    </tr>\n",
       "    <tr>\n",
       "      <th>4264</th>\n",
       "      <td>A031</td>\n",
       "      <td>R083</td>\n",
       "      <td>00-00-00</td>\n",
       "      <td>23 ST</td>\n",
       "      <td>NRW</td>\n",
       "      <td>BMT</td>\n",
       "      <td>06/29/2019</td>\n",
       "      <td>12:00:00</td>\n",
       "      <td>REGULAR</td>\n",
       "      <td>1320173</td>\n",
       "      <td>707729</td>\n",
       "      <td>2019-06-29 12:00:00</td>\n",
       "      <td>2027902</td>\n",
       "    </tr>\n",
       "    <tr>\n",
       "      <th>4265</th>\n",
       "      <td>A031</td>\n",
       "      <td>R083</td>\n",
       "      <td>00-00-00</td>\n",
       "      <td>23 ST</td>\n",
       "      <td>NRW</td>\n",
       "      <td>BMT</td>\n",
       "      <td>06/29/2019</td>\n",
       "      <td>16:00:00</td>\n",
       "      <td>REGULAR</td>\n",
       "      <td>1320593</td>\n",
       "      <td>707888</td>\n",
       "      <td>2019-06-29 16:00:00</td>\n",
       "      <td>2028481</td>\n",
       "    </tr>\n",
       "    <tr>\n",
       "      <th>4266</th>\n",
       "      <td>A031</td>\n",
       "      <td>R083</td>\n",
       "      <td>00-00-00</td>\n",
       "      <td>23 ST</td>\n",
       "      <td>NRW</td>\n",
       "      <td>BMT</td>\n",
       "      <td>06/29/2019</td>\n",
       "      <td>20:00:00</td>\n",
       "      <td>REGULAR</td>\n",
       "      <td>1321058</td>\n",
       "      <td>708069</td>\n",
       "      <td>2019-06-29 20:00:00</td>\n",
       "      <td>2029127</td>\n",
       "    </tr>\n",
       "    <tr>\n",
       "      <th>4267</th>\n",
       "      <td>A031</td>\n",
       "      <td>R083</td>\n",
       "      <td>00-00-00</td>\n",
       "      <td>23 ST</td>\n",
       "      <td>NRW</td>\n",
       "      <td>BMT</td>\n",
       "      <td>06/30/2019</td>\n",
       "      <td>00:00:00</td>\n",
       "      <td>REGULAR</td>\n",
       "      <td>1321301</td>\n",
       "      <td>708141</td>\n",
       "      <td>2019-06-30 00:00:00</td>\n",
       "      <td>2029442</td>\n",
       "    </tr>\n",
       "    <tr>\n",
       "      <th>4268</th>\n",
       "      <td>A031</td>\n",
       "      <td>R083</td>\n",
       "      <td>00-00-00</td>\n",
       "      <td>23 ST</td>\n",
       "      <td>NRW</td>\n",
       "      <td>BMT</td>\n",
       "      <td>06/30/2019</td>\n",
       "      <td>04:00:00</td>\n",
       "      <td>REGULAR</td>\n",
       "      <td>1321352</td>\n",
       "      <td>708151</td>\n",
       "      <td>2019-06-30 04:00:00</td>\n",
       "      <td>2029503</td>\n",
       "    </tr>\n",
       "    <tr>\n",
       "      <th>4269</th>\n",
       "      <td>A031</td>\n",
       "      <td>R083</td>\n",
       "      <td>00-00-00</td>\n",
       "      <td>23 ST</td>\n",
       "      <td>NRW</td>\n",
       "      <td>BMT</td>\n",
       "      <td>06/30/2019</td>\n",
       "      <td>08:00:00</td>\n",
       "      <td>REGULAR</td>\n",
       "      <td>1321373</td>\n",
       "      <td>708173</td>\n",
       "      <td>2019-06-30 08:00:00</td>\n",
       "      <td>2029546</td>\n",
       "    </tr>\n",
       "    <tr>\n",
       "      <th>4270</th>\n",
       "      <td>A031</td>\n",
       "      <td>R083</td>\n",
       "      <td>00-00-00</td>\n",
       "      <td>23 ST</td>\n",
       "      <td>NRW</td>\n",
       "      <td>BMT</td>\n",
       "      <td>06/30/2019</td>\n",
       "      <td>12:00:00</td>\n",
       "      <td>REGULAR</td>\n",
       "      <td>1321429</td>\n",
       "      <td>708609</td>\n",
       "      <td>2019-06-30 12:00:00</td>\n",
       "      <td>2030038</td>\n",
       "    </tr>\n",
       "  </tbody>\n",
       "</table>\n",
       "</div>"
      ],
      "text/plain": [
       "       C/A  UNIT       SCP STATION LINENAME DIVISION        DATE      TIME  \\\n",
       "4261  A031  R083  00-00-00   23 ST      NRW      BMT  06/29/2019  00:00:00   \n",
       "4262  A031  R083  00-00-00   23 ST      NRW      BMT  06/29/2019  04:00:00   \n",
       "4263  A031  R083  00-00-00   23 ST      NRW      BMT  06/29/2019  08:00:00   \n",
       "4264  A031  R083  00-00-00   23 ST      NRW      BMT  06/29/2019  12:00:00   \n",
       "4265  A031  R083  00-00-00   23 ST      NRW      BMT  06/29/2019  16:00:00   \n",
       "4266  A031  R083  00-00-00   23 ST      NRW      BMT  06/29/2019  20:00:00   \n",
       "4267  A031  R083  00-00-00   23 ST      NRW      BMT  06/30/2019  00:00:00   \n",
       "4268  A031  R083  00-00-00   23 ST      NRW      BMT  06/30/2019  04:00:00   \n",
       "4269  A031  R083  00-00-00   23 ST      NRW      BMT  06/30/2019  08:00:00   \n",
       "4270  A031  R083  00-00-00   23 ST      NRW      BMT  06/30/2019  12:00:00   \n",
       "\n",
       "         DESC  ENTRIES   EXITS            Datetime  Traffic_running_total  \n",
       "4261  REGULAR  1319870  707549 2019-06-29 00:00:00                2027419  \n",
       "4262  REGULAR  1319957  707564 2019-06-29 04:00:00                2027521  \n",
       "4263  REGULAR  1319976  707589 2019-06-29 08:00:00                2027565  \n",
       "4264  REGULAR  1320173  707729 2019-06-29 12:00:00                2027902  \n",
       "4265  REGULAR  1320593  707888 2019-06-29 16:00:00                2028481  \n",
       "4266  REGULAR  1321058  708069 2019-06-29 20:00:00                2029127  \n",
       "4267  REGULAR  1321301  708141 2019-06-30 00:00:00                2029442  \n",
       "4268  REGULAR  1321352  708151 2019-06-30 04:00:00                2029503  \n",
       "4269  REGULAR  1321373  708173 2019-06-30 08:00:00                2029546  \n",
       "4270  REGULAR  1321429  708609 2019-06-30 12:00:00                2030038  "
      ]
     },
     "execution_count": 21,
     "metadata": {},
     "output_type": "execute_result"
    }
   ],
   "source": [
    "FI_device_A031zeroSCP = flatiron[ (flatiron[\"C/A\"]==\"A031\") & (flatiron[\"SCP\"]==\"00-00-00\")].copy()\n",
    "FI_device_A031zeroSCP.sort_values(by=[\"DATE\", \"TIME\"]).head(10)"
   ]
  },
  {
   "cell_type": "code",
   "execution_count": 22,
   "metadata": {},
   "outputs": [],
   "source": [
    "FI_device_A031zeroSCP[\"Exit diffs\"] = FI_device_A031zeroSCP[\"EXITS\"].diff()"
   ]
  },
  {
   "cell_type": "code",
   "execution_count": 23,
   "metadata": {},
   "outputs": [
    {
     "data": {
      "text/html": [
       "<div>\n",
       "<style scoped>\n",
       "    .dataframe tbody tr th:only-of-type {\n",
       "        vertical-align: middle;\n",
       "    }\n",
       "\n",
       "    .dataframe tbody tr th {\n",
       "        vertical-align: top;\n",
       "    }\n",
       "\n",
       "    .dataframe thead th {\n",
       "        text-align: right;\n",
       "    }\n",
       "</style>\n",
       "<table border=\"1\" class=\"dataframe\">\n",
       "  <thead>\n",
       "    <tr style=\"text-align: right;\">\n",
       "      <th></th>\n",
       "      <th>C/A</th>\n",
       "      <th>UNIT</th>\n",
       "      <th>SCP</th>\n",
       "      <th>STATION</th>\n",
       "      <th>LINENAME</th>\n",
       "      <th>DIVISION</th>\n",
       "      <th>DATE</th>\n",
       "      <th>TIME</th>\n",
       "      <th>DESC</th>\n",
       "      <th>ENTRIES</th>\n",
       "      <th>EXITS</th>\n",
       "      <th>Datetime</th>\n",
       "      <th>Traffic_running_total</th>\n",
       "      <th>Exit diffs</th>\n",
       "    </tr>\n",
       "  </thead>\n",
       "  <tbody>\n",
       "    <tr>\n",
       "      <th>4261</th>\n",
       "      <td>A031</td>\n",
       "      <td>R083</td>\n",
       "      <td>00-00-00</td>\n",
       "      <td>23 ST</td>\n",
       "      <td>NRW</td>\n",
       "      <td>BMT</td>\n",
       "      <td>06/29/2019</td>\n",
       "      <td>00:00:00</td>\n",
       "      <td>REGULAR</td>\n",
       "      <td>1319870</td>\n",
       "      <td>707549</td>\n",
       "      <td>2019-06-29</td>\n",
       "      <td>2027419</td>\n",
       "      <td>NaN</td>\n",
       "    </tr>\n",
       "    <tr>\n",
       "      <th>4267</th>\n",
       "      <td>A031</td>\n",
       "      <td>R083</td>\n",
       "      <td>00-00-00</td>\n",
       "      <td>23 ST</td>\n",
       "      <td>NRW</td>\n",
       "      <td>BMT</td>\n",
       "      <td>06/30/2019</td>\n",
       "      <td>00:00:00</td>\n",
       "      <td>REGULAR</td>\n",
       "      <td>1321301</td>\n",
       "      <td>708141</td>\n",
       "      <td>2019-06-30</td>\n",
       "      <td>2029442</td>\n",
       "      <td>72.0</td>\n",
       "    </tr>\n",
       "    <tr>\n",
       "      <th>4273</th>\n",
       "      <td>A031</td>\n",
       "      <td>R083</td>\n",
       "      <td>00-00-00</td>\n",
       "      <td>23 ST</td>\n",
       "      <td>NRW</td>\n",
       "      <td>BMT</td>\n",
       "      <td>07/01/2019</td>\n",
       "      <td>00:00:00</td>\n",
       "      <td>REGULAR</td>\n",
       "      <td>1321652</td>\n",
       "      <td>709718</td>\n",
       "      <td>2019-07-01</td>\n",
       "      <td>2031370</td>\n",
       "      <td>74.0</td>\n",
       "    </tr>\n",
       "    <tr>\n",
       "      <th>4279</th>\n",
       "      <td>A031</td>\n",
       "      <td>R083</td>\n",
       "      <td>00-00-00</td>\n",
       "      <td>23 ST</td>\n",
       "      <td>NRW</td>\n",
       "      <td>BMT</td>\n",
       "      <td>07/02/2019</td>\n",
       "      <td>00:00:00</td>\n",
       "      <td>REGULAR</td>\n",
       "      <td>1324150</td>\n",
       "      <td>710974</td>\n",
       "      <td>2019-07-02</td>\n",
       "      <td>2035124</td>\n",
       "      <td>64.0</td>\n",
       "    </tr>\n",
       "    <tr>\n",
       "      <th>4285</th>\n",
       "      <td>A031</td>\n",
       "      <td>R083</td>\n",
       "      <td>00-00-00</td>\n",
       "      <td>23 ST</td>\n",
       "      <td>NRW</td>\n",
       "      <td>BMT</td>\n",
       "      <td>07/03/2019</td>\n",
       "      <td>00:00:00</td>\n",
       "      <td>REGULAR</td>\n",
       "      <td>1326813</td>\n",
       "      <td>712194</td>\n",
       "      <td>2019-07-03</td>\n",
       "      <td>2039007</td>\n",
       "      <td>54.0</td>\n",
       "    </tr>\n",
       "    <tr>\n",
       "      <th>4291</th>\n",
       "      <td>A031</td>\n",
       "      <td>R083</td>\n",
       "      <td>00-00-00</td>\n",
       "      <td>23 ST</td>\n",
       "      <td>NRW</td>\n",
       "      <td>BMT</td>\n",
       "      <td>07/04/2019</td>\n",
       "      <td>00:00:00</td>\n",
       "      <td>REGULAR</td>\n",
       "      <td>1328951</td>\n",
       "      <td>713250</td>\n",
       "      <td>2019-07-04</td>\n",
       "      <td>2042201</td>\n",
       "      <td>50.0</td>\n",
       "    </tr>\n",
       "    <tr>\n",
       "      <th>4297</th>\n",
       "      <td>A031</td>\n",
       "      <td>R083</td>\n",
       "      <td>00-00-00</td>\n",
       "      <td>23 ST</td>\n",
       "      <td>NRW</td>\n",
       "      <td>BMT</td>\n",
       "      <td>07/05/2019</td>\n",
       "      <td>00:00:00</td>\n",
       "      <td>REGULAR</td>\n",
       "      <td>1330092</td>\n",
       "      <td>713603</td>\n",
       "      <td>2019-07-05</td>\n",
       "      <td>2043695</td>\n",
       "      <td>30.0</td>\n",
       "    </tr>\n",
       "  </tbody>\n",
       "</table>\n",
       "</div>"
      ],
      "text/plain": [
       "       C/A  UNIT       SCP STATION LINENAME DIVISION        DATE      TIME  \\\n",
       "4261  A031  R083  00-00-00   23 ST      NRW      BMT  06/29/2019  00:00:00   \n",
       "4267  A031  R083  00-00-00   23 ST      NRW      BMT  06/30/2019  00:00:00   \n",
       "4273  A031  R083  00-00-00   23 ST      NRW      BMT  07/01/2019  00:00:00   \n",
       "4279  A031  R083  00-00-00   23 ST      NRW      BMT  07/02/2019  00:00:00   \n",
       "4285  A031  R083  00-00-00   23 ST      NRW      BMT  07/03/2019  00:00:00   \n",
       "4291  A031  R083  00-00-00   23 ST      NRW      BMT  07/04/2019  00:00:00   \n",
       "4297  A031  R083  00-00-00   23 ST      NRW      BMT  07/05/2019  00:00:00   \n",
       "\n",
       "         DESC  ENTRIES   EXITS   Datetime  Traffic_running_total  Exit diffs  \n",
       "4261  REGULAR  1319870  707549 2019-06-29                2027419         NaN  \n",
       "4267  REGULAR  1321301  708141 2019-06-30                2029442        72.0  \n",
       "4273  REGULAR  1321652  709718 2019-07-01                2031370        74.0  \n",
       "4279  REGULAR  1324150  710974 2019-07-02                2035124        64.0  \n",
       "4285  REGULAR  1326813  712194 2019-07-03                2039007        54.0  \n",
       "4291  REGULAR  1328951  713250 2019-07-04                2042201        50.0  \n",
       "4297  REGULAR  1330092  713603 2019-07-05                2043695        30.0  "
      ]
     },
     "execution_count": 23,
     "metadata": {},
     "output_type": "execute_result"
    }
   ],
   "source": [
    "FI_device_A031zeroSCP[FI_device_A031zeroSCP[\"TIME\"]==\"00:00:00\"]"
   ]
  },
  {
   "cell_type": "code",
   "execution_count": 24,
   "metadata": {},
   "outputs": [
    {
     "data": {
      "text/plain": [
       "<matplotlib.collections.PathCollection at 0x7fbc3b24b640>"
      ]
     },
     "execution_count": 24,
     "metadata": {},
     "output_type": "execute_result"
    },
    {
     "data": {
      "image/png": "[encoded data removed]",
      "text/plain": [
       "<Figure size 720x720 with 1 Axes>"
      ]
     },
     "metadata": {
      "needs_background": "light"
     },
     "output_type": "display_data"
    }
   ],
   "source": [
    "plt.figure(figsize=(10,10))\n",
    "plt.scatter( x=FI_device_A031zeroSCP['TIME'], y=FI_device_A031zeroSCP['Exit diffs'], marker='_', s=(800,))"
   ]
  },
  {
   "cell_type": "markdown",
   "metadata": {},
   "source": [
    "#### It seems as though **_8am-12 noon_** time (at least on certain days) as well as **_4pm-8pm_** are the times with the most traffic."
   ]
  },
  {
   "cell_type": "code",
   "execution_count": 25,
   "metadata": {},
   "outputs": [
    {
     "data": {
      "text/plain": [
       "<matplotlib.collections.PathCollection at 0x7fbc3b334fd0>"
      ]
     },
     "execution_count": 25,
     "metadata": {},
     "output_type": "execute_result"
    },
    {
     "data": {
      "image/png": "[encoded data removed]",
      "text/plain": [
       "<Figure size 720x720 with 1 Axes>"
      ]
     },
     "metadata": {
      "needs_background": "light"
     },
     "output_type": "display_data"
    }
   ],
   "source": [
    "x_labels = ['Sat', 'Sun', 'Mon', 'Tues', 'Wed', 'Thurs', 'Fri'] \n",
    "plt.figure(figsize=(10,10))\n",
    "positions = range(7)\n",
    "plt.xticks(positions, x_labels)\n",
    "plt.scatter( x=FI_device_A031zeroSCP['DATE'], y=FI_device_A031zeroSCP['Exit diffs'], marker='_', s=(800,))"
   ]
  },
  {
   "cell_type": "markdown",
   "metadata": {},
   "source": [
    "#### It seems as though Wednesday and Thursday have the most traffic."
   ]
  },
  {
   "cell_type": "code",
   "execution_count": 26,
   "metadata": {},
   "outputs": [
    {
     "data": {
      "text/plain": [
       "<matplotlib.collections.PathCollection at 0x7fbc3f56fc10>"
      ]
     },
     "execution_count": 26,
     "metadata": {},
     "output_type": "execute_result"
    },
    {
     "data": {
      "image/png": "[encoded data removed]",
      "text/plain": [
       "<Figure size 2880x720 with 1 Axes>"
      ]
     },
     "metadata": {
      "needs_background": "light"
     },
     "output_type": "display_data"
    }
   ],
   "source": [
    "#x_labels = ['Midnight', 'Dawn', 'Morning', 'Afternoon', 'Dusk', 'Evening', 'Night'] \n",
    "\n",
    "#fig, ax = plt.subplots()\n",
    "#fig.figsize=(40,10)\n",
    "plt.figure(figsize=(40,10))\n",
    "#positions = range(7*6)\n",
    "#plt.xticks(positions, x_labels)\n",
    "#plt.xaxis.set_major_locator(MultipleLocator(20))\n",
    "plt.scatter( x=FI_device_A031zeroSCP['Datetime'], y=FI_device_A031zeroSCP['Exit diffs'], marker='.', s=(1000,))\n",
    "#ax.plot( x=FI_device_A031zeroSCP['Datetime'], y=FI_device_A031zeroSCP['Exit diffs'], marker='.', s=(300,))"
   ]
  },
  {
   "cell_type": "markdown",
   "metadata": {},
   "source": [
    "Attempts to format the x-axis labels with the days of the week have not progressed very far."
   ]
  },
  {
   "cell_type": "code",
   "execution_count": null,
   "metadata": {},
   "outputs": [],
   "source": [
    "# #plt.figure(figsize=(40,10))\n",
    "# graph = pd.Series(FI_device_A031zeroSCP['Datetime'], FI_device_A031zeroSCP['Exit diffs'])\n",
    "# ax = graph.plot()\n",
    "# weekday_map= {0:'MON', 1:'TUE', 2:'WED', 3:'THU',\n",
    "#               4:'FRI', 5:'SAT', 6:'SUN'}\n",
    "# xs = sorted(ax.get_xticks(minor='both'))\n",
    "# wd = graph.index[xs - xs[0]].map(pd.Timestamp.weekday)\n",
    "\n",
    "# ax.set_xticks(xs)\n",
    "# ax.set_xticks([], minor=True)\n",
    "# ax.set_xticklabels([weekday_map[d] for d in wd])\n",
    "# #plt.scatter( x=FI_device_A031zeroSCP['Datetime'], y=FI_device_A031zeroSCP['Exit diffs'], marker='.', s=(1000,))"
   ]
  },
  {
   "cell_type": "code",
   "execution_count": 27,
   "metadata": {},
   "outputs": [],
   "source": [
    "time_series = FI_device_A031zeroSCP.set_index('Datetime')['Exit diffs']"
   ]
  },
  {
   "cell_type": "code",
   "execution_count": 28,
   "metadata": {},
   "outputs": [],
   "source": [
    "import seaborn as sns\n",
    "import matplotlib.dates as mdates\n",
    "sns.set(rc={'figure.figsize':(40, 10)})"
   ]
  },
  {
   "cell_type": "code",
   "execution_count": 29,
   "metadata": {},
   "outputs": [
    {
     "data": {
      "image/png": "[encoded data removed]",
      "text/plain": [
       "<Figure size 2880x720 with 1 Axes>"
      ]
     },
     "metadata": {},
     "output_type": "display_data"
    }
   ],
   "source": [
    "fig, ax = plt.subplots()\n",
    "ax.plot(time_series)\n",
    "# Set x-axis major ticks to weekly interval, on Mondays\n",
    "ax.xaxis.set_major_locator(mdates.WeekdayLocator(byweekday=mdates.SATURDAY))\n",
    "# Format x-tick labels as 3-letter month name and day number\n",
    "ax.xaxis.set_major_formatter(mdates.DateFormatter('%b %d'));"
   ]
  },
  {
   "cell_type": "markdown",
   "metadata": {},
   "source": [
    "******"
   ]
  },
  {
   "cell_type": "markdown",
   "metadata": {},
   "source": [
    "Meanwhile, what about the zip code of stations? We'll need to merge this with the turnstile data if we want to \n",
    "\n",
    "identify stops that that are higher-income neighborhoods, by joining (merging) with a demographics/census dataset"
   ]
  },
  {
   "cell_type": "code",
   "execution_count": 30,
   "metadata": {},
   "outputs": [],
   "source": [
    "stations = pd.read_csv('http://web.mta.info/developers/data/nyct/subway/Stations.csv')"
   ]
  },
  {
   "cell_type": "code",
   "execution_count": 31,
   "metadata": {},
   "outputs": [
    {
     "data": {
      "text/html": [
       "<div>\n",
       "<style scoped>\n",
       "    .dataframe tbody tr th:only-of-type {\n",
       "        vertical-align: middle;\n",
       "    }\n",
       "\n",
       "    .dataframe tbody tr th {\n",
       "        vertical-align: top;\n",
       "    }\n",
       "\n",
       "    .dataframe thead th {\n",
       "        text-align: right;\n",
       "    }\n",
       "</style>\n",
       "<table border=\"1\" class=\"dataframe\">\n",
       "  <thead>\n",
       "    <tr style=\"text-align: right;\">\n",
       "      <th></th>\n",
       "      <th>Station ID</th>\n",
       "      <th>Complex ID</th>\n",
       "      <th>GTFS Stop ID</th>\n",
       "      <th>Division</th>\n",
       "      <th>Line</th>\n",
       "      <th>Stop Name</th>\n",
       "      <th>Borough</th>\n",
       "      <th>Daytime Routes</th>\n",
       "      <th>Structure</th>\n",
       "      <th>GTFS Latitude</th>\n",
       "      <th>GTFS Longitude</th>\n",
       "      <th>North Direction Label</th>\n",
       "      <th>South Direction Label</th>\n",
       "      <th>ADA</th>\n",
       "      <th>ADA Notes</th>\n",
       "    </tr>\n",
       "  </thead>\n",
       "  <tbody>\n",
       "    <tr>\n",
       "      <th>194</th>\n",
       "      <td>194</td>\n",
       "      <td>194</td>\n",
       "      <td>A64</td>\n",
       "      <td>IND</td>\n",
       "      <td>Liberty Av</td>\n",
       "      <td>111 St</td>\n",
       "      <td>Q</td>\n",
       "      <td>A</td>\n",
       "      <td>Elevated</td>\n",
       "      <td>40.684331</td>\n",
       "      <td>-73.832163</td>\n",
       "      <td>Manhattan</td>\n",
       "      <td>Lefferts Blvd</td>\n",
       "      <td>0</td>\n",
       "      <td>NaN</td>\n",
       "    </tr>\n",
       "    <tr>\n",
       "      <th>119</th>\n",
       "      <td>120</td>\n",
       "      <td>120</td>\n",
       "      <td>L08</td>\n",
       "      <td>BMT</td>\n",
       "      <td>Canarsie</td>\n",
       "      <td>Bedford Av</td>\n",
       "      <td>Bk</td>\n",
       "      <td>L</td>\n",
       "      <td>Subway</td>\n",
       "      <td>40.717304</td>\n",
       "      <td>-73.956872</td>\n",
       "      <td>Manhattan</td>\n",
       "      <td>Canarsie - Rockaway Parkway</td>\n",
       "      <td>1</td>\n",
       "      <td>NaN</td>\n",
       "    </tr>\n",
       "    <tr>\n",
       "      <th>30</th>\n",
       "      <td>31</td>\n",
       "      <td>31</td>\n",
       "      <td>R35</td>\n",
       "      <td>BMT</td>\n",
       "      <td>4th Av</td>\n",
       "      <td>25 St</td>\n",
       "      <td>Bk</td>\n",
       "      <td>R</td>\n",
       "      <td>Subway</td>\n",
       "      <td>40.660397</td>\n",
       "      <td>-73.998091</td>\n",
       "      <td>Manhattan</td>\n",
       "      <td>Bay Ridge - 95 St</td>\n",
       "      <td>0</td>\n",
       "      <td>NaN</td>\n",
       "    </tr>\n",
       "    <tr>\n",
       "      <th>429</th>\n",
       "      <td>429</td>\n",
       "      <td>429</td>\n",
       "      <td>216</td>\n",
       "      <td>IRT</td>\n",
       "      <td>Lenox - White Plains Rd</td>\n",
       "      <td>Freeman St</td>\n",
       "      <td>Bx</td>\n",
       "      <td>2 5</td>\n",
       "      <td>Elevated</td>\n",
       "      <td>40.829993</td>\n",
       "      <td>-73.891865</td>\n",
       "      <td>Wakefield - Eastchester</td>\n",
       "      <td>Manhattan</td>\n",
       "      <td>0</td>\n",
       "      <td>NaN</td>\n",
       "    </tr>\n",
       "    <tr>\n",
       "      <th>485</th>\n",
       "      <td>511</td>\n",
       "      <td>511</td>\n",
       "      <td>S21</td>\n",
       "      <td>SIR</td>\n",
       "      <td>Staten Island</td>\n",
       "      <td>Oakwood Heights</td>\n",
       "      <td>SI</td>\n",
       "      <td>SIR</td>\n",
       "      <td>Open Cut</td>\n",
       "      <td>40.565110</td>\n",
       "      <td>-74.126320</td>\n",
       "      <td>St George</td>\n",
       "      <td>Tottenville</td>\n",
       "      <td>0</td>\n",
       "      <td>NaN</td>\n",
       "    </tr>\n",
       "    <tr>\n",
       "      <th>169</th>\n",
       "      <td>169</td>\n",
       "      <td>169</td>\n",
       "      <td>A34</td>\n",
       "      <td>IND</td>\n",
       "      <td>8th Av - Fulton St</td>\n",
       "      <td>Canal St</td>\n",
       "      <td>M</td>\n",
       "      <td>A C E</td>\n",
       "      <td>Subway</td>\n",
       "      <td>40.720824</td>\n",
       "      <td>-74.005229</td>\n",
       "      <td>Uptown - Queens</td>\n",
       "      <td>Downtown &amp; Brooklyn</td>\n",
       "      <td>0</td>\n",
       "      <td>NaN</td>\n",
       "    </tr>\n",
       "    <tr>\n",
       "      <th>106</th>\n",
       "      <td>107</td>\n",
       "      <td>107</td>\n",
       "      <td>M23</td>\n",
       "      <td>BMT</td>\n",
       "      <td>Jamaica</td>\n",
       "      <td>Broad St</td>\n",
       "      <td>M</td>\n",
       "      <td>J Z</td>\n",
       "      <td>Subway</td>\n",
       "      <td>40.706476</td>\n",
       "      <td>-74.011056</td>\n",
       "      <td>Brooklyn</td>\n",
       "      <td>NaN</td>\n",
       "      <td>0</td>\n",
       "      <td>NaN</td>\n",
       "    </tr>\n",
       "    <tr>\n",
       "      <th>107</th>\n",
       "      <td>108</td>\n",
       "      <td>108</td>\n",
       "      <td>M01</td>\n",
       "      <td>BMT</td>\n",
       "      <td>Myrtle Av</td>\n",
       "      <td>Middle Village-Metropolitan Av</td>\n",
       "      <td>Q</td>\n",
       "      <td>M</td>\n",
       "      <td>Elevated</td>\n",
       "      <td>40.711396</td>\n",
       "      <td>-73.889601</td>\n",
       "      <td>Manhattan</td>\n",
       "      <td>NaN</td>\n",
       "      <td>1</td>\n",
       "      <td>NaN</td>\n",
       "    </tr>\n",
       "    <tr>\n",
       "      <th>462</th>\n",
       "      <td>461</td>\n",
       "      <td>461</td>\n",
       "      <td>R09</td>\n",
       "      <td>BMT</td>\n",
       "      <td>Astoria</td>\n",
       "      <td>Queensboro Plaza</td>\n",
       "      <td>Q</td>\n",
       "      <td>N W</td>\n",
       "      <td>Elevated</td>\n",
       "      <td>40.750582</td>\n",
       "      <td>-73.940202</td>\n",
       "      <td>Astoria - Flushing</td>\n",
       "      <td>Manhattan</td>\n",
       "      <td>0</td>\n",
       "      <td>NaN</td>\n",
       "    </tr>\n",
       "    <tr>\n",
       "      <th>0</th>\n",
       "      <td>1</td>\n",
       "      <td>1</td>\n",
       "      <td>R01</td>\n",
       "      <td>BMT</td>\n",
       "      <td>Astoria</td>\n",
       "      <td>Astoria-Ditmars Blvd</td>\n",
       "      <td>Q</td>\n",
       "      <td>N W</td>\n",
       "      <td>Elevated</td>\n",
       "      <td>40.775036</td>\n",
       "      <td>-73.912034</td>\n",
       "      <td>NaN</td>\n",
       "      <td>Manhattan</td>\n",
       "      <td>0</td>\n",
       "      <td>NaN</td>\n",
       "    </tr>\n",
       "  </tbody>\n",
       "</table>\n",
       "</div>"
      ],
      "text/plain": [
       "     Station ID  Complex ID GTFS Stop ID Division                     Line  \\\n",
       "194         194         194          A64      IND               Liberty Av   \n",
       "119         120         120          L08      BMT                 Canarsie   \n",
       "30           31          31          R35      BMT                   4th Av   \n",
       "429         429         429          216      IRT  Lenox - White Plains Rd   \n",
       "485         511         511          S21      SIR            Staten Island   \n",
       "169         169         169          A34      IND       8th Av - Fulton St   \n",
       "106         107         107          M23      BMT                  Jamaica   \n",
       "107         108         108          M01      BMT                Myrtle Av   \n",
       "462         461         461          R09      BMT                  Astoria   \n",
       "0             1           1          R01      BMT                  Astoria   \n",
       "\n",
       "                          Stop Name Borough Daytime Routes Structure  \\\n",
       "194                          111 St       Q              A  Elevated   \n",
       "119                      Bedford Av      Bk              L    Subway   \n",
       "30                            25 St      Bk              R    Subway   \n",
       "429                      Freeman St      Bx            2 5  Elevated   \n",
       "485                 Oakwood Heights      SI            SIR  Open Cut   \n",
       "169                        Canal St       M          A C E    Subway   \n",
       "106                        Broad St       M            J Z    Subway   \n",
       "107  Middle Village-Metropolitan Av       Q              M  Elevated   \n",
       "462                Queensboro Plaza       Q            N W  Elevated   \n",
       "0              Astoria-Ditmars Blvd       Q            N W  Elevated   \n",
       "\n",
       "     GTFS Latitude  GTFS Longitude    North Direction Label  \\\n",
       "194      40.684331      -73.832163                Manhattan   \n",
       "119      40.717304      -73.956872                Manhattan   \n",
       "30       40.660397      -73.998091                Manhattan   \n",
       "429      40.829993      -73.891865  Wakefield - Eastchester   \n",
       "485      40.565110      -74.126320                St George   \n",
       "169      40.720824      -74.005229          Uptown - Queens   \n",
       "106      40.706476      -74.011056                 Brooklyn   \n",
       "107      40.711396      -73.889601                Manhattan   \n",
       "462      40.750582      -73.940202       Astoria - Flushing   \n",
       "0        40.775036      -73.912034                      NaN   \n",
       "\n",
       "           South Direction Label  ADA ADA Notes  \n",
       "194                Lefferts Blvd    0       NaN  \n",
       "119  Canarsie - Rockaway Parkway    1       NaN  \n",
       "30             Bay Ridge - 95 St    0       NaN  \n",
       "429                    Manhattan    0       NaN  \n",
       "485                  Tottenville    0       NaN  \n",
       "169          Downtown & Brooklyn    0       NaN  \n",
       "106                          NaN    0       NaN  \n",
       "107                          NaN    1       NaN  \n",
       "462                    Manhattan    0       NaN  \n",
       "0                      Manhattan    0       NaN  "
      ]
     },
     "execution_count": 31,
     "metadata": {},
     "output_type": "execute_result"
    }
   ],
   "source": [
    "stations.sample(10)"
   ]
  },
  {
   "cell_type": "markdown",
   "metadata": {},
   "source": [
    "Whereas the stop names in the turnstile dataset were all caps, these are in title case. \n",
    "\n",
    "Who knows if truly corresponding names are used for each station?\n",
    "\n",
    "As a preliminary step to finding out, lets convert that columns to upper "
   ]
  },
  {
   "cell_type": "code",
   "execution_count": null,
   "metadata": {},
   "outputs": [],
   "source": [
    "stations['Stop Name'] = stations['Stop Name'].str.upper() "
   ]
  },
  {
   "cell_type": "code",
   "execution_count": null,
   "metadata": {},
   "outputs": [],
   "source": [
    "# sanity check\n",
    "stations.sample(5)"
   ]
  },
  {
   "cell_type": "code",
   "execution_count": null,
   "metadata": {},
   "outputs": [],
   "source": [
    "stations.columns"
   ]
  },
  {
   "cell_type": "code",
   "execution_count": null,
   "metadata": {},
   "outputs": [],
   "source": [
    "stations.shape"
   ]
  },
  {
   "cell_type": "markdown",
   "metadata": {},
   "source": [
    "## -------- CC - Adding Income Data to Stations by Lat/Lng --------\n",
    "1. import uszipcode package\n",
    "2. use lat/lng function to pull median hh income from database\n",
    "\n",
    "#### Other potentially useful variables from the zipcode list:\n",
    "zipcode_type='Standard', <br>\n",
    "major_city='Derwood', <br>\n",
    "county='Montgomery County', <br>\n",
    "state='MD', <br>\n",
    "radius_in_miles=4.0, <br>\n",
    "population=14295, <br>\n",
    "population_density=1090.0, <br>\n",
    "housing_units=5018, <br>\n",
    "occupied_housing_units=4889,  <br>\n",
    "median_home_value=453900, <br>\n",
    "median_household_income=120603\n",
    "\n",
    "#### Other interesting metrics from this data can be found here: https://pypi.org/project/uszipcode/"
   ]
  },
  {
   "cell_type": "code",
   "execution_count": 32,
   "metadata": {},
   "outputs": [],
   "source": [
    "### uszip method\n",
    "from uszipcode import SearchEngine\n",
    "search = SearchEngine(simple_zipcode=False)"
   ]
  },
  {
   "cell_type": "code",
   "execution_count": 33,
   "metadata": {},
   "outputs": [],
   "source": [
    "def getincome(_lat,_lon):\n",
    "    income = search.by_coordinates(_lat,_lon, radius=2,returns=1)[0].median_household_income\n",
    "    return income"
   ]
  },
  {
   "cell_type": "code",
   "execution_count": 34,
   "metadata": {},
   "outputs": [],
   "source": [
    "stations['income'] = stations.apply(lambda row:  getincome(row['GTFS Latitude'], row['GTFS Longitude']) ,axis=1)                                              "
   ]
  },
  {
   "cell_type": "code",
   "execution_count": 35,
   "metadata": {},
   "outputs": [
    {
     "data": {
      "text/html": [
       "<div>\n",
       "<style scoped>\n",
       "    .dataframe tbody tr th:only-of-type {\n",
       "        vertical-align: middle;\n",
       "    }\n",
       "\n",
       "    .dataframe tbody tr th {\n",
       "        vertical-align: top;\n",
       "    }\n",
       "\n",
       "    .dataframe thead th {\n",
       "        text-align: right;\n",
       "    }\n",
       "</style>\n",
       "<table border=\"1\" class=\"dataframe\">\n",
       "  <thead>\n",
       "    <tr style=\"text-align: right;\">\n",
       "      <th></th>\n",
       "      <th>Station ID</th>\n",
       "      <th>Complex ID</th>\n",
       "      <th>GTFS Stop ID</th>\n",
       "      <th>Division</th>\n",
       "      <th>Line</th>\n",
       "      <th>Stop Name</th>\n",
       "      <th>Borough</th>\n",
       "      <th>Daytime Routes</th>\n",
       "      <th>Structure</th>\n",
       "      <th>GTFS Latitude</th>\n",
       "      <th>GTFS Longitude</th>\n",
       "      <th>North Direction Label</th>\n",
       "      <th>South Direction Label</th>\n",
       "      <th>ADA</th>\n",
       "      <th>ADA Notes</th>\n",
       "      <th>income</th>\n",
       "    </tr>\n",
       "  </thead>\n",
       "  <tbody>\n",
       "    <tr>\n",
       "      <th>0</th>\n",
       "      <td>1</td>\n",
       "      <td>1</td>\n",
       "      <td>R01</td>\n",
       "      <td>BMT</td>\n",
       "      <td>Astoria</td>\n",
       "      <td>Astoria-Ditmars Blvd</td>\n",
       "      <td>Q</td>\n",
       "      <td>N W</td>\n",
       "      <td>Elevated</td>\n",
       "      <td>40.775036</td>\n",
       "      <td>-73.912034</td>\n",
       "      <td>NaN</td>\n",
       "      <td>Manhattan</td>\n",
       "      <td>0</td>\n",
       "      <td>NaN</td>\n",
       "      <td>57525.0</td>\n",
       "    </tr>\n",
       "    <tr>\n",
       "      <th>1</th>\n",
       "      <td>2</td>\n",
       "      <td>2</td>\n",
       "      <td>R03</td>\n",
       "      <td>BMT</td>\n",
       "      <td>Astoria</td>\n",
       "      <td>Astoria Blvd</td>\n",
       "      <td>Q</td>\n",
       "      <td>N W</td>\n",
       "      <td>Elevated</td>\n",
       "      <td>40.770258</td>\n",
       "      <td>-73.917843</td>\n",
       "      <td>Ditmars Blvd</td>\n",
       "      <td>Manhattan</td>\n",
       "      <td>1</td>\n",
       "      <td>NaN</td>\n",
       "      <td>49924.0</td>\n",
       "    </tr>\n",
       "    <tr>\n",
       "      <th>2</th>\n",
       "      <td>3</td>\n",
       "      <td>3</td>\n",
       "      <td>R04</td>\n",
       "      <td>BMT</td>\n",
       "      <td>Astoria</td>\n",
       "      <td>30 Av</td>\n",
       "      <td>Q</td>\n",
       "      <td>N W</td>\n",
       "      <td>Elevated</td>\n",
       "      <td>40.766779</td>\n",
       "      <td>-73.921479</td>\n",
       "      <td>Astoria - Ditmars Blvd</td>\n",
       "      <td>Manhattan</td>\n",
       "      <td>0</td>\n",
       "      <td>NaN</td>\n",
       "      <td>49924.0</td>\n",
       "    </tr>\n",
       "    <tr>\n",
       "      <th>3</th>\n",
       "      <td>4</td>\n",
       "      <td>4</td>\n",
       "      <td>R05</td>\n",
       "      <td>BMT</td>\n",
       "      <td>Astoria</td>\n",
       "      <td>Broadway</td>\n",
       "      <td>Q</td>\n",
       "      <td>N W</td>\n",
       "      <td>Elevated</td>\n",
       "      <td>40.761820</td>\n",
       "      <td>-73.925508</td>\n",
       "      <td>Astoria - Ditmars Blvd</td>\n",
       "      <td>Manhattan</td>\n",
       "      <td>0</td>\n",
       "      <td>NaN</td>\n",
       "      <td>49924.0</td>\n",
       "    </tr>\n",
       "    <tr>\n",
       "      <th>4</th>\n",
       "      <td>5</td>\n",
       "      <td>5</td>\n",
       "      <td>R06</td>\n",
       "      <td>BMT</td>\n",
       "      <td>Astoria</td>\n",
       "      <td>36 Av</td>\n",
       "      <td>Q</td>\n",
       "      <td>N W</td>\n",
       "      <td>Elevated</td>\n",
       "      <td>40.756804</td>\n",
       "      <td>-73.929575</td>\n",
       "      <td>Astoria - Ditmars Blvd</td>\n",
       "      <td>Manhattan</td>\n",
       "      <td>0</td>\n",
       "      <td>NaN</td>\n",
       "      <td>48720.0</td>\n",
       "    </tr>\n",
       "  </tbody>\n",
       "</table>\n",
       "</div>"
      ],
      "text/plain": [
       "   Station ID  Complex ID GTFS Stop ID Division     Line  \\\n",
       "0           1           1          R01      BMT  Astoria   \n",
       "1           2           2          R03      BMT  Astoria   \n",
       "2           3           3          R04      BMT  Astoria   \n",
       "3           4           4          R05      BMT  Astoria   \n",
       "4           5           5          R06      BMT  Astoria   \n",
       "\n",
       "              Stop Name Borough Daytime Routes Structure  GTFS Latitude  \\\n",
       "0  Astoria-Ditmars Blvd       Q            N W  Elevated      40.775036   \n",
       "1          Astoria Blvd       Q            N W  Elevated      40.770258   \n",
       "2                 30 Av       Q            N W  Elevated      40.766779   \n",
       "3              Broadway       Q            N W  Elevated      40.761820   \n",
       "4                 36 Av       Q            N W  Elevated      40.756804   \n",
       "\n",
       "   GTFS Longitude   North Direction Label South Direction Label  ADA  \\\n",
       "0      -73.912034                     NaN             Manhattan    0   \n",
       "1      -73.917843            Ditmars Blvd             Manhattan    1   \n",
       "2      -73.921479  Astoria - Ditmars Blvd             Manhattan    0   \n",
       "3      -73.925508  Astoria - Ditmars Blvd             Manhattan    0   \n",
       "4      -73.929575  Astoria - Ditmars Blvd             Manhattan    0   \n",
       "\n",
       "  ADA Notes   income  \n",
       "0       NaN  57525.0  \n",
       "1       NaN  49924.0  \n",
       "2       NaN  49924.0  \n",
       "3       NaN  49924.0  \n",
       "4       NaN  48720.0  "
      ]
     },
     "execution_count": 35,
     "metadata": {},
     "output_type": "execute_result"
    }
   ],
   "source": [
    "# check if income is in df\n",
    "stations.head()"
   ]
  },
  {
   "cell_type": "code",
   "execution_count": null,
   "metadata": {},
   "outputs": [],
   "source": [
    "print(\" \\nCount total NaN at each column in a Station : \\n\\n\", stations.isnull().sum(), \"# row/cols\",stations.shape)"
   ]
  },
  {
   "cell_type": "code",
   "execution_count": null,
   "metadata": {},
   "outputs": [],
   "source": [
    "print(stations[stations['income'].isna()]) "
   ]
  },
  {
   "cell_type": "code",
   "execution_count": null,
   "metadata": {},
   "outputs": [],
   "source": [
    "lat=40.764811 \n",
    "lon=-73.973347\n",
    "\n",
    "result = search.by_coordinates(lat=lat,lng=lon, radius=5,returns=1)[0].median_household_income    "
   ]
  },
  {
   "cell_type": "markdown",
   "metadata": {},
   "source": [
    "### We may have to either impute these values separately with the income from the nearest station (i.e. widen the radius)"
   ]
  },
  {
   "cell_type": "markdown",
   "metadata": {},
   "source": [
    "## --------- CC - END OF INCOME MERGE ----------"
   ]
  },
  {
   "cell_type": "markdown",
   "metadata": {},
   "source": [
    "## --------- CC - Read in xwalk for booth to stations data ---------\n",
    "(downloaded from: https://qri.cloud/nyc-transit-data/remote_complex_lookupcsv)\n",
    "\n",
    "There is no direct link between the stations df and the turnstile df. Therefore we found a link using complex_id from stations and complex_id from xwalk. The xwalk contains C/A, Unit, Station, Line to merge with the turnstile data\n",
    "\n",
    "You need to have the .csv file saved in the location of the program"
   ]
  },
  {
   "cell_type": "code",
   "execution_count": 117,
   "metadata": {},
   "outputs": [],
   "source": [
    "station_xwalk = pd.read_csv('booth_station_xwalk.csv')"
   ]
  },
  {
   "cell_type": "code",
   "execution_count": 118,
   "metadata": {},
   "outputs": [
    {
     "data": {
      "text/html": [
       "<div>\n",
       "<style scoped>\n",
       "    .dataframe tbody tr th:only-of-type {\n",
       "        vertical-align: middle;\n",
       "    }\n",
       "\n",
       "    .dataframe tbody tr th {\n",
       "        vertical-align: top;\n",
       "    }\n",
       "\n",
       "    .dataframe thead th {\n",
       "        text-align: right;\n",
       "    }\n",
       "</style>\n",
       "<table border=\"1\" class=\"dataframe\">\n",
       "  <thead>\n",
       "    <tr style=\"text-align: right;\">\n",
       "      <th></th>\n",
       "      <th>remote</th>\n",
       "      <th>booth</th>\n",
       "      <th>complex_id</th>\n",
       "      <th>station</th>\n",
       "      <th>line_name</th>\n",
       "      <th>division</th>\n",
       "    </tr>\n",
       "  </thead>\n",
       "  <tbody>\n",
       "    <tr>\n",
       "      <th>0</th>\n",
       "      <td>R001</td>\n",
       "      <td>A060</td>\n",
       "      <td>635.0</td>\n",
       "      <td>WHITEHALL ST</td>\n",
       "      <td>R1</td>\n",
       "      <td>BMT</td>\n",
       "    </tr>\n",
       "    <tr>\n",
       "      <th>1</th>\n",
       "      <td>R001</td>\n",
       "      <td>A058</td>\n",
       "      <td>635.0</td>\n",
       "      <td>WHITEHALL ST</td>\n",
       "      <td>R1</td>\n",
       "      <td>BMT</td>\n",
       "    </tr>\n",
       "    <tr>\n",
       "      <th>2</th>\n",
       "      <td>R001</td>\n",
       "      <td>R101S</td>\n",
       "      <td>635.0</td>\n",
       "      <td>SOUTH FERRY</td>\n",
       "      <td>R1</td>\n",
       "      <td>IRT</td>\n",
       "    </tr>\n",
       "    <tr>\n",
       "      <th>3</th>\n",
       "      <td>R002</td>\n",
       "      <td>A077</td>\n",
       "      <td>628.0</td>\n",
       "      <td>FULTON ST</td>\n",
       "      <td>ACJZ2345</td>\n",
       "      <td>BMT</td>\n",
       "    </tr>\n",
       "    <tr>\n",
       "      <th>4</th>\n",
       "      <td>R002</td>\n",
       "      <td>A081</td>\n",
       "      <td>628.0</td>\n",
       "      <td>FULTON ST</td>\n",
       "      <td>ACJZ2345</td>\n",
       "      <td>BMT</td>\n",
       "    </tr>\n",
       "  </tbody>\n",
       "</table>\n",
       "</div>"
      ],
      "text/plain": [
       "  remote  booth  complex_id       station line_name division\n",
       "0   R001   A060       635.0  WHITEHALL ST        R1      BMT\n",
       "1   R001   A058       635.0  WHITEHALL ST        R1      BMT\n",
       "2   R001  R101S       635.0   SOUTH FERRY        R1      IRT\n",
       "3   R002   A077       628.0     FULTON ST  ACJZ2345      BMT\n",
       "4   R002   A081       628.0     FULTON ST  ACJZ2345      BMT"
      ]
     },
     "execution_count": 118,
     "metadata": {},
     "output_type": "execute_result"
    }
   ],
   "source": [
    "station_xwalk.head()"
   ]
  },
  {
   "cell_type": "code",
   "execution_count": 119,
   "metadata": {},
   "outputs": [],
   "source": [
    "# complex id is float64 but needs to convert to int. Can only do by filling the nans with 0 first\n",
    "import numpy as np\n",
    "station_xwalk['complex_id2'] = station_xwalk['complex_id'].fillna(0,inplace=True)\n",
    "station_xwalk['complex_id2'] = station_xwalk['complex_id'].apply(np.int64)"
   ]
  },
  {
   "cell_type": "code",
   "execution_count": 120,
   "metadata": {},
   "outputs": [
    {
     "data": {
      "text/html": [
       "<div>\n",
       "<style scoped>\n",
       "    .dataframe tbody tr th:only-of-type {\n",
       "        vertical-align: middle;\n",
       "    }\n",
       "\n",
       "    .dataframe tbody tr th {\n",
       "        vertical-align: top;\n",
       "    }\n",
       "\n",
       "    .dataframe thead th {\n",
       "        text-align: right;\n",
       "    }\n",
       "</style>\n",
       "<table border=\"1\" class=\"dataframe\">\n",
       "  <thead>\n",
       "    <tr style=\"text-align: right;\">\n",
       "      <th></th>\n",
       "      <th>remote</th>\n",
       "      <th>booth</th>\n",
       "      <th>complex_id</th>\n",
       "      <th>station</th>\n",
       "      <th>line_name</th>\n",
       "      <th>division</th>\n",
       "      <th>complex_id2</th>\n",
       "    </tr>\n",
       "  </thead>\n",
       "  <tbody>\n",
       "    <tr>\n",
       "      <th>0</th>\n",
       "      <td>R001</td>\n",
       "      <td>A060</td>\n",
       "      <td>635.0</td>\n",
       "      <td>WHITEHALL ST</td>\n",
       "      <td>R1</td>\n",
       "      <td>BMT</td>\n",
       "      <td>635</td>\n",
       "    </tr>\n",
       "    <tr>\n",
       "      <th>1</th>\n",
       "      <td>R001</td>\n",
       "      <td>A058</td>\n",
       "      <td>635.0</td>\n",
       "      <td>WHITEHALL ST</td>\n",
       "      <td>R1</td>\n",
       "      <td>BMT</td>\n",
       "      <td>635</td>\n",
       "    </tr>\n",
       "    <tr>\n",
       "      <th>2</th>\n",
       "      <td>R001</td>\n",
       "      <td>R101S</td>\n",
       "      <td>635.0</td>\n",
       "      <td>SOUTH FERRY</td>\n",
       "      <td>R1</td>\n",
       "      <td>IRT</td>\n",
       "      <td>635</td>\n",
       "    </tr>\n",
       "    <tr>\n",
       "      <th>3</th>\n",
       "      <td>R002</td>\n",
       "      <td>A077</td>\n",
       "      <td>628.0</td>\n",
       "      <td>FULTON ST</td>\n",
       "      <td>ACJZ2345</td>\n",
       "      <td>BMT</td>\n",
       "      <td>628</td>\n",
       "    </tr>\n",
       "    <tr>\n",
       "      <th>4</th>\n",
       "      <td>R002</td>\n",
       "      <td>A081</td>\n",
       "      <td>628.0</td>\n",
       "      <td>FULTON ST</td>\n",
       "      <td>ACJZ2345</td>\n",
       "      <td>BMT</td>\n",
       "      <td>628</td>\n",
       "    </tr>\n",
       "  </tbody>\n",
       "</table>\n",
       "</div>"
      ],
      "text/plain": [
       "  remote  booth  complex_id       station line_name division  complex_id2\n",
       "0   R001   A060       635.0  WHITEHALL ST        R1      BMT          635\n",
       "1   R001   A058       635.0  WHITEHALL ST        R1      BMT          635\n",
       "2   R001  R101S       635.0   SOUTH FERRY        R1      IRT          635\n",
       "3   R002   A077       628.0     FULTON ST  ACJZ2345      BMT          628\n",
       "4   R002   A081       628.0     FULTON ST  ACJZ2345      BMT          628"
      ]
     },
     "execution_count": 120,
     "metadata": {},
     "output_type": "execute_result"
    }
   ],
   "source": [
    "station_xwalk.head()"
   ]
  },
  {
   "cell_type": "code",
   "execution_count": 133,
   "metadata": {},
   "outputs": [],
   "source": [
    "# merge xwalk to stations by complex id\n",
    "stations_complex = stations.merge(station_xwalk[[\"remote\",\"booth\",\"station\",\"line_name\",\"division\",\"complex_id2\"]], left_on=\"Complex ID\", right_on=\"complex_id2\")"
   ]
  },
  {
   "cell_type": "code",
   "execution_count": 134,
   "metadata": {},
   "outputs": [
    {
     "data": {
      "text/html": [
       "<div>\n",
       "<style scoped>\n",
       "    .dataframe tbody tr th:only-of-type {\n",
       "        vertical-align: middle;\n",
       "    }\n",
       "\n",
       "    .dataframe tbody tr th {\n",
       "        vertical-align: top;\n",
       "    }\n",
       "\n",
       "    .dataframe thead th {\n",
       "        text-align: right;\n",
       "    }\n",
       "</style>\n",
       "<table border=\"1\" class=\"dataframe\">\n",
       "  <thead>\n",
       "    <tr style=\"text-align: right;\">\n",
       "      <th></th>\n",
       "      <th>Station ID</th>\n",
       "      <th>Complex ID</th>\n",
       "      <th>GTFS Stop ID</th>\n",
       "      <th>Division</th>\n",
       "      <th>Line</th>\n",
       "      <th>Stop Name</th>\n",
       "      <th>Borough</th>\n",
       "      <th>Daytime Routes</th>\n",
       "      <th>Structure</th>\n",
       "      <th>GTFS Latitude</th>\n",
       "      <th>...</th>\n",
       "      <th>South Direction Label</th>\n",
       "      <th>ADA</th>\n",
       "      <th>ADA Notes</th>\n",
       "      <th>income</th>\n",
       "      <th>remote</th>\n",
       "      <th>booth</th>\n",
       "      <th>station</th>\n",
       "      <th>line_name</th>\n",
       "      <th>division</th>\n",
       "      <th>complex_id2</th>\n",
       "    </tr>\n",
       "  </thead>\n",
       "  <tbody>\n",
       "    <tr>\n",
       "      <th>0</th>\n",
       "      <td>1</td>\n",
       "      <td>1</td>\n",
       "      <td>R01</td>\n",
       "      <td>BMT</td>\n",
       "      <td>Astoria</td>\n",
       "      <td>Astoria-Ditmars Blvd</td>\n",
       "      <td>Q</td>\n",
       "      <td>N W</td>\n",
       "      <td>Elevated</td>\n",
       "      <td>40.775036</td>\n",
       "      <td>...</td>\n",
       "      <td>Manhattan</td>\n",
       "      <td>0</td>\n",
       "      <td>NaN</td>\n",
       "      <td>57525.0</td>\n",
       "      <td>R095</td>\n",
       "      <td>R515</td>\n",
       "      <td>DITMARS BL-31 S</td>\n",
       "      <td>NQ</td>\n",
       "      <td>BMT</td>\n",
       "      <td>1</td>\n",
       "    </tr>\n",
       "    <tr>\n",
       "      <th>1</th>\n",
       "      <td>2</td>\n",
       "      <td>2</td>\n",
       "      <td>R03</td>\n",
       "      <td>BMT</td>\n",
       "      <td>Astoria</td>\n",
       "      <td>Astoria Blvd</td>\n",
       "      <td>Q</td>\n",
       "      <td>N W</td>\n",
       "      <td>Elevated</td>\n",
       "      <td>40.770258</td>\n",
       "      <td>...</td>\n",
       "      <td>Manhattan</td>\n",
       "      <td>1</td>\n",
       "      <td>NaN</td>\n",
       "      <td>49924.0</td>\n",
       "      <td>R094</td>\n",
       "      <td>R514</td>\n",
       "      <td>HOYT ST-ASTORIA</td>\n",
       "      <td>NQ</td>\n",
       "      <td>BMT</td>\n",
       "      <td>2</td>\n",
       "    </tr>\n",
       "    <tr>\n",
       "      <th>2</th>\n",
       "      <td>3</td>\n",
       "      <td>3</td>\n",
       "      <td>R04</td>\n",
       "      <td>BMT</td>\n",
       "      <td>Astoria</td>\n",
       "      <td>30 Av</td>\n",
       "      <td>Q</td>\n",
       "      <td>N W</td>\n",
       "      <td>Elevated</td>\n",
       "      <td>40.766779</td>\n",
       "      <td>...</td>\n",
       "      <td>Manhattan</td>\n",
       "      <td>0</td>\n",
       "      <td>NaN</td>\n",
       "      <td>49924.0</td>\n",
       "      <td>R093</td>\n",
       "      <td>R513</td>\n",
       "      <td>GRAND-30 AVE</td>\n",
       "      <td>NQ</td>\n",
       "      <td>BMT</td>\n",
       "      <td>3</td>\n",
       "    </tr>\n",
       "    <tr>\n",
       "      <th>3</th>\n",
       "      <td>4</td>\n",
       "      <td>4</td>\n",
       "      <td>R05</td>\n",
       "      <td>BMT</td>\n",
       "      <td>Astoria</td>\n",
       "      <td>Broadway</td>\n",
       "      <td>Q</td>\n",
       "      <td>N W</td>\n",
       "      <td>Elevated</td>\n",
       "      <td>40.761820</td>\n",
       "      <td>...</td>\n",
       "      <td>Manhattan</td>\n",
       "      <td>0</td>\n",
       "      <td>NaN</td>\n",
       "      <td>49924.0</td>\n",
       "      <td>R092</td>\n",
       "      <td>R512</td>\n",
       "      <td>BROADWAY-31 ST</td>\n",
       "      <td>NQ</td>\n",
       "      <td>BMT</td>\n",
       "      <td>4</td>\n",
       "    </tr>\n",
       "    <tr>\n",
       "      <th>4</th>\n",
       "      <td>5</td>\n",
       "      <td>5</td>\n",
       "      <td>R06</td>\n",
       "      <td>BMT</td>\n",
       "      <td>Astoria</td>\n",
       "      <td>36 Av</td>\n",
       "      <td>Q</td>\n",
       "      <td>N W</td>\n",
       "      <td>Elevated</td>\n",
       "      <td>40.756804</td>\n",
       "      <td>...</td>\n",
       "      <td>Manhattan</td>\n",
       "      <td>0</td>\n",
       "      <td>NaN</td>\n",
       "      <td>48720.0</td>\n",
       "      <td>R091</td>\n",
       "      <td>R511</td>\n",
       "      <td>WASHINGTON-36 A</td>\n",
       "      <td>NQ</td>\n",
       "      <td>BMT</td>\n",
       "      <td>5</td>\n",
       "    </tr>\n",
       "  </tbody>\n",
       "</table>\n",
       "<p>5 rows × 22 columns</p>\n",
       "</div>"
      ],
      "text/plain": [
       "   Station ID  Complex ID GTFS Stop ID Division     Line  \\\n",
       "0           1           1          R01      BMT  Astoria   \n",
       "1           2           2          R03      BMT  Astoria   \n",
       "2           3           3          R04      BMT  Astoria   \n",
       "3           4           4          R05      BMT  Astoria   \n",
       "4           5           5          R06      BMT  Astoria   \n",
       "\n",
       "              Stop Name Borough Daytime Routes Structure  GTFS Latitude  ...  \\\n",
       "0  Astoria-Ditmars Blvd       Q            N W  Elevated      40.775036  ...   \n",
       "1          Astoria Blvd       Q            N W  Elevated      40.770258  ...   \n",
       "2                 30 Av       Q            N W  Elevated      40.766779  ...   \n",
       "3              Broadway       Q            N W  Elevated      40.761820  ...   \n",
       "4                 36 Av       Q            N W  Elevated      40.756804  ...   \n",
       "\n",
       "   South Direction Label ADA ADA Notes   income remote  booth  \\\n",
       "0              Manhattan   0       NaN  57525.0   R095   R515   \n",
       "1              Manhattan   1       NaN  49924.0   R094   R514   \n",
       "2              Manhattan   0       NaN  49924.0   R093   R513   \n",
       "3              Manhattan   0       NaN  49924.0   R092   R512   \n",
       "4              Manhattan   0       NaN  48720.0   R091   R511   \n",
       "\n",
       "           station line_name division complex_id2  \n",
       "0  DITMARS BL-31 S        NQ      BMT           1  \n",
       "1  HOYT ST-ASTORIA        NQ      BMT           2  \n",
       "2     GRAND-30 AVE        NQ      BMT           3  \n",
       "3   BROADWAY-31 ST        NQ      BMT           4  \n",
       "4  WASHINGTON-36 A        NQ      BMT           5  \n",
       "\n",
       "[5 rows x 22 columns]"
      ]
     },
     "execution_count": 134,
     "metadata": {},
     "output_type": "execute_result"
    }
   ],
   "source": [
    "stations_complex.head()"
   ]
  },
  {
   "cell_type": "code",
   "execution_count": 137,
   "metadata": {},
   "outputs": [],
   "source": [
    "# merge stations to turnstile df\n",
    "# !! do NOT merge by station field - we can probably drop the one from turnstile\n",
    "# we might want to add the DIVISION var back for merging\n",
    "\n",
    "turnstiles_4hourly_w_station_info = pd.merge(turnstiles_4hourly, stations_complex,  how='left', left_on=['C/A','UNIT'], right_on = ['booth','remote'])"
   ]
  },
  {
   "cell_type": "code",
   "execution_count": 138,
   "metadata": {},
   "outputs": [
    {
     "data": {
      "text/html": [
       "<div>\n",
       "<style scoped>\n",
       "    .dataframe tbody tr th:only-of-type {\n",
       "        vertical-align: middle;\n",
       "    }\n",
       "\n",
       "    .dataframe tbody tr th {\n",
       "        vertical-align: top;\n",
       "    }\n",
       "\n",
       "    .dataframe thead th {\n",
       "        text-align: right;\n",
       "    }\n",
       "</style>\n",
       "<table border=\"1\" class=\"dataframe\">\n",
       "  <thead>\n",
       "    <tr style=\"text-align: right;\">\n",
       "      <th></th>\n",
       "      <th>C/A</th>\n",
       "      <th>UNIT</th>\n",
       "      <th>SCP</th>\n",
       "      <th>STATION</th>\n",
       "      <th>Datetime</th>\n",
       "      <th>Traffic_running_total</th>\n",
       "      <th>PREV_TIME</th>\n",
       "      <th>PREV_Traffic_running_total</th>\n",
       "      <th>Hour</th>\n",
       "      <th>Delta_hours</th>\n",
       "      <th>...</th>\n",
       "      <th>South Direction Label</th>\n",
       "      <th>ADA</th>\n",
       "      <th>ADA Notes</th>\n",
       "      <th>income</th>\n",
       "      <th>remote</th>\n",
       "      <th>booth</th>\n",
       "      <th>station</th>\n",
       "      <th>line_name</th>\n",
       "      <th>division</th>\n",
       "      <th>complex_id2</th>\n",
       "    </tr>\n",
       "  </thead>\n",
       "  <tbody>\n",
       "    <tr>\n",
       "      <th>0</th>\n",
       "      <td>A002</td>\n",
       "      <td>R051</td>\n",
       "      <td>02-00-00</td>\n",
       "      <td>59 ST</td>\n",
       "      <td>2019-06-29 00:00:00</td>\n",
       "      <td>9526917</td>\n",
       "      <td>NaT</td>\n",
       "      <td>NaN</td>\n",
       "      <td>0</td>\n",
       "      <td>NaN</td>\n",
       "      <td>...</td>\n",
       "      <td>Downtown &amp; Brooklyn</td>\n",
       "      <td>0.0</td>\n",
       "      <td>NaN</td>\n",
       "      <td>115519.0</td>\n",
       "      <td>R051</td>\n",
       "      <td>A002</td>\n",
       "      <td>LEXINGTON AVE</td>\n",
       "      <td>456NQR</td>\n",
       "      <td>BMT</td>\n",
       "      <td>613.0</td>\n",
       "    </tr>\n",
       "    <tr>\n",
       "      <th>1</th>\n",
       "      <td>A002</td>\n",
       "      <td>R051</td>\n",
       "      <td>02-00-00</td>\n",
       "      <td>59 ST</td>\n",
       "      <td>2019-06-29 00:00:00</td>\n",
       "      <td>9526917</td>\n",
       "      <td>NaT</td>\n",
       "      <td>NaN</td>\n",
       "      <td>0</td>\n",
       "      <td>NaN</td>\n",
       "      <td>...</td>\n",
       "      <td>Downtown &amp; Brooklyn</td>\n",
       "      <td>0.0</td>\n",
       "      <td>NaN</td>\n",
       "      <td>109019.0</td>\n",
       "      <td>R051</td>\n",
       "      <td>A002</td>\n",
       "      <td>LEXINGTON AVE</td>\n",
       "      <td>456NQR</td>\n",
       "      <td>BMT</td>\n",
       "      <td>613.0</td>\n",
       "    </tr>\n",
       "    <tr>\n",
       "      <th>2</th>\n",
       "      <td>A002</td>\n",
       "      <td>R051</td>\n",
       "      <td>02-00-00</td>\n",
       "      <td>59 ST</td>\n",
       "      <td>2019-06-29 08:00:00</td>\n",
       "      <td>9526988</td>\n",
       "      <td>2019-06-29 00:00:00</td>\n",
       "      <td>9526917.0</td>\n",
       "      <td>8</td>\n",
       "      <td>8.0</td>\n",
       "      <td>...</td>\n",
       "      <td>Downtown &amp; Brooklyn</td>\n",
       "      <td>0.0</td>\n",
       "      <td>NaN</td>\n",
       "      <td>115519.0</td>\n",
       "      <td>R051</td>\n",
       "      <td>A002</td>\n",
       "      <td>LEXINGTON AVE</td>\n",
       "      <td>456NQR</td>\n",
       "      <td>BMT</td>\n",
       "      <td>613.0</td>\n",
       "    </tr>\n",
       "    <tr>\n",
       "      <th>3</th>\n",
       "      <td>A002</td>\n",
       "      <td>R051</td>\n",
       "      <td>02-00-00</td>\n",
       "      <td>59 ST</td>\n",
       "      <td>2019-06-29 08:00:00</td>\n",
       "      <td>9526988</td>\n",
       "      <td>2019-06-29 00:00:00</td>\n",
       "      <td>9526917.0</td>\n",
       "      <td>8</td>\n",
       "      <td>8.0</td>\n",
       "      <td>...</td>\n",
       "      <td>Downtown &amp; Brooklyn</td>\n",
       "      <td>0.0</td>\n",
       "      <td>NaN</td>\n",
       "      <td>109019.0</td>\n",
       "      <td>R051</td>\n",
       "      <td>A002</td>\n",
       "      <td>LEXINGTON AVE</td>\n",
       "      <td>456NQR</td>\n",
       "      <td>BMT</td>\n",
       "      <td>613.0</td>\n",
       "    </tr>\n",
       "    <tr>\n",
       "      <th>4</th>\n",
       "      <td>A002</td>\n",
       "      <td>R051</td>\n",
       "      <td>02-00-00</td>\n",
       "      <td>59 ST</td>\n",
       "      <td>2019-06-29 12:00:00</td>\n",
       "      <td>9527144</td>\n",
       "      <td>2019-06-29 08:00:00</td>\n",
       "      <td>9526988.0</td>\n",
       "      <td>12</td>\n",
       "      <td>4.0</td>\n",
       "      <td>...</td>\n",
       "      <td>Downtown &amp; Brooklyn</td>\n",
       "      <td>0.0</td>\n",
       "      <td>NaN</td>\n",
       "      <td>115519.0</td>\n",
       "      <td>R051</td>\n",
       "      <td>A002</td>\n",
       "      <td>LEXINGTON AVE</td>\n",
       "      <td>456NQR</td>\n",
       "      <td>BMT</td>\n",
       "      <td>613.0</td>\n",
       "    </tr>\n",
       "  </tbody>\n",
       "</table>\n",
       "<p>5 rows × 36 columns</p>\n",
       "</div>"
      ],
      "text/plain": [
       "    C/A  UNIT       SCP STATION            Datetime  Traffic_running_total  \\\n",
       "0  A002  R051  02-00-00   59 ST 2019-06-29 00:00:00                9526917   \n",
       "1  A002  R051  02-00-00   59 ST 2019-06-29 00:00:00                9526917   \n",
       "2  A002  R051  02-00-00   59 ST 2019-06-29 08:00:00                9526988   \n",
       "3  A002  R051  02-00-00   59 ST 2019-06-29 08:00:00                9526988   \n",
       "4  A002  R051  02-00-00   59 ST 2019-06-29 12:00:00                9527144   \n",
       "\n",
       "            PREV_TIME  PREV_Traffic_running_total  Hour  Delta_hours  ...  \\\n",
       "0                 NaT                         NaN     0          NaN  ...   \n",
       "1                 NaT                         NaN     0          NaN  ...   \n",
       "2 2019-06-29 00:00:00                   9526917.0     8          8.0  ...   \n",
       "3 2019-06-29 00:00:00                   9526917.0     8          8.0  ...   \n",
       "4 2019-06-29 08:00:00                   9526988.0    12          4.0  ...   \n",
       "\n",
       "   South Direction Label  ADA ADA Notes    income  remote  booth  \\\n",
       "0    Downtown & Brooklyn  0.0       NaN  115519.0    R051   A002   \n",
       "1    Downtown & Brooklyn  0.0       NaN  109019.0    R051   A002   \n",
       "2    Downtown & Brooklyn  0.0       NaN  115519.0    R051   A002   \n",
       "3    Downtown & Brooklyn  0.0       NaN  109019.0    R051   A002   \n",
       "4    Downtown & Brooklyn  0.0       NaN  115519.0    R051   A002   \n",
       "\n",
       "         station line_name division complex_id2  \n",
       "0  LEXINGTON AVE    456NQR      BMT       613.0  \n",
       "1  LEXINGTON AVE    456NQR      BMT       613.0  \n",
       "2  LEXINGTON AVE    456NQR      BMT       613.0  \n",
       "3  LEXINGTON AVE    456NQR      BMT       613.0  \n",
       "4  LEXINGTON AVE    456NQR      BMT       613.0  \n",
       "\n",
       "[5 rows x 36 columns]"
      ]
     },
     "execution_count": 138,
     "metadata": {},
     "output_type": "execute_result"
    }
   ],
   "source": [
    "turnstiles_4hourly_w_station_info.head()"
   ]
  },
  {
   "cell_type": "code",
   "execution_count": 139,
   "metadata": {},
   "outputs": [],
   "source": [
    "# We're capping the ppl per hour at 10k. Should we be doing this??\n",
    "turnstiles_4hourly_w_station_info_cleaner = turnstiles_4hourly_w_station_info[ (turnstiles_4hourly_w_station_info[\"People_per_hour\"] >0) & (turnstiles_4hourly_w_station_info[\"People_per_hour\"] < 10000)]"
   ]
  },
  {
   "cell_type": "code",
   "execution_count": 140,
   "metadata": {},
   "outputs": [
    {
     "data": {
      "text/html": [
       "<div>\n",
       "<style scoped>\n",
       "    .dataframe tbody tr th:only-of-type {\n",
       "        vertical-align: middle;\n",
       "    }\n",
       "\n",
       "    .dataframe tbody tr th {\n",
       "        vertical-align: top;\n",
       "    }\n",
       "\n",
       "    .dataframe thead th {\n",
       "        text-align: right;\n",
       "    }\n",
       "</style>\n",
       "<table border=\"1\" class=\"dataframe\">\n",
       "  <thead>\n",
       "    <tr style=\"text-align: right;\">\n",
       "      <th></th>\n",
       "      <th>C/A</th>\n",
       "      <th>UNIT</th>\n",
       "      <th>SCP</th>\n",
       "      <th>STATION</th>\n",
       "      <th>Datetime</th>\n",
       "      <th>Traffic_running_total</th>\n",
       "      <th>PREV_TIME</th>\n",
       "      <th>PREV_Traffic_running_total</th>\n",
       "      <th>Hour</th>\n",
       "      <th>Delta_hours</th>\n",
       "      <th>...</th>\n",
       "      <th>South Direction Label</th>\n",
       "      <th>ADA</th>\n",
       "      <th>ADA Notes</th>\n",
       "      <th>income</th>\n",
       "      <th>remote</th>\n",
       "      <th>booth</th>\n",
       "      <th>station</th>\n",
       "      <th>line_name</th>\n",
       "      <th>division</th>\n",
       "      <th>complex_id2</th>\n",
       "    </tr>\n",
       "  </thead>\n",
       "  <tbody>\n",
       "    <tr>\n",
       "      <th>2</th>\n",
       "      <td>A002</td>\n",
       "      <td>R051</td>\n",
       "      <td>02-00-00</td>\n",
       "      <td>59 ST</td>\n",
       "      <td>2019-06-29 08:00:00</td>\n",
       "      <td>9526988</td>\n",
       "      <td>2019-06-29 00:00:00</td>\n",
       "      <td>9526917.0</td>\n",
       "      <td>8</td>\n",
       "      <td>8.0</td>\n",
       "      <td>...</td>\n",
       "      <td>Downtown &amp; Brooklyn</td>\n",
       "      <td>0.0</td>\n",
       "      <td>NaN</td>\n",
       "      <td>115519.0</td>\n",
       "      <td>R051</td>\n",
       "      <td>A002</td>\n",
       "      <td>LEXINGTON AVE</td>\n",
       "      <td>456NQR</td>\n",
       "      <td>BMT</td>\n",
       "      <td>613.0</td>\n",
       "    </tr>\n",
       "    <tr>\n",
       "      <th>3</th>\n",
       "      <td>A002</td>\n",
       "      <td>R051</td>\n",
       "      <td>02-00-00</td>\n",
       "      <td>59 ST</td>\n",
       "      <td>2019-06-29 08:00:00</td>\n",
       "      <td>9526988</td>\n",
       "      <td>2019-06-29 00:00:00</td>\n",
       "      <td>9526917.0</td>\n",
       "      <td>8</td>\n",
       "      <td>8.0</td>\n",
       "      <td>...</td>\n",
       "      <td>Downtown &amp; Brooklyn</td>\n",
       "      <td>0.0</td>\n",
       "      <td>NaN</td>\n",
       "      <td>109019.0</td>\n",
       "      <td>R051</td>\n",
       "      <td>A002</td>\n",
       "      <td>LEXINGTON AVE</td>\n",
       "      <td>456NQR</td>\n",
       "      <td>BMT</td>\n",
       "      <td>613.0</td>\n",
       "    </tr>\n",
       "    <tr>\n",
       "      <th>4</th>\n",
       "      <td>A002</td>\n",
       "      <td>R051</td>\n",
       "      <td>02-00-00</td>\n",
       "      <td>59 ST</td>\n",
       "      <td>2019-06-29 12:00:00</td>\n",
       "      <td>9527144</td>\n",
       "      <td>2019-06-29 08:00:00</td>\n",
       "      <td>9526988.0</td>\n",
       "      <td>12</td>\n",
       "      <td>4.0</td>\n",
       "      <td>...</td>\n",
       "      <td>Downtown &amp; Brooklyn</td>\n",
       "      <td>0.0</td>\n",
       "      <td>NaN</td>\n",
       "      <td>115519.0</td>\n",
       "      <td>R051</td>\n",
       "      <td>A002</td>\n",
       "      <td>LEXINGTON AVE</td>\n",
       "      <td>456NQR</td>\n",
       "      <td>BMT</td>\n",
       "      <td>613.0</td>\n",
       "    </tr>\n",
       "    <tr>\n",
       "      <th>5</th>\n",
       "      <td>A002</td>\n",
       "      <td>R051</td>\n",
       "      <td>02-00-00</td>\n",
       "      <td>59 ST</td>\n",
       "      <td>2019-06-29 12:00:00</td>\n",
       "      <td>9527144</td>\n",
       "      <td>2019-06-29 08:00:00</td>\n",
       "      <td>9526988.0</td>\n",
       "      <td>12</td>\n",
       "      <td>4.0</td>\n",
       "      <td>...</td>\n",
       "      <td>Downtown &amp; Brooklyn</td>\n",
       "      <td>0.0</td>\n",
       "      <td>NaN</td>\n",
       "      <td>109019.0</td>\n",
       "      <td>R051</td>\n",
       "      <td>A002</td>\n",
       "      <td>LEXINGTON AVE</td>\n",
       "      <td>456NQR</td>\n",
       "      <td>BMT</td>\n",
       "      <td>613.0</td>\n",
       "    </tr>\n",
       "    <tr>\n",
       "      <th>6</th>\n",
       "      <td>A002</td>\n",
       "      <td>R051</td>\n",
       "      <td>02-00-00</td>\n",
       "      <td>59 ST</td>\n",
       "      <td>2019-06-29 16:00:00</td>\n",
       "      <td>9527422</td>\n",
       "      <td>2019-06-29 12:00:00</td>\n",
       "      <td>9527144.0</td>\n",
       "      <td>16</td>\n",
       "      <td>4.0</td>\n",
       "      <td>...</td>\n",
       "      <td>Downtown &amp; Brooklyn</td>\n",
       "      <td>0.0</td>\n",
       "      <td>NaN</td>\n",
       "      <td>115519.0</td>\n",
       "      <td>R051</td>\n",
       "      <td>A002</td>\n",
       "      <td>LEXINGTON AVE</td>\n",
       "      <td>456NQR</td>\n",
       "      <td>BMT</td>\n",
       "      <td>613.0</td>\n",
       "    </tr>\n",
       "  </tbody>\n",
       "</table>\n",
       "<p>5 rows × 36 columns</p>\n",
       "</div>"
      ],
      "text/plain": [
       "    C/A  UNIT       SCP STATION            Datetime  Traffic_running_total  \\\n",
       "2  A002  R051  02-00-00   59 ST 2019-06-29 08:00:00                9526988   \n",
       "3  A002  R051  02-00-00   59 ST 2019-06-29 08:00:00                9526988   \n",
       "4  A002  R051  02-00-00   59 ST 2019-06-29 12:00:00                9527144   \n",
       "5  A002  R051  02-00-00   59 ST 2019-06-29 12:00:00                9527144   \n",
       "6  A002  R051  02-00-00   59 ST 2019-06-29 16:00:00                9527422   \n",
       "\n",
       "            PREV_TIME  PREV_Traffic_running_total  Hour  Delta_hours  ...  \\\n",
       "2 2019-06-29 00:00:00                   9526917.0     8          8.0  ...   \n",
       "3 2019-06-29 00:00:00                   9526917.0     8          8.0  ...   \n",
       "4 2019-06-29 08:00:00                   9526988.0    12          4.0  ...   \n",
       "5 2019-06-29 08:00:00                   9526988.0    12          4.0  ...   \n",
       "6 2019-06-29 12:00:00                   9527144.0    16          4.0  ...   \n",
       "\n",
       "   South Direction Label  ADA ADA Notes    income  remote  booth  \\\n",
       "2    Downtown & Brooklyn  0.0       NaN  115519.0    R051   A002   \n",
       "3    Downtown & Brooklyn  0.0       NaN  109019.0    R051   A002   \n",
       "4    Downtown & Brooklyn  0.0       NaN  115519.0    R051   A002   \n",
       "5    Downtown & Brooklyn  0.0       NaN  109019.0    R051   A002   \n",
       "6    Downtown & Brooklyn  0.0       NaN  115519.0    R051   A002   \n",
       "\n",
       "         station line_name division complex_id2  \n",
       "2  LEXINGTON AVE    456NQR      BMT       613.0  \n",
       "3  LEXINGTON AVE    456NQR      BMT       613.0  \n",
       "4  LEXINGTON AVE    456NQR      BMT       613.0  \n",
       "5  LEXINGTON AVE    456NQR      BMT       613.0  \n",
       "6  LEXINGTON AVE    456NQR      BMT       613.0  \n",
       "\n",
       "[5 rows x 36 columns]"
      ]
     },
     "execution_count": 140,
     "metadata": {},
     "output_type": "execute_result"
    }
   ],
   "source": [
    "turnstiles_4hourly_w_station_info_cleaner.head()"
   ]
  },
  {
   "cell_type": "code",
   "execution_count": 141,
   "metadata": {},
   "outputs": [],
   "source": [
    "# Here we can choose which \"station\" variable to keep. right now it's from turnstile\n",
    "turnstile_summary = turnstiles_4hourly_w_station_info_cleaner[[\"STATION\", \"Datetime\", \"Day_of_week\", \"Day_num\", \"Hour\", \"Day_hour\",\"People_per_hour\",\"GTFS Latitude\",\"GTFS Longitude\",\"income\"]]"
   ]
  },
  {
   "cell_type": "code",
   "execution_count": 142,
   "metadata": {},
   "outputs": [
    {
     "data": {
      "text/html": [
       "<div>\n",
       "<style scoped>\n",
       "    .dataframe tbody tr th:only-of-type {\n",
       "        vertical-align: middle;\n",
       "    }\n",
       "\n",
       "    .dataframe tbody tr th {\n",
       "        vertical-align: top;\n",
       "    }\n",
       "\n",
       "    .dataframe thead th {\n",
       "        text-align: right;\n",
       "    }\n",
       "</style>\n",
       "<table border=\"1\" class=\"dataframe\">\n",
       "  <thead>\n",
       "    <tr style=\"text-align: right;\">\n",
       "      <th></th>\n",
       "      <th>STATION</th>\n",
       "      <th>Datetime</th>\n",
       "      <th>Day_of_week</th>\n",
       "      <th>Day_num</th>\n",
       "      <th>Hour</th>\n",
       "      <th>Day_hour</th>\n",
       "      <th>People_per_hour</th>\n",
       "      <th>GTFS Latitude</th>\n",
       "      <th>GTFS Longitude</th>\n",
       "      <th>income</th>\n",
       "    </tr>\n",
       "  </thead>\n",
       "  <tbody>\n",
       "    <tr>\n",
       "      <th>2</th>\n",
       "      <td>59 ST</td>\n",
       "      <td>2019-06-29 08:00:00</td>\n",
       "      <td>Saturday</td>\n",
       "      <td>5</td>\n",
       "      <td>8</td>\n",
       "      <td>5.333333</td>\n",
       "      <td>8.875</td>\n",
       "      <td>40.762660</td>\n",
       "      <td>-73.967258</td>\n",
       "      <td>115519.0</td>\n",
       "    </tr>\n",
       "    <tr>\n",
       "      <th>3</th>\n",
       "      <td>59 ST</td>\n",
       "      <td>2019-06-29 08:00:00</td>\n",
       "      <td>Saturday</td>\n",
       "      <td>5</td>\n",
       "      <td>8</td>\n",
       "      <td>5.333333</td>\n",
       "      <td>8.875</td>\n",
       "      <td>40.762526</td>\n",
       "      <td>-73.967967</td>\n",
       "      <td>109019.0</td>\n",
       "    </tr>\n",
       "    <tr>\n",
       "      <th>4</th>\n",
       "      <td>59 ST</td>\n",
       "      <td>2019-06-29 12:00:00</td>\n",
       "      <td>Saturday</td>\n",
       "      <td>5</td>\n",
       "      <td>12</td>\n",
       "      <td>5.500000</td>\n",
       "      <td>39.000</td>\n",
       "      <td>40.762660</td>\n",
       "      <td>-73.967258</td>\n",
       "      <td>115519.0</td>\n",
       "    </tr>\n",
       "    <tr>\n",
       "      <th>5</th>\n",
       "      <td>59 ST</td>\n",
       "      <td>2019-06-29 12:00:00</td>\n",
       "      <td>Saturday</td>\n",
       "      <td>5</td>\n",
       "      <td>12</td>\n",
       "      <td>5.500000</td>\n",
       "      <td>39.000</td>\n",
       "      <td>40.762526</td>\n",
       "      <td>-73.967967</td>\n",
       "      <td>109019.0</td>\n",
       "    </tr>\n",
       "    <tr>\n",
       "      <th>6</th>\n",
       "      <td>59 ST</td>\n",
       "      <td>2019-06-29 16:00:00</td>\n",
       "      <td>Saturday</td>\n",
       "      <td>5</td>\n",
       "      <td>16</td>\n",
       "      <td>5.666667</td>\n",
       "      <td>69.500</td>\n",
       "      <td>40.762660</td>\n",
       "      <td>-73.967258</td>\n",
       "      <td>115519.0</td>\n",
       "    </tr>\n",
       "  </tbody>\n",
       "</table>\n",
       "</div>"
      ],
      "text/plain": [
       "  STATION            Datetime Day_of_week  Day_num  Hour  Day_hour  \\\n",
       "2   59 ST 2019-06-29 08:00:00    Saturday        5     8  5.333333   \n",
       "3   59 ST 2019-06-29 08:00:00    Saturday        5     8  5.333333   \n",
       "4   59 ST 2019-06-29 12:00:00    Saturday        5    12  5.500000   \n",
       "5   59 ST 2019-06-29 12:00:00    Saturday        5    12  5.500000   \n",
       "6   59 ST 2019-06-29 16:00:00    Saturday        5    16  5.666667   \n",
       "\n",
       "   People_per_hour  GTFS Latitude  GTFS Longitude    income  \n",
       "2            8.875      40.762660      -73.967258  115519.0  \n",
       "3            8.875      40.762526      -73.967967  109019.0  \n",
       "4           39.000      40.762660      -73.967258  115519.0  \n",
       "5           39.000      40.762526      -73.967967  109019.0  \n",
       "6           69.500      40.762660      -73.967258  115519.0  "
      ]
     },
     "execution_count": 142,
     "metadata": {},
     "output_type": "execute_result"
    }
   ],
   "source": [
    "turnstile_summary.head()"
   ]
  },
  {
   "cell_type": "code",
   "execution_count": null,
   "metadata": {},
   "outputs": [],
   "source": [
    "# Commenting out hte original merge below which i don't think would've worked"
   ]
  },
  {
   "cell_type": "code",
   "execution_count": null,
   "metadata": {},
   "outputs": [],
   "source": [
    "# Back to turnstile df, merge Station (with income) and keep rows with ppl per hour between 0-10000\n",
    "# turnstiles_4hourly_w_station_info = turnstiles_4hourly.merge(stations_complex, left_on=\"STATION\", right_on=\"Stop Name\")\n",
    "# turnstiles_4hourly_w_station_info_cleaner = turnstiles_4hourly_w_station_info[ (turnstiles_4hourly_w_station_info[\"People_per_hour\"] >0) & (turnstiles_4hourly_w_station_info[\"People_per_hour\"] < 10000)]\n",
    "# turnstile_summary = turnstiles_4hourly_w_station_info_cleaner[[\"STATION\", \"Datetime\", \"Day_of_week\", \"Day_num\", \"Hour\", \"Day_hour\",\"People_per_hour\",\"GTFS Latitude\",\"GTFS Longitude\"]]"
   ]
  },
  {
   "cell_type": "markdown",
   "metadata": {},
   "source": [
    "## -------- CC - END OF STATIONS/Xwalk/Turnstiles Merge ---------"
   ]
  },
  {
   "cell_type": "markdown",
   "metadata": {},
   "source": [
    "### Composite of all stations, day-by-day traffic people per hour\n",
    "(haven't yet made title or labeled y axis--needs to be done)"
   ]
  },
  {
   "cell_type": "code",
   "execution_count": 143,
   "metadata": {},
   "outputs": [
    {
     "data": {
      "text/plain": [
       "<matplotlib.collections.PathCollection at 0x7fbc4156beb0>"
      ]
     },
     "execution_count": 143,
     "metadata": {},
     "output_type": "execute_result"
    },
    {
     "data": {
      "image/png": "[encoded data removed]",
      "text/plain": [
       "<Figure size 1080x288 with 1 Axes>"
      ]
     },
     "metadata": {},
     "output_type": "display_data"
    }
   ],
   "source": [
    "plt.figure(figsize=(15,4))\n",
    "plt.scatter( x=turnstile_summary['Day_of_week'], y=turnstile_summary['People_per_hour'], marker='.', s=(30,))\n"
   ]
  },
  {
   "cell_type": "code",
   "execution_count": 144,
   "metadata": {},
   "outputs": [
    {
     "data": {
      "text/plain": [
       "<matplotlib.collections.PathCollection at 0x7fbc3d0d2fa0>"
      ]
     },
     "execution_count": 144,
     "metadata": {},
     "output_type": "execute_result"
    },
    {
     "data": {
      "image/png": "[encoded data removed]",
      "text/plain": [
       "<Figure size 1080x288 with 1 Axes>"
      ]
     },
     "metadata": {},
     "output_type": "display_data"
    }
   ],
   "source": [
    "plt.figure(figsize=(15,4))\n",
    "plt.scatter( x=turnstile_summary['Day_hour'], y=turnstile_summary['People_per_hour'], marker='.', s=(30,))\n"
   ]
  },
  {
   "cell_type": "code",
   "execution_count": 145,
   "metadata": {},
   "outputs": [
    {
     "data": {
      "text/plain": [
       "<matplotlib.collections.PathCollection at 0x7fbc3d0b3ee0>"
      ]
     },
     "execution_count": 145,
     "metadata": {},
     "output_type": "execute_result"
    },
    {
     "data": {
      "image/png": "[encoded data removed]",
      "text/plain": [
       "<Figure size 2880x720 with 1 Axes>"
      ]
     },
     "metadata": {},
     "output_type": "display_data"
    }
   ],
   "source": [
    "import numpy as np\n",
    "station_list = turnstile_summary['STATION'].unique().tolist()\n",
    "ticks_x = np.linspace(0.5, 6.5, 7)\n",
    "days = ['Monday','Tuesday','Wednesday','Thursday','Friday','Saturday', 'Sunday']\n",
    "plt.xticks(ticks_x, days, fontsize = '40', color='k');\n",
    "size_ = 50\n",
    "plt.scatter( x=turnstile_summary[turnstile_summary['STATION']==station_list[0]]['Day_hour'], y=turnstile_summary[turnstile_summary['STATION']==station_list[0]]['People_per_hour'], marker='.', s=(size_,))\n",
    "plt.scatter( x=turnstile_summary[turnstile_summary['STATION']==station_list[1]]['Day_hour'], y=turnstile_summary[turnstile_summary['STATION']==station_list[1]]['People_per_hour'], marker='.', s=(size_,))\n",
    "plt.scatter( x=turnstile_summary[turnstile_summary['STATION']==station_list[2]]['Day_hour'], y=turnstile_summary[turnstile_summary['STATION']==station_list[2]]['People_per_hour'], marker='.', s=(size_,))\n",
    "plt.scatter( x=turnstile_summary[turnstile_summary['STATION']==station_list[3]]['Day_hour'], y=turnstile_summary[turnstile_summary['STATION']==station_list[3]]['People_per_hour'], marker='.', s=(size_,))\n",
    "# Chuck:\n",
    "# Can adjust the linspace so the Day of the Week looks right on the graph\n",
    "# station_list is just a placeholder I was using to get some station names\n",
    "# So if you do plt.scatter several times, it can plot each station individually in its own color. I know there's a way to code that better, but can't do it myself quickly right now\n",
    "\n",
    "# Josh:\n",
    "# This think this looks really helpful. I altered a couple of things as you'll see above\n",
    "# I think the colors could be used if focusing in on the four stations around the\n",
    "# district, which I isolated far up above. It would be especially impressive it there was a legend indicating those station names\n",
    "# With the colors I feel that the grey background detracts, and I don't remember how to make the background white, probably it's\n",
    "# about turning of the grid, not sure.\n",
    "\n",
    "# It would also be great to have a scatterplot by of lat-by-long of all stations that uses size or opacity to indicate\n",
    "# traffic or income, or vice versa\n"
   ]
  },
  {
   "cell_type": "code",
   "execution_count": null,
   "metadata": {},
   "outputs": [],
   "source": []
  },
  {
   "cell_type": "markdown",
   "metadata": {},
   "source": [
    "### Flatiron train station in particular is shown below"
   ]
  },
  {
   "cell_type": "code",
   "execution_count": 146,
   "metadata": {},
   "outputs": [
    {
     "data": {
      "text/plain": [
       "<matplotlib.collections.PathCollection at 0x7fbc41590d60>"
      ]
     },
     "execution_count": 146,
     "metadata": {},
     "output_type": "execute_result"
    },
    {
     "data": {
      "image/png": "[encoded data removed]",
      "text/plain": [
       "<Figure size 1080x288 with 1 Axes>"
      ]
     },
     "metadata": {},
     "output_type": "display_data"
    }
   ],
   "source": [
    "flatiron_turnstile_summary = turnstile_summary[turnstile_summary['STATION'].str.contains('23 ST')]\n",
    "plt.figure(figsize=(15,4))\n",
    "plt.scatter( x=flatiron_turnstile_summary['Day_of_week'], y=flatiron_turnstile_summary['People_per_hour'], marker='.', s=(30,))\n"
   ]
  },
  {
   "cell_type": "code",
   "execution_count": 147,
   "metadata": {},
   "outputs": [
    {
     "data": {
      "text/plain": [
       "<matplotlib.collections.PathCollection at 0x7fbc33734ac0>"
      ]
     },
     "execution_count": 147,
     "metadata": {},
     "output_type": "execute_result"
    },
    {
     "data": {
      "image/png": "[encoded data removed]",
      "text/plain": [
       "<Figure size 1080x288 with 1 Axes>"
      ]
     },
     "metadata": {},
     "output_type": "display_data"
    }
   ],
   "source": [
    "plt.figure(figsize=(15,4))\n",
    "plt.scatter( x=flatiron_turnstile_summary['Day_hour'], y=flatiron_turnstile_summary['People_per_hour'], marker='.', s=(30,))\n"
   ]
  },
  {
   "cell_type": "code",
   "execution_count": null,
   "metadata": {},
   "outputs": [],
   "source": []
  },
  {
   "cell_type": "markdown",
   "metadata": {},
   "source": [
    "## This dataframe view `turnstile_summary` would be a good one with which to merge income data.  It would also be a good one to make a lat-long scatterplot to indicate traffic.  "
   ]
  },
  {
   "cell_type": "markdown",
   "metadata": {},
   "source": [
    "Merge (join) the turnstile and stations dataframes.  We probably have too many columms here and should pare down."
   ]
  },
  {
   "cell_type": "markdown",
   "metadata": {},
   "source": [
    "## ----------- CC - Geo location and Income visuals --------------\n",
    "\n",
    "Keep in mind, as noted earlier, the data needs to be at the unique station level in order for this to work properly.\n",
    "The merge of turnstile to station included a middle step with a xwalk. This is not coming out 1:1 in the merge so we \n",
    "need to fix the merge first then provide the graphs."
   ]
  },
  {
   "cell_type": "code",
   "execution_count": 149,
   "metadata": {},
   "outputs": [
    {
     "data": {
      "text/html": [
       "<div>\n",
       "<style scoped>\n",
       "    .dataframe tbody tr th:only-of-type {\n",
       "        vertical-align: middle;\n",
       "    }\n",
       "\n",
       "    .dataframe tbody tr th {\n",
       "        vertical-align: top;\n",
       "    }\n",
       "\n",
       "    .dataframe thead th {\n",
       "        text-align: right;\n",
       "    }\n",
       "</style>\n",
       "<table border=\"1\" class=\"dataframe\">\n",
       "  <thead>\n",
       "    <tr style=\"text-align: right;\">\n",
       "      <th></th>\n",
       "      <th>STATION</th>\n",
       "      <th>Datetime</th>\n",
       "      <th>Day_of_week</th>\n",
       "      <th>Day_num</th>\n",
       "      <th>Hour</th>\n",
       "      <th>Day_hour</th>\n",
       "      <th>People_per_hour</th>\n",
       "      <th>GTFS Latitude</th>\n",
       "      <th>GTFS Longitude</th>\n",
       "      <th>income</th>\n",
       "    </tr>\n",
       "  </thead>\n",
       "  <tbody>\n",
       "    <tr>\n",
       "      <th>2</th>\n",
       "      <td>59 ST</td>\n",
       "      <td>2019-06-29 08:00:00</td>\n",
       "      <td>Saturday</td>\n",
       "      <td>5</td>\n",
       "      <td>8</td>\n",
       "      <td>5.333333</td>\n",
       "      <td>8.875</td>\n",
       "      <td>40.762660</td>\n",
       "      <td>-73.967258</td>\n",
       "      <td>115519.0</td>\n",
       "    </tr>\n",
       "    <tr>\n",
       "      <th>3</th>\n",
       "      <td>59 ST</td>\n",
       "      <td>2019-06-29 08:00:00</td>\n",
       "      <td>Saturday</td>\n",
       "      <td>5</td>\n",
       "      <td>8</td>\n",
       "      <td>5.333333</td>\n",
       "      <td>8.875</td>\n",
       "      <td>40.762526</td>\n",
       "      <td>-73.967967</td>\n",
       "      <td>109019.0</td>\n",
       "    </tr>\n",
       "    <tr>\n",
       "      <th>4</th>\n",
       "      <td>59 ST</td>\n",
       "      <td>2019-06-29 12:00:00</td>\n",
       "      <td>Saturday</td>\n",
       "      <td>5</td>\n",
       "      <td>12</td>\n",
       "      <td>5.500000</td>\n",
       "      <td>39.000</td>\n",
       "      <td>40.762660</td>\n",
       "      <td>-73.967258</td>\n",
       "      <td>115519.0</td>\n",
       "    </tr>\n",
       "    <tr>\n",
       "      <th>5</th>\n",
       "      <td>59 ST</td>\n",
       "      <td>2019-06-29 12:00:00</td>\n",
       "      <td>Saturday</td>\n",
       "      <td>5</td>\n",
       "      <td>12</td>\n",
       "      <td>5.500000</td>\n",
       "      <td>39.000</td>\n",
       "      <td>40.762526</td>\n",
       "      <td>-73.967967</td>\n",
       "      <td>109019.0</td>\n",
       "    </tr>\n",
       "    <tr>\n",
       "      <th>6</th>\n",
       "      <td>59 ST</td>\n",
       "      <td>2019-06-29 16:00:00</td>\n",
       "      <td>Saturday</td>\n",
       "      <td>5</td>\n",
       "      <td>16</td>\n",
       "      <td>5.666667</td>\n",
       "      <td>69.500</td>\n",
       "      <td>40.762660</td>\n",
       "      <td>-73.967258</td>\n",
       "      <td>115519.0</td>\n",
       "    </tr>\n",
       "  </tbody>\n",
       "</table>\n",
       "</div>"
      ],
      "text/plain": [
       "  STATION            Datetime Day_of_week  Day_num  Hour  Day_hour  \\\n",
       "2   59 ST 2019-06-29 08:00:00    Saturday        5     8  5.333333   \n",
       "3   59 ST 2019-06-29 08:00:00    Saturday        5     8  5.333333   \n",
       "4   59 ST 2019-06-29 12:00:00    Saturday        5    12  5.500000   \n",
       "5   59 ST 2019-06-29 12:00:00    Saturday        5    12  5.500000   \n",
       "6   59 ST 2019-06-29 16:00:00    Saturday        5    16  5.666667   \n",
       "\n",
       "   People_per_hour  GTFS Latitude  GTFS Longitude    income  \n",
       "2            8.875      40.762660      -73.967258  115519.0  \n",
       "3            8.875      40.762526      -73.967967  109019.0  \n",
       "4           39.000      40.762660      -73.967258  115519.0  \n",
       "5           39.000      40.762526      -73.967967  109019.0  \n",
       "6           69.500      40.762660      -73.967258  115519.0  "
      ]
     },
     "execution_count": 149,
     "metadata": {},
     "output_type": "execute_result"
    }
   ],
   "source": [
    "turnstile_summary.head()"
   ]
  },
  {
   "cell_type": "code",
   "execution_count": 158,
   "metadata": {},
   "outputs": [
    {
     "data": {
      "text/plain": [
       "<AxesSubplot:xlabel='GTFS Longitude', ylabel='GTFS Latitude'>"
      ]
     },
     "execution_count": 158,
     "metadata": {},
     "output_type": "execute_result"
    },
    {
     "data": {
      "image/png": "[encoded data removed]",
      "text/plain": [
       "<Figure size 2880x720 with 1 Axes>"
      ]
     },
     "metadata": {},
     "output_type": "display_data"
    }
   ],
   "source": [
    "# Very basic plot of lat/long\n",
    "turnstile_summary.plot(kind=\"scatter\", x=\"GTFS Longitude\", y=\"GTFS Latitude\", alpha=0.1, color=\"blue\")\n",
    "#save_fig(\"basic lat/lon\")"
   ]
  },
  {
   "cell_type": "markdown",
   "metadata": {},
   "source": [
    "### CC - This is the lat/long graph (stations as bubbles) and income as color\n",
    ". Need to fix merge to get data at a unique station level\n",
    ". Can make something more complex by adding map onto the graph"
   ]
  },
  {
   "cell_type": "code",
   "execution_count": 168,
   "metadata": {},
   "outputs": [
    {
     "data": {
      "image/png": "[encoded data removed]",
      "text/plain": [
       "<Figure size 504x720 with 2 Axes>"
      ]
     },
     "metadata": {},
     "output_type": "display_data"
    }
   ],
   "source": [
    "\n",
    "turnstile_summary.plot(kind=\"scatter\", x=\"GTFS Longitude\", y=\"GTFS Latitude\",\n",
    "    s=turnstile_summary['People_per_hour'], label=\"foot traffic\",\n",
    "    c=\"income\", cmap=plt.get_cmap(\"jet\"),\n",
    "    colorbar=True, alpha=0.2, figsize=(7,10),\n",
    ")\n",
    "plt.legend()\n",
    "#save_fig(\"housing_prices_scatterplot\")\n",
    "plt.show()"
   ]
  },
  {
   "cell_type": "markdown",
   "metadata": {},
   "source": [
    "## ------------ CC - END income geo graphs ------------"
   ]
  },
  {
   "cell_type": "code",
   "execution_count": 148,
   "metadata": {},
   "outputs": [
    {
     "data": {
      "text/html": [
       "<div>\n",
       "<style scoped>\n",
       "    .dataframe tbody tr th:only-of-type {\n",
       "        vertical-align: middle;\n",
       "    }\n",
       "\n",
       "    .dataframe tbody tr th {\n",
       "        vertical-align: top;\n",
       "    }\n",
       "\n",
       "    .dataframe thead th {\n",
       "        text-align: right;\n",
       "    }\n",
       "</style>\n",
       "<table border=\"1\" class=\"dataframe\">\n",
       "  <thead>\n",
       "    <tr style=\"text-align: right;\">\n",
       "      <th></th>\n",
       "      <th>STATION</th>\n",
       "      <th>Datetime</th>\n",
       "      <th>Day_of_week</th>\n",
       "      <th>Day_num</th>\n",
       "      <th>Hour</th>\n",
       "      <th>Day_hour</th>\n",
       "      <th>People_per_hour</th>\n",
       "      <th>GTFS Latitude</th>\n",
       "      <th>GTFS Longitude</th>\n",
       "      <th>income_x</th>\n",
       "      <th>income_y</th>\n",
       "    </tr>\n",
       "  </thead>\n",
       "  <tbody>\n",
       "  </tbody>\n",
       "</table>\n",
       "</div>"
      ],
      "text/plain": [
       "Empty DataFrame\n",
       "Columns: [STATION, Datetime, Day_of_week, Day_num, Hour, Day_hour, People_per_hour, GTFS Latitude, GTFS Longitude, income_x, income_y]\n",
       "Index: []"
      ]
     },
     "execution_count": 148,
     "metadata": {},
     "output_type": "execute_result"
    }
   ],
   "source": [
    "#turnstile_station = df.merge(stations, left_on=\"STATION\", right_on=\"Stop Name\")\n",
    "turnstile_station = turnstile_summary.merge(stations[['income', 'Stop Name']], left_on=\"STATION\", right_on=\"Stop Name\")\n",
    "turnstile_station.drop(columns=[\"Stop Name\"], inplace=True)\n",
    "turnstile_station"
   ]
  },
  {
   "cell_type": "markdown",
   "metadata": {},
   "source": [
    "For this to be useful regarding income levels in neighborhoods (which will probably exists by zip code), \n",
    "\n",
    "we'd have to merge this station we'd have to use library that gets zip code from lat and longitude\n",
    "\n",
    "I believe the one to use is probably geopy: \n",
    "[geopy](https://geopy.readthedocs.io/en/stable/)"
   ]
  },
  {
   "cell_type": "markdown",
   "metadata": {},
   "source": [
    "These might or not be helpful:\n",
    "\n",
    "[income by zip](https://www.incomebyzipcode.com/newyork)\n",
    "\n",
    "[open data nyc](https://opendata.cityofnewyork.us/)    "
   ]
  },
  {
   "cell_type": "code",
   "execution_count": null,
   "metadata": {},
   "outputs": [],
   "source": []
  },
  {
   "cell_type": "markdown",
   "metadata": {},
   "source": [
    "# I think the code below here should be re-oriented to draw instead from `turnstile_summary` using its column `People_per_hour`"
   ]
  },
  {
   "cell_type": "code",
   "execution_count": null,
   "metadata": {},
   "outputs": [],
   "source": [
    "df.head()"
   ]
  },
  {
   "cell_type": "code",
   "execution_count": null,
   "metadata": {},
   "outputs": [],
   "source": [
    "#Check for abnormalities. Less than zero are changed to positive and greater than the max are reset to 0\n",
    "def daily_counts(row, max_counter):\n",
    "    counter = row[\"ENTRIES\"] - row[\"PREV_ENTRIES\"]\n",
    "    if counter < 0:\n",
    "        counter = -counter\n",
    "    if counter > max_counter:\n",
    "        counter = min(row[\"ENTRIES\"], row[\"PREV_ENTRIES\"])\n",
    "    if counter > max_counter:\n",
    "        return 0\n",
    "    return counter"
   ]
  },
  {
   "cell_type": "code",
   "execution_count": null,
   "metadata": {},
   "outputs": [],
   "source": [
    "#sort \"ENTRIES\" by including \"Datetime\"\n",
    "(df.groupby([\"C/A\", \"UNIT\", \"SCP\", \"STATION\", \"Datetime\"])\n",
    "    .ENTRIES.count()\n",
    "    .reset_index()\n",
    "    .sort_values(\"ENTRIES\", ascending=False));"
   ]
  },
  {
   "cell_type": "code",
   "execution_count": null,
   "metadata": {},
   "outputs": [],
   "source": [
    "#Sort ENTRIES and keep the ending value of the day\n",
    "df_daily = df.groupby([\"C/A\", \"UNIT\", \"SCP\", \"STATION\", \"DATE\"])\\\n",
    "                .ENTRIES.first().reset_index().copy()"
   ]
  },
  {
   "cell_type": "code",
   "execution_count": null,
   "metadata": {},
   "outputs": [],
   "source": [
    "df_4hourly = df.groupby([\"C/A\", \"UNIT\", \"SCP\", \"STATION\", \"Datetime\"])\\\n",
    "                .ENTRIES.first().reset_index().copy()"
   ]
  },
  {
   "cell_type": "code",
   "execution_count": null,
   "metadata": {},
   "outputs": [],
   "source": [
    "df_4hourly.head()"
   ]
  },
  {
   "cell_type": "code",
   "execution_count": null,
   "metadata": {},
   "outputs": [],
   "source": [
    "#Grab the previous row's DATE and ENTRIES and pull into current column for all columns.\n",
    "df_daily[[\"PREV_DATE\", \"PREV_ENTRIES\"]] = (df_daily.groupby([\"C/A\", \"UNIT\", \"SCP\", \"STATION\"])[\"DATE\", \"ENTRIES\"]\\\n",
    "                                          .transform(lambda grp: grp.shift(1)));"
   ]
  },
  {
   "cell_type": "code",
   "execution_count": null,
   "metadata": {},
   "outputs": [],
   "source": [
    "df_daily.head()"
   ]
  },
  {
   "cell_type": "code",
   "execution_count": null,
   "metadata": {},
   "outputs": [],
   "source": [
    "#Use daily_counts function \n",
    "df_daily[\"DAILY_ENTRIES\"] = df_daily.apply(daily_counts, axis=1, max_counter=1000000);"
   ]
  },
  {
   "cell_type": "code",
   "execution_count": null,
   "metadata": {},
   "outputs": [],
   "source": [
    "df_daily.head()"
   ]
  },
  {
   "cell_type": "code",
   "execution_count": null,
   "metadata": {},
   "outputs": [],
   "source": [
    "#Dataframe for STATION and DATE and sum on DAILY ENTRIES.\n",
    "\n",
    "df_daily_stations = df_daily.groupby(['STATION', 'DATE'])['DAILY_ENTRIES'].sum().reset_index().sort_values(['DATE'])"
   ]
  },
  {
   "cell_type": "code",
   "execution_count": null,
   "metadata": {},
   "outputs": [],
   "source": [
    "df_median = df_daily_stations.groupby(['STATION'])['DAILY_ENTRIES'].agg(['median']).reset_index().sort_values(['median'], ascending=False)\n",
    "df_median_10 = df_median[:10]"
   ]
  },
  {
   "cell_type": "code",
   "execution_count": null,
   "metadata": {},
   "outputs": [],
   "source": [
    "#top ten stations bar plot\n",
    "\n",
    "df_median_10.plot.bar(x='STATION',y='median',color='blue')\n",
    "plt.xlabel('Stations', fontsize=30)\n",
    "plt.ylabel('Median', fontsize=30)\n",
    "plt.title(\"Top 10 Stations of Median Entries \", fontsize=30)\n",
    "plt.xticks(fontsize=24)\n",
    "plt.yticks(fontsize=18)\n",
    "plt.xticks(rotation=45)\n",
    "plt.legend([\"Median\"], prop={\"size\":20})\n",
    "\n",
    "plt.show()"
   ]
  },
  {
   "cell_type": "code",
   "execution_count": null,
   "metadata": {},
   "outputs": [],
   "source": [
    "df.head()"
   ]
  },
  {
   "cell_type": "code",
   "execution_count": null,
   "metadata": {},
   "outputs": [],
   "source": [
    "df_median = df.groupby('STATION')['ENTRIES'].sum().sort_values(ascending=False)\n",
    "df_median.head(10)"
   ]
  },
  {
   "cell_type": "code",
   "execution_count": null,
   "metadata": {},
   "outputs": [],
   "source": [
    "fig1 = plt.figure(figsize=[8,6])\n",
    "ax1 = sns.distplot(df_median,bins=50,kde=False)\n",
    "#plt.xlim([0,410000])\n",
    "plt.ylabel('No. of Stations',fontsize=15, weight='bold')\n",
    "plt.xlabel('Total Traffic', fontsize=15, weight='bold')\n",
    "ax1.annotate('Highest traffic Stations', xy=(0.73, 0.08), xytext=(0.73, 0.16), xycoords='axes fraction', \n",
    "            fontsize=18, ha='center', va='bottom', arrowprops=dict(arrowstyle='-[, widthB=9.0, lengthB=1', lw=8.0),color='blue')                            \n",
    "                            \n",
    "plt.title('Distribution of Traffic Across Stations',fontsize=15,weight='bold')\n",
    "sns.despine()\n",
    "\n",
    "plt.savefig('histplot.png',transparent=True, bbox_inches='tight')"
   ]
  },
  {
   "cell_type": "code",
   "execution_count": null,
   "metadata": {},
   "outputs": [],
   "source": []
  },
  {
   "cell_type": "code",
   "execution_count": null,
   "metadata": {},
   "outputs": [],
   "source": [
    "#Gives top 5\n",
    "df.groupby(['LINENAME', 'STATION']).sum().sort_values(by='ENTRIES',ascending=False).head(10)"
   ]
  },
  {
   "cell_type": "code",
   "execution_count": null,
   "metadata": {},
   "outputs": [],
   "source": []
  },
  {
   "cell_type": "code",
   "execution_count": null,
   "metadata": {},
   "outputs": [],
   "source": []
  },
  {
   "cell_type": "code",
   "execution_count": null,
   "metadata": {},
   "outputs": [],
   "source": []
  },
  {
   "cell_type": "code",
   "execution_count": null,
   "metadata": {},
   "outputs": [],
   "source": []
  },
  {
   "cell_type": "code",
   "execution_count": null,
   "metadata": {},
   "outputs": [],
   "source": []
  },
  {
   "cell_type": "code",
   "execution_count": null,
   "metadata": {},
   "outputs": [],
   "source": []
  },
  {
   "cell_type": "code",
   "execution_count": null,
   "metadata": {},
   "outputs": [],
   "source": []
  }
 ],
 "metadata": {
  "kernelspec": {
   "display_name": "Python 3",
   "language": "python",
   "name": "python3"
  },
  "language_info": {
   "codemirror_mode": {
    "name": "ipython",
    "version": 3
   },
   "file_extension": ".py",
   "mimetype": "text/x-python",
   "name": "python",
   "nbconvert_exporter": "python",
   "pygments_lexer": "ipython3",
   "version": "3.8.5"
  }
 },
 "nbformat": 4,
 "nbformat_minor": 4
}
