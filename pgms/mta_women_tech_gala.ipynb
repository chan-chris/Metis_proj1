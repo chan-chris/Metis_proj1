{
 "cells": [
  {
   "cell_type": "code",
   "execution_count": 1,
   "metadata": {},
   "outputs": [],
   "source": [
    "import pandas as pd\n",
    "from matplotlib import pyplot as plt"
   ]
  },
  {
   "cell_type": "code",
   "execution_count": 2,
   "metadata": {},
   "outputs": [],
   "source": [
    "turnstile_data_source = 'http://web.mta.info/developers/data/nyct/turnstile/'\n",
    "    \n",
    "turnstile_filename1 = 'turnstile_190713.txt'\n",
    "#st = turnstile_data_source + '/' + turnstile_filename1\n",
    "\n",
    "df = pd.read_csv(turnstile_data_source + '/' + turnstile_filename1)"
   ]
  },
  {
   "cell_type": "code",
   "execution_count": 3,
   "metadata": {},
   "outputs": [
    {
     "data": {
      "text/plain": [
       "Index(['C/A', 'UNIT', 'SCP', 'STATION', 'LINENAME', 'DIVISION', 'DATE', 'TIME',\n",
       "       'DESC', 'ENTRIES',\n",
       "       'EXITS                                                               '],\n",
       "      dtype='object')"
      ]
     },
     "execution_count": 3,
     "metadata": {},
     "output_type": "execute_result"
    }
   ],
   "source": [
    "df.columns"
   ]
  },
  {
   "cell_type": "code",
   "execution_count": 4,
   "metadata": {},
   "outputs": [],
   "source": [
    "# rename columns since the last column, 'EXITS', contains trailing whitespace\n",
    "df.columns = df.columns.str.replace(r'\\s+', '')\n",
    "\n",
    "df[\"EXITS\"] = pd.to_numeric(df[\"EXITS\"])\n",
    "\n",
    "# Use domain knowledge to select subway stops in and near the Flatiron district where there are many tech companies\n",
    "df_23st = df[df['STATION'].str.contains('23 ST')]\n",
    "\n",
    "# Four subway stops either in or near the Flatiron district\n",
    "flatiron = df_23st[df_23st['LINENAME'].str.contains('NRW')]\n",
    "gramercy = df_23st[df_23st['LINENAME'].str.contains('6')]\n",
    "east_chelsea = df_23st[df_23st['LINENAME'].str.contains('F')]\n",
    "union_sq = df[df['STATION'].str.contains('14 ST-UNION SQ')]"
   ]
  },
  {
   "cell_type": "markdown",
   "metadata": {},
   "source": [
    "Examine exits at different times in at the FI stop."
   ]
  },
  {
   "cell_type": "code",
   "execution_count": 5,
   "metadata": {},
   "outputs": [
    {
     "data": {
      "text/plain": [
       "<matplotlib.collections.PathCollection at 0x7fb8613532b0>"
      ]
     },
     "execution_count": 5,
     "metadata": {},
     "output_type": "execute_result"
    },
    {
     "data": {
      "image/png": "[encoded data removed]",
      "text/plain": [
       "<Figure size 432x288 with 1 Axes>"
      ]
     },
     "metadata": {
      "needs_background": "light"
     },
     "output_type": "display_data"
    }
   ],
   "source": [
    "plt.scatter(x=flatiron['TIME'], y=(flatiron['EXITS']).astype(int))"
   ]
  },
  {
   "cell_type": "markdown",
   "metadata": {},
   "source": [
    "This is not very helpful because times are in four-hour increments. \n",
    "\n",
    "To verify, let's sample the data and look at the TIME column: 16, 12, 0, 8, etc."
   ]
  },
  {
   "cell_type": "code",
   "execution_count": 6,
   "metadata": {},
   "outputs": [
    {
     "data": {
      "text/html": [
       "<div>\n",
       "<style scoped>\n",
       "    .dataframe tbody tr th:only-of-type {\n",
       "        vertical-align: middle;\n",
       "    }\n",
       "\n",
       "    .dataframe tbody tr th {\n",
       "        vertical-align: top;\n",
       "    }\n",
       "\n",
       "    .dataframe thead th {\n",
       "        text-align: right;\n",
       "    }\n",
       "</style>\n",
       "<table border=\"1\" class=\"dataframe\">\n",
       "  <thead>\n",
       "    <tr style=\"text-align: right;\">\n",
       "      <th></th>\n",
       "      <th>C/A</th>\n",
       "      <th>UNIT</th>\n",
       "      <th>SCP</th>\n",
       "      <th>STATION</th>\n",
       "      <th>LINENAME</th>\n",
       "      <th>DIVISION</th>\n",
       "      <th>DATE</th>\n",
       "      <th>TIME</th>\n",
       "      <th>DESC</th>\n",
       "      <th>ENTRIES</th>\n",
       "      <th>EXITS</th>\n",
       "    </tr>\n",
       "  </thead>\n",
       "  <tbody>\n",
       "    <tr>\n",
       "      <th>4502</th>\n",
       "      <td>A031</td>\n",
       "      <td>R083</td>\n",
       "      <td>00-03-02</td>\n",
       "      <td>23 ST</td>\n",
       "      <td>NRW</td>\n",
       "      <td>BMT</td>\n",
       "      <td>07/12/2019</td>\n",
       "      <td>12:00:00</td>\n",
       "      <td>REGULAR</td>\n",
       "      <td>160750</td>\n",
       "      <td>202698</td>\n",
       "    </tr>\n",
       "    <tr>\n",
       "      <th>4233</th>\n",
       "      <td>A030</td>\n",
       "      <td>R083</td>\n",
       "      <td>01-06-01</td>\n",
       "      <td>23 ST</td>\n",
       "      <td>NRW</td>\n",
       "      <td>BMT</td>\n",
       "      <td>07/09/2019</td>\n",
       "      <td>16:00:00</td>\n",
       "      <td>REGULAR</td>\n",
       "      <td>85870117</td>\n",
       "      <td>1228136</td>\n",
       "    </tr>\n",
       "    <tr>\n",
       "      <th>4177</th>\n",
       "      <td>A030</td>\n",
       "      <td>R083</td>\n",
       "      <td>01-06-00</td>\n",
       "      <td>23 ST</td>\n",
       "      <td>NRW</td>\n",
       "      <td>BMT</td>\n",
       "      <td>07/07/2019</td>\n",
       "      <td>08:00:00</td>\n",
       "      <td>REGULAR</td>\n",
       "      <td>8640281</td>\n",
       "      <td>4541655</td>\n",
       "    </tr>\n",
       "    <tr>\n",
       "      <th>4039</th>\n",
       "      <td>A030</td>\n",
       "      <td>R083</td>\n",
       "      <td>01-00-02</td>\n",
       "      <td>23 ST</td>\n",
       "      <td>NRW</td>\n",
       "      <td>BMT</td>\n",
       "      <td>07/12/2019</td>\n",
       "      <td>08:00:00</td>\n",
       "      <td>REGULAR</td>\n",
       "      <td>5216297</td>\n",
       "      <td>2428361</td>\n",
       "    </tr>\n",
       "    <tr>\n",
       "      <th>4378</th>\n",
       "      <td>A031</td>\n",
       "      <td>R083</td>\n",
       "      <td>00-00-02</td>\n",
       "      <td>23 ST</td>\n",
       "      <td>NRW</td>\n",
       "      <td>BMT</td>\n",
       "      <td>07/12/2019</td>\n",
       "      <td>20:00:00</td>\n",
       "      <td>REGULAR</td>\n",
       "      <td>6591447</td>\n",
       "      <td>3528798</td>\n",
       "    </tr>\n",
       "    <tr>\n",
       "      <th>...</th>\n",
       "      <td>...</td>\n",
       "      <td>...</td>\n",
       "      <td>...</td>\n",
       "      <td>...</td>\n",
       "      <td>...</td>\n",
       "      <td>...</td>\n",
       "      <td>...</td>\n",
       "      <td>...</td>\n",
       "      <td>...</td>\n",
       "      <td>...</td>\n",
       "      <td>...</td>\n",
       "    </tr>\n",
       "    <tr>\n",
       "      <th>4315</th>\n",
       "      <td>A031</td>\n",
       "      <td>R083</td>\n",
       "      <td>00-00-01</td>\n",
       "      <td>23 ST</td>\n",
       "      <td>NRW</td>\n",
       "      <td>BMT</td>\n",
       "      <td>07/09/2019</td>\n",
       "      <td>08:00:00</td>\n",
       "      <td>REGULAR</td>\n",
       "      <td>4671961</td>\n",
       "      <td>1562993</td>\n",
       "    </tr>\n",
       "    <tr>\n",
       "      <th>4282</th>\n",
       "      <td>A031</td>\n",
       "      <td>R083</td>\n",
       "      <td>00-00-00</td>\n",
       "      <td>23 ST</td>\n",
       "      <td>NRW</td>\n",
       "      <td>BMT</td>\n",
       "      <td>07/10/2019</td>\n",
       "      <td>20:00:00</td>\n",
       "      <td>REGULAR</td>\n",
       "      <td>1341572</td>\n",
       "      <td>719014</td>\n",
       "    </tr>\n",
       "    <tr>\n",
       "      <th>4454</th>\n",
       "      <td>A031</td>\n",
       "      <td>R083</td>\n",
       "      <td>00-03-01</td>\n",
       "      <td>23 ST</td>\n",
       "      <td>NRW</td>\n",
       "      <td>BMT</td>\n",
       "      <td>07/11/2019</td>\n",
       "      <td>12:00:00</td>\n",
       "      <td>REGULAR</td>\n",
       "      <td>4081051</td>\n",
       "      <td>4505342</td>\n",
       "    </tr>\n",
       "    <tr>\n",
       "      <th>4493</th>\n",
       "      <td>A031</td>\n",
       "      <td>R083</td>\n",
       "      <td>00-03-02</td>\n",
       "      <td>23 ST</td>\n",
       "      <td>NRW</td>\n",
       "      <td>BMT</td>\n",
       "      <td>07/11/2019</td>\n",
       "      <td>00:00:00</td>\n",
       "      <td>REGULAR</td>\n",
       "      <td>158825</td>\n",
       "      <td>200036</td>\n",
       "    </tr>\n",
       "    <tr>\n",
       "      <th>3998</th>\n",
       "      <td>A030</td>\n",
       "      <td>R083</td>\n",
       "      <td>01-00-01</td>\n",
       "      <td>23 ST</td>\n",
       "      <td>NRW</td>\n",
       "      <td>BMT</td>\n",
       "      <td>07/12/2019</td>\n",
       "      <td>12:00:00</td>\n",
       "      <td>REGULAR</td>\n",
       "      <td>6937467</td>\n",
       "      <td>2545523</td>\n",
       "    </tr>\n",
       "  </tbody>\n",
       "</table>\n",
       "<p>200 rows × 11 columns</p>\n",
       "</div>"
      ],
      "text/plain": [
       "       C/A  UNIT       SCP STATION LINENAME DIVISION        DATE      TIME  \\\n",
       "4502  A031  R083  00-03-02   23 ST      NRW      BMT  07/12/2019  12:00:00   \n",
       "4233  A030  R083  01-06-01   23 ST      NRW      BMT  07/09/2019  16:00:00   \n",
       "4177  A030  R083  01-06-00   23 ST      NRW      BMT  07/07/2019  08:00:00   \n",
       "4039  A030  R083  01-00-02   23 ST      NRW      BMT  07/12/2019  08:00:00   \n",
       "4378  A031  R083  00-00-02   23 ST      NRW      BMT  07/12/2019  20:00:00   \n",
       "...    ...   ...       ...     ...      ...      ...         ...       ...   \n",
       "4315  A031  R083  00-00-01   23 ST      NRW      BMT  07/09/2019  08:00:00   \n",
       "4282  A031  R083  00-00-00   23 ST      NRW      BMT  07/10/2019  20:00:00   \n",
       "4454  A031  R083  00-03-01   23 ST      NRW      BMT  07/11/2019  12:00:00   \n",
       "4493  A031  R083  00-03-02   23 ST      NRW      BMT  07/11/2019  00:00:00   \n",
       "3998  A030  R083  01-00-01   23 ST      NRW      BMT  07/12/2019  12:00:00   \n",
       "\n",
       "         DESC   ENTRIES    EXITS  \n",
       "4502  REGULAR    160750   202698  \n",
       "4233  REGULAR  85870117  1228136  \n",
       "4177  REGULAR   8640281  4541655  \n",
       "4039  REGULAR   5216297  2428361  \n",
       "4378  REGULAR   6591447  3528798  \n",
       "...       ...       ...      ...  \n",
       "4315  REGULAR   4671961  1562993  \n",
       "4282  REGULAR   1341572   719014  \n",
       "4454  REGULAR   4081051  4505342  \n",
       "4493  REGULAR    158825   200036  \n",
       "3998  REGULAR   6937467  2545523  \n",
       "\n",
       "[200 rows x 11 columns]"
      ]
     },
     "execution_count": 6,
     "metadata": {},
     "output_type": "execute_result"
    }
   ],
   "source": [
    "flatiron.sample(200)"
   ]
  },
  {
   "cell_type": "code",
   "execution_count": 7,
   "metadata": {},
   "outputs": [
    {
     "data": {
      "text/plain": [
       "(336, 11)"
      ]
     },
     "execution_count": 7,
     "metadata": {},
     "output_type": "execute_result"
    }
   ],
   "source": [
    "flatiron[flatiron[\"C/A\"]==\"A030\"].shape"
   ]
  },
  {
   "cell_type": "code",
   "execution_count": 8,
   "metadata": {},
   "outputs": [
    {
     "data": {
      "text/plain": [
       "(252, 11)"
      ]
     },
     "execution_count": 8,
     "metadata": {},
     "output_type": "execute_result"
    }
   ],
   "source": [
    "flatiron[flatiron[\"C/A\"]==\"A031\"].shape"
   ]
  },
  {
   "cell_type": "code",
   "execution_count": 9,
   "metadata": {},
   "outputs": [
    {
     "data": {
      "text/plain": [
       "(588, 11)"
      ]
     },
     "execution_count": 9,
     "metadata": {},
     "output_type": "execute_result"
    }
   ],
   "source": [
    "flatiron[flatiron[\"UNIT\"]==\"R083\"].shape"
   ]
  },
  {
   "cell_type": "code",
   "execution_count": 10,
   "metadata": {},
   "outputs": [
    {
     "data": {
      "text/plain": [
       "588"
      ]
     },
     "execution_count": 10,
     "metadata": {},
     "output_type": "execute_result"
    }
   ],
   "source": [
    "252+336"
   ]
  },
  {
   "cell_type": "code",
   "execution_count": 11,
   "metadata": {},
   "outputs": [
    {
     "data": {
      "text/html": [
       "<div>\n",
       "<style scoped>\n",
       "    .dataframe tbody tr th:only-of-type {\n",
       "        vertical-align: middle;\n",
       "    }\n",
       "\n",
       "    .dataframe tbody tr th {\n",
       "        vertical-align: top;\n",
       "    }\n",
       "\n",
       "    .dataframe thead th {\n",
       "        text-align: right;\n",
       "    }\n",
       "</style>\n",
       "<table border=\"1\" class=\"dataframe\">\n",
       "  <thead>\n",
       "    <tr style=\"text-align: right;\">\n",
       "      <th></th>\n",
       "      <th>C/A</th>\n",
       "      <th>UNIT</th>\n",
       "      <th>SCP</th>\n",
       "      <th>STATION</th>\n",
       "      <th>LINENAME</th>\n",
       "      <th>DIVISION</th>\n",
       "      <th>DATE</th>\n",
       "      <th>TIME</th>\n",
       "      <th>DESC</th>\n",
       "      <th>ENTRIES</th>\n",
       "      <th>EXITS</th>\n",
       "    </tr>\n",
       "  </thead>\n",
       "  <tbody>\n",
       "    <tr>\n",
       "      <th>4500</th>\n",
       "      <td>A031</td>\n",
       "      <td>R083</td>\n",
       "      <td>00-03-02</td>\n",
       "      <td>23 ST</td>\n",
       "      <td>NRW</td>\n",
       "      <td>BMT</td>\n",
       "      <td>07/12/2019</td>\n",
       "      <td>04:00:00</td>\n",
       "      <td>REGULAR</td>\n",
       "      <td>160494</td>\n",
       "      <td>201861</td>\n",
       "    </tr>\n",
       "    <tr>\n",
       "      <th>4501</th>\n",
       "      <td>A031</td>\n",
       "      <td>R083</td>\n",
       "      <td>00-03-02</td>\n",
       "      <td>23 ST</td>\n",
       "      <td>NRW</td>\n",
       "      <td>BMT</td>\n",
       "      <td>07/12/2019</td>\n",
       "      <td>08:00:00</td>\n",
       "      <td>REGULAR</td>\n",
       "      <td>160530</td>\n",
       "      <td>202033</td>\n",
       "    </tr>\n",
       "    <tr>\n",
       "      <th>4502</th>\n",
       "      <td>A031</td>\n",
       "      <td>R083</td>\n",
       "      <td>00-03-02</td>\n",
       "      <td>23 ST</td>\n",
       "      <td>NRW</td>\n",
       "      <td>BMT</td>\n",
       "      <td>07/12/2019</td>\n",
       "      <td>12:00:00</td>\n",
       "      <td>REGULAR</td>\n",
       "      <td>160750</td>\n",
       "      <td>202698</td>\n",
       "    </tr>\n",
       "    <tr>\n",
       "      <th>4503</th>\n",
       "      <td>A031</td>\n",
       "      <td>R083</td>\n",
       "      <td>00-03-02</td>\n",
       "      <td>23 ST</td>\n",
       "      <td>NRW</td>\n",
       "      <td>BMT</td>\n",
       "      <td>07/12/2019</td>\n",
       "      <td>16:00:00</td>\n",
       "      <td>REGULAR</td>\n",
       "      <td>161112</td>\n",
       "      <td>203047</td>\n",
       "    </tr>\n",
       "    <tr>\n",
       "      <th>4504</th>\n",
       "      <td>A031</td>\n",
       "      <td>R083</td>\n",
       "      <td>00-03-02</td>\n",
       "      <td>23 ST</td>\n",
       "      <td>NRW</td>\n",
       "      <td>BMT</td>\n",
       "      <td>07/12/2019</td>\n",
       "      <td>20:00:00</td>\n",
       "      <td>REGULAR</td>\n",
       "      <td>161655</td>\n",
       "      <td>203413</td>\n",
       "    </tr>\n",
       "  </tbody>\n",
       "</table>\n",
       "</div>"
      ],
      "text/plain": [
       "       C/A  UNIT       SCP STATION LINENAME DIVISION        DATE      TIME  \\\n",
       "4500  A031  R083  00-03-02   23 ST      NRW      BMT  07/12/2019  04:00:00   \n",
       "4501  A031  R083  00-03-02   23 ST      NRW      BMT  07/12/2019  08:00:00   \n",
       "4502  A031  R083  00-03-02   23 ST      NRW      BMT  07/12/2019  12:00:00   \n",
       "4503  A031  R083  00-03-02   23 ST      NRW      BMT  07/12/2019  16:00:00   \n",
       "4504  A031  R083  00-03-02   23 ST      NRW      BMT  07/12/2019  20:00:00   \n",
       "\n",
       "         DESC  ENTRIES   EXITS  \n",
       "4500  REGULAR   160494  201861  \n",
       "4501  REGULAR   160530  202033  \n",
       "4502  REGULAR   160750  202698  \n",
       "4503  REGULAR   161112  203047  \n",
       "4504  REGULAR   161655  203413  "
      ]
     },
     "execution_count": 11,
     "metadata": {},
     "output_type": "execute_result"
    }
   ],
   "source": [
    "flatiron[flatiron[\"UNIT\"]==\"R083\"].tail()"
   ]
  },
  {
   "cell_type": "markdown",
   "metadata": {},
   "source": [
    "Could do a groupby to aggregate the average or sum of entries at each time of day. "
   ]
  },
  {
   "cell_type": "markdown",
   "metadata": {},
   "source": [
    "What about by days of the week?"
   ]
  },
  {
   "cell_type": "markdown",
   "metadata": {},
   "source": [
    "What about by days of the week?"
   ]
  },
  {
   "cell_type": "code",
   "execution_count": 12,
   "metadata": {},
   "outputs": [
    {
     "data": {
      "text/plain": [
       "<matplotlib.collections.PathCollection at 0x7fb8613a9e80>"
      ]
     },
     "execution_count": 12,
     "metadata": {},
     "output_type": "execute_result"
    },
    {
     "data": {
      "image/png": "[encoded data removed]",
      "text/plain": [
       "<Figure size 432x288 with 1 Axes>"
      ]
     },
     "metadata": {
      "needs_background": "light"
     },
     "output_type": "display_data"
    }
   ],
   "source": [
    "plt.scatter(x=flatiron['DATE'], y=(flatiron['EXITS']).astype(int))"
   ]
  },
  {
   "cell_type": "markdown",
   "metadata": {},
   "source": [
    "I don't think I understand yet what the 'EXITS' column really means yet.  Even within the same week at the same time interval \n",
    "\n",
    "there are many datapoints.\n",
    "\n",
    "To go further, we probably need to review the 'codebook' for this dataset. Otherwise we can end up with a garbage-in analysis"
   ]
  },
  {
   "cell_type": "markdown",
   "metadata": {},
   "source": [
    "*******\n",
    "## Update \n",
    "\n",
    "\n",
    "I've figured out the issue here. The entries and exits columns are actually cumulative counts for each specific counting device. Therefore to extract the data we need, we need to is the following:\n",
    "0. Convert ENTRIES and EXITS columns to integers so we can compute their numerical diff\n",
    "1. Convert it into a list of dataframes where each dataframe in the list corresponds to a counting device. (To do this we first extract the unique values in the device column; then cycle through that list, using each item to extract rows matching it.\n",
    "2. Then cycle through each data frame in our list of dataframes\n",
    "    * sort it by TIME just to be on the safe side\n",
    "    * create two new columns that contains the difference between each row's ENTRY and EXIT counts and that of the previous row\n",
    "3. Append each of dataframe in the result list into a one list\n",
    "4. Sort by date and time to find graph these to discover days and times with highest traffic\n",
    "5. might use a calendar library ot convert date to day of week and do groupby on that\n",
    "6. could also graph traffic against TIME, while ignorning day\n",
    "7. Ideally we could drill down and find the day-of-week and time that consistently have the highest traffic during the summer. This would require the above pipeline for multiple weeks and multiple years, and pooling that data.\n",
    "\n"
   ]
  },
  {
   "cell_type": "markdown",
   "metadata": {},
   "source": [
    "Unfortunately the \"Field description\" actually doesn't explain which column corresponds to the counting device. Is it `C/A` or it it `Unit`? "
   ]
  },
  {
   "cell_type": "code",
   "execution_count": 13,
   "metadata": {
    "scrolled": true
   },
   "outputs": [
    {
     "data": {
      "text/html": [
       "<div>\n",
       "<style scoped>\n",
       "    .dataframe tbody tr th:only-of-type {\n",
       "        vertical-align: middle;\n",
       "    }\n",
       "\n",
       "    .dataframe tbody tr th {\n",
       "        vertical-align: top;\n",
       "    }\n",
       "\n",
       "    .dataframe thead th {\n",
       "        text-align: right;\n",
       "    }\n",
       "</style>\n",
       "<table border=\"1\" class=\"dataframe\">\n",
       "  <thead>\n",
       "    <tr style=\"text-align: right;\">\n",
       "      <th></th>\n",
       "      <th>C/A</th>\n",
       "      <th>UNIT</th>\n",
       "      <th>SCP</th>\n",
       "      <th>STATION</th>\n",
       "      <th>LINENAME</th>\n",
       "      <th>DIVISION</th>\n",
       "      <th>DATE</th>\n",
       "      <th>TIME</th>\n",
       "      <th>DESC</th>\n",
       "      <th>ENTRIES</th>\n",
       "      <th>EXITS</th>\n",
       "    </tr>\n",
       "  </thead>\n",
       "  <tbody>\n",
       "    <tr>\n",
       "      <th>3917</th>\n",
       "      <td>A030</td>\n",
       "      <td>R083</td>\n",
       "      <td>01-00-00</td>\n",
       "      <td>23 ST</td>\n",
       "      <td>NRW</td>\n",
       "      <td>BMT</td>\n",
       "      <td>07/06/2019</td>\n",
       "      <td>00:00:00</td>\n",
       "      <td>REGULAR</td>\n",
       "      <td>103161</td>\n",
       "      <td>147662</td>\n",
       "    </tr>\n",
       "    <tr>\n",
       "      <th>3918</th>\n",
       "      <td>A030</td>\n",
       "      <td>R083</td>\n",
       "      <td>01-00-00</td>\n",
       "      <td>23 ST</td>\n",
       "      <td>NRW</td>\n",
       "      <td>BMT</td>\n",
       "      <td>07/06/2019</td>\n",
       "      <td>04:00:00</td>\n",
       "      <td>REGULAR</td>\n",
       "      <td>103161</td>\n",
       "      <td>147672</td>\n",
       "    </tr>\n",
       "    <tr>\n",
       "      <th>3919</th>\n",
       "      <td>A030</td>\n",
       "      <td>R083</td>\n",
       "      <td>01-00-00</td>\n",
       "      <td>23 ST</td>\n",
       "      <td>NRW</td>\n",
       "      <td>BMT</td>\n",
       "      <td>07/06/2019</td>\n",
       "      <td>08:00:00</td>\n",
       "      <td>REGULAR</td>\n",
       "      <td>103161</td>\n",
       "      <td>147712</td>\n",
       "    </tr>\n",
       "    <tr>\n",
       "      <th>3920</th>\n",
       "      <td>A030</td>\n",
       "      <td>R083</td>\n",
       "      <td>01-00-00</td>\n",
       "      <td>23 ST</td>\n",
       "      <td>NRW</td>\n",
       "      <td>BMT</td>\n",
       "      <td>07/06/2019</td>\n",
       "      <td>12:00:00</td>\n",
       "      <td>REGULAR</td>\n",
       "      <td>103161</td>\n",
       "      <td>147867</td>\n",
       "    </tr>\n",
       "    <tr>\n",
       "      <th>3921</th>\n",
       "      <td>A030</td>\n",
       "      <td>R083</td>\n",
       "      <td>01-00-00</td>\n",
       "      <td>23 ST</td>\n",
       "      <td>NRW</td>\n",
       "      <td>BMT</td>\n",
       "      <td>07/06/2019</td>\n",
       "      <td>16:00:00</td>\n",
       "      <td>REGULAR</td>\n",
       "      <td>103161</td>\n",
       "      <td>148016</td>\n",
       "    </tr>\n",
       "  </tbody>\n",
       "</table>\n",
       "</div>"
      ],
      "text/plain": [
       "       C/A  UNIT       SCP STATION LINENAME DIVISION        DATE      TIME  \\\n",
       "3917  A030  R083  01-00-00   23 ST      NRW      BMT  07/06/2019  00:00:00   \n",
       "3918  A030  R083  01-00-00   23 ST      NRW      BMT  07/06/2019  04:00:00   \n",
       "3919  A030  R083  01-00-00   23 ST      NRW      BMT  07/06/2019  08:00:00   \n",
       "3920  A030  R083  01-00-00   23 ST      NRW      BMT  07/06/2019  12:00:00   \n",
       "3921  A030  R083  01-00-00   23 ST      NRW      BMT  07/06/2019  16:00:00   \n",
       "\n",
       "         DESC  ENTRIES   EXITS  \n",
       "3917  REGULAR   103161  147662  \n",
       "3918  REGULAR   103161  147672  \n",
       "3919  REGULAR   103161  147712  \n",
       "3920  REGULAR   103161  147867  \n",
       "3921  REGULAR   103161  148016  "
      ]
     },
     "execution_count": 13,
     "metadata": {},
     "output_type": "execute_result"
    }
   ],
   "source": [
    "flatiron.head()"
   ]
  },
  {
   "cell_type": "markdown",
   "metadata": {},
   "source": [
    "Let's see how many rows are in a single `C/A` and `UNIT`"
   ]
  },
  {
   "cell_type": "code",
   "execution_count": 14,
   "metadata": {},
   "outputs": [
    {
     "data": {
      "text/plain": [
       "(336, 11)"
      ]
     },
     "execution_count": 14,
     "metadata": {},
     "output_type": "execute_result"
    }
   ],
   "source": [
    "flatiron[flatiron[\"C/A\"]==\"A030\"].shape"
   ]
  },
  {
   "cell_type": "code",
   "execution_count": 15,
   "metadata": {},
   "outputs": [
    {
     "data": {
      "text/plain": [
       "(252, 11)"
      ]
     },
     "execution_count": 15,
     "metadata": {},
     "output_type": "execute_result"
    }
   ],
   "source": [
    "flatiron[flatiron[\"C/A\"]==\"A031\"].shape"
   ]
  },
  {
   "cell_type": "code",
   "execution_count": 16,
   "metadata": {},
   "outputs": [
    {
     "data": {
      "text/plain": [
       "(588, 11)"
      ]
     },
     "execution_count": 16,
     "metadata": {},
     "output_type": "execute_result"
    }
   ],
   "source": [
    "flatiron[flatiron[\"UNIT\"]==\"R083\"].shape"
   ]
  },
  {
   "cell_type": "code",
   "execution_count": 17,
   "metadata": {},
   "outputs": [
    {
     "data": {
      "text/plain": [
       "True"
      ]
     },
     "execution_count": 17,
     "metadata": {},
     "output_type": "execute_result"
    }
   ],
   "source": [
    "336+252 == 588"
   ]
  },
  {
   "cell_type": "markdown",
   "metadata": {},
   "source": [
    "Let's look at the seam between `C/A` == A030 and and A031, to see if the cumulative count restarts."
   ]
  },
  {
   "cell_type": "code",
   "execution_count": 18,
   "metadata": {},
   "outputs": [
    {
     "data": {
      "text/html": [
       "<div>\n",
       "<style scoped>\n",
       "    .dataframe tbody tr th:only-of-type {\n",
       "        vertical-align: middle;\n",
       "    }\n",
       "\n",
       "    .dataframe tbody tr th {\n",
       "        vertical-align: top;\n",
       "    }\n",
       "\n",
       "    .dataframe thead th {\n",
       "        text-align: right;\n",
       "    }\n",
       "</style>\n",
       "<table border=\"1\" class=\"dataframe\">\n",
       "  <thead>\n",
       "    <tr style=\"text-align: right;\">\n",
       "      <th></th>\n",
       "      <th>C/A</th>\n",
       "      <th>UNIT</th>\n",
       "      <th>SCP</th>\n",
       "      <th>STATION</th>\n",
       "      <th>LINENAME</th>\n",
       "      <th>DIVISION</th>\n",
       "      <th>DATE</th>\n",
       "      <th>TIME</th>\n",
       "      <th>DESC</th>\n",
       "      <th>ENTRIES</th>\n",
       "      <th>EXITS</th>\n",
       "    </tr>\n",
       "  </thead>\n",
       "  <tbody>\n",
       "    <tr>\n",
       "      <th>4247</th>\n",
       "      <td>A030</td>\n",
       "      <td>R083</td>\n",
       "      <td>01-06-01</td>\n",
       "      <td>23 ST</td>\n",
       "      <td>NRW</td>\n",
       "      <td>BMT</td>\n",
       "      <td>07/12/2019</td>\n",
       "      <td>00:00:00</td>\n",
       "      <td>REGULAR</td>\n",
       "      <td>85873540</td>\n",
       "      <td>1229834</td>\n",
       "    </tr>\n",
       "    <tr>\n",
       "      <th>4248</th>\n",
       "      <td>A030</td>\n",
       "      <td>R083</td>\n",
       "      <td>01-06-01</td>\n",
       "      <td>23 ST</td>\n",
       "      <td>NRW</td>\n",
       "      <td>BMT</td>\n",
       "      <td>07/12/2019</td>\n",
       "      <td>04:00:00</td>\n",
       "      <td>REGULAR</td>\n",
       "      <td>85873540</td>\n",
       "      <td>1229834</td>\n",
       "    </tr>\n",
       "    <tr>\n",
       "      <th>4249</th>\n",
       "      <td>A030</td>\n",
       "      <td>R083</td>\n",
       "      <td>01-06-01</td>\n",
       "      <td>23 ST</td>\n",
       "      <td>NRW</td>\n",
       "      <td>BMT</td>\n",
       "      <td>07/12/2019</td>\n",
       "      <td>08:00:00</td>\n",
       "      <td>REGULAR</td>\n",
       "      <td>85873552</td>\n",
       "      <td>1229875</td>\n",
       "    </tr>\n",
       "    <tr>\n",
       "      <th>4250</th>\n",
       "      <td>A030</td>\n",
       "      <td>R083</td>\n",
       "      <td>01-06-01</td>\n",
       "      <td>23 ST</td>\n",
       "      <td>NRW</td>\n",
       "      <td>BMT</td>\n",
       "      <td>07/12/2019</td>\n",
       "      <td>12:00:00</td>\n",
       "      <td>REGULAR</td>\n",
       "      <td>85873708</td>\n",
       "      <td>1230130</td>\n",
       "    </tr>\n",
       "    <tr>\n",
       "      <th>4251</th>\n",
       "      <td>A030</td>\n",
       "      <td>R083</td>\n",
       "      <td>01-06-01</td>\n",
       "      <td>23 ST</td>\n",
       "      <td>NRW</td>\n",
       "      <td>BMT</td>\n",
       "      <td>07/12/2019</td>\n",
       "      <td>16:00:00</td>\n",
       "      <td>REGULAR</td>\n",
       "      <td>85873993</td>\n",
       "      <td>1230363</td>\n",
       "    </tr>\n",
       "    <tr>\n",
       "      <th>4252</th>\n",
       "      <td>A030</td>\n",
       "      <td>R083</td>\n",
       "      <td>01-06-01</td>\n",
       "      <td>23 ST</td>\n",
       "      <td>NRW</td>\n",
       "      <td>BMT</td>\n",
       "      <td>07/12/2019</td>\n",
       "      <td>20:00:00</td>\n",
       "      <td>REGULAR</td>\n",
       "      <td>85874479</td>\n",
       "      <td>1230536</td>\n",
       "    </tr>\n",
       "    <tr>\n",
       "      <th>4253</th>\n",
       "      <td>A031</td>\n",
       "      <td>R083</td>\n",
       "      <td>00-00-00</td>\n",
       "      <td>23 ST</td>\n",
       "      <td>NRW</td>\n",
       "      <td>BMT</td>\n",
       "      <td>07/06/2019</td>\n",
       "      <td>00:00:00</td>\n",
       "      <td>REGULAR</td>\n",
       "      <td>1331659</td>\n",
       "      <td>714199</td>\n",
       "    </tr>\n",
       "    <tr>\n",
       "      <th>4254</th>\n",
       "      <td>A031</td>\n",
       "      <td>R083</td>\n",
       "      <td>00-00-00</td>\n",
       "      <td>23 ST</td>\n",
       "      <td>NRW</td>\n",
       "      <td>BMT</td>\n",
       "      <td>07/06/2019</td>\n",
       "      <td>04:00:00</td>\n",
       "      <td>REGULAR</td>\n",
       "      <td>1331726</td>\n",
       "      <td>714214</td>\n",
       "    </tr>\n",
       "    <tr>\n",
       "      <th>4255</th>\n",
       "      <td>A031</td>\n",
       "      <td>R083</td>\n",
       "      <td>00-00-00</td>\n",
       "      <td>23 ST</td>\n",
       "      <td>NRW</td>\n",
       "      <td>BMT</td>\n",
       "      <td>07/06/2019</td>\n",
       "      <td>08:00:00</td>\n",
       "      <td>REGULAR</td>\n",
       "      <td>1331752</td>\n",
       "      <td>714238</td>\n",
       "    </tr>\n",
       "    <tr>\n",
       "      <th>4256</th>\n",
       "      <td>A031</td>\n",
       "      <td>R083</td>\n",
       "      <td>00-00-00</td>\n",
       "      <td>23 ST</td>\n",
       "      <td>NRW</td>\n",
       "      <td>BMT</td>\n",
       "      <td>07/06/2019</td>\n",
       "      <td>12:00:00</td>\n",
       "      <td>REGULAR</td>\n",
       "      <td>1331991</td>\n",
       "      <td>714353</td>\n",
       "    </tr>\n",
       "  </tbody>\n",
       "</table>\n",
       "</div>"
      ],
      "text/plain": [
       "       C/A  UNIT       SCP STATION LINENAME DIVISION        DATE      TIME  \\\n",
       "4247  A030  R083  01-06-01   23 ST      NRW      BMT  07/12/2019  00:00:00   \n",
       "4248  A030  R083  01-06-01   23 ST      NRW      BMT  07/12/2019  04:00:00   \n",
       "4249  A030  R083  01-06-01   23 ST      NRW      BMT  07/12/2019  08:00:00   \n",
       "4250  A030  R083  01-06-01   23 ST      NRW      BMT  07/12/2019  12:00:00   \n",
       "4251  A030  R083  01-06-01   23 ST      NRW      BMT  07/12/2019  16:00:00   \n",
       "4252  A030  R083  01-06-01   23 ST      NRW      BMT  07/12/2019  20:00:00   \n",
       "4253  A031  R083  00-00-00   23 ST      NRW      BMT  07/06/2019  00:00:00   \n",
       "4254  A031  R083  00-00-00   23 ST      NRW      BMT  07/06/2019  04:00:00   \n",
       "4255  A031  R083  00-00-00   23 ST      NRW      BMT  07/06/2019  08:00:00   \n",
       "4256  A031  R083  00-00-00   23 ST      NRW      BMT  07/06/2019  12:00:00   \n",
       "\n",
       "         DESC   ENTRIES    EXITS  \n",
       "4247  REGULAR  85873540  1229834  \n",
       "4248  REGULAR  85873540  1229834  \n",
       "4249  REGULAR  85873552  1229875  \n",
       "4250  REGULAR  85873708  1230130  \n",
       "4251  REGULAR  85873993  1230363  \n",
       "4252  REGULAR  85874479  1230536  \n",
       "4253  REGULAR   1331659   714199  \n",
       "4254  REGULAR   1331726   714214  \n",
       "4255  REGULAR   1331752   714238  \n",
       "4256  REGULAR   1331991   714353  "
      ]
     },
     "execution_count": 18,
     "metadata": {},
     "output_type": "execute_result"
    }
   ],
   "source": [
    "flatiron[flatiron[\"UNIT\"]==\"R083\"].iloc[330:340]"
   ]
  },
  {
   "cell_type": "markdown",
   "metadata": {},
   "source": [
    "Indeed, the counting in `EXITS` jumps from 1230536 to 714199 at the seam from A030 to A031, so it seems that the C/A column contains the device label."
   ]
  },
  {
   "cell_type": "markdown",
   "metadata": {},
   "source": [
    "Looking further, however, what about the SCP colomn? Let's observe what happens to the EXITS column when SCP shifts."
   ]
  },
  {
   "cell_type": "code",
   "execution_count": 19,
   "metadata": {},
   "outputs": [
    {
     "data": {
      "text/html": [
       "<div>\n",
       "<style scoped>\n",
       "    .dataframe tbody tr th:only-of-type {\n",
       "        vertical-align: middle;\n",
       "    }\n",
       "\n",
       "    .dataframe tbody tr th {\n",
       "        vertical-align: top;\n",
       "    }\n",
       "\n",
       "    .dataframe thead th {\n",
       "        text-align: right;\n",
       "    }\n",
       "</style>\n",
       "<table border=\"1\" class=\"dataframe\">\n",
       "  <thead>\n",
       "    <tr style=\"text-align: right;\">\n",
       "      <th></th>\n",
       "      <th>C/A</th>\n",
       "      <th>UNIT</th>\n",
       "      <th>SCP</th>\n",
       "      <th>STATION</th>\n",
       "      <th>LINENAME</th>\n",
       "      <th>DIVISION</th>\n",
       "      <th>DATE</th>\n",
       "      <th>TIME</th>\n",
       "      <th>DESC</th>\n",
       "      <th>ENTRIES</th>\n",
       "      <th>EXITS</th>\n",
       "    </tr>\n",
       "  </thead>\n",
       "  <tbody>\n",
       "    <tr>\n",
       "      <th>4292</th>\n",
       "      <td>A031</td>\n",
       "      <td>R083</td>\n",
       "      <td>00-00-00</td>\n",
       "      <td>23 ST</td>\n",
       "      <td>NRW</td>\n",
       "      <td>BMT</td>\n",
       "      <td>07/12/2019</td>\n",
       "      <td>12:00:00</td>\n",
       "      <td>REGULAR</td>\n",
       "      <td>1344852</td>\n",
       "      <td>721052</td>\n",
       "    </tr>\n",
       "    <tr>\n",
       "      <th>4293</th>\n",
       "      <td>A031</td>\n",
       "      <td>R083</td>\n",
       "      <td>00-00-00</td>\n",
       "      <td>23 ST</td>\n",
       "      <td>NRW</td>\n",
       "      <td>BMT</td>\n",
       "      <td>07/12/2019</td>\n",
       "      <td>16:00:00</td>\n",
       "      <td>REGULAR</td>\n",
       "      <td>1345501</td>\n",
       "      <td>721255</td>\n",
       "    </tr>\n",
       "    <tr>\n",
       "      <th>4294</th>\n",
       "      <td>A031</td>\n",
       "      <td>R083</td>\n",
       "      <td>00-00-00</td>\n",
       "      <td>23 ST</td>\n",
       "      <td>NRW</td>\n",
       "      <td>BMT</td>\n",
       "      <td>07/12/2019</td>\n",
       "      <td>20:00:00</td>\n",
       "      <td>REGULAR</td>\n",
       "      <td>1346509</td>\n",
       "      <td>721476</td>\n",
       "    </tr>\n",
       "    <tr>\n",
       "      <th>4295</th>\n",
       "      <td>A031</td>\n",
       "      <td>R083</td>\n",
       "      <td>00-00-01</td>\n",
       "      <td>23 ST</td>\n",
       "      <td>NRW</td>\n",
       "      <td>BMT</td>\n",
       "      <td>07/06/2019</td>\n",
       "      <td>00:00:00</td>\n",
       "      <td>REGULAR</td>\n",
       "      <td>4668236</td>\n",
       "      <td>1561951</td>\n",
       "    </tr>\n",
       "    <tr>\n",
       "      <th>4296</th>\n",
       "      <td>A031</td>\n",
       "      <td>R083</td>\n",
       "      <td>00-00-01</td>\n",
       "      <td>23 ST</td>\n",
       "      <td>NRW</td>\n",
       "      <td>BMT</td>\n",
       "      <td>07/06/2019</td>\n",
       "      <td>04:00:00</td>\n",
       "      <td>REGULAR</td>\n",
       "      <td>4668289</td>\n",
       "      <td>1561957</td>\n",
       "    </tr>\n",
       "  </tbody>\n",
       "</table>\n",
       "</div>"
      ],
      "text/plain": [
       "       C/A  UNIT       SCP STATION LINENAME DIVISION        DATE      TIME  \\\n",
       "4292  A031  R083  00-00-00   23 ST      NRW      BMT  07/12/2019  12:00:00   \n",
       "4293  A031  R083  00-00-00   23 ST      NRW      BMT  07/12/2019  16:00:00   \n",
       "4294  A031  R083  00-00-00   23 ST      NRW      BMT  07/12/2019  20:00:00   \n",
       "4295  A031  R083  00-00-01   23 ST      NRW      BMT  07/06/2019  00:00:00   \n",
       "4296  A031  R083  00-00-01   23 ST      NRW      BMT  07/06/2019  04:00:00   \n",
       "\n",
       "         DESC  ENTRIES    EXITS  \n",
       "4292  REGULAR  1344852   721052  \n",
       "4293  REGULAR  1345501   721255  \n",
       "4294  REGULAR  1346509   721476  \n",
       "4295  REGULAR  4668236  1561951  \n",
       "4296  REGULAR  4668289  1561957  "
      ]
     },
     "execution_count": 19,
     "metadata": {},
     "output_type": "execute_result"
    }
   ],
   "source": [
    "flatiron[flatiron[\"UNIT\"]==\"R083\"].iloc[375:380]"
   ]
  },
  {
   "cell_type": "markdown",
   "metadata": {},
   "source": [
    "Whoops. When SCP changes, the EXITS counts start again. So actually the combination of the C/A and SCP columns seem to \n",
    "define a counting stream"
   ]
  },
  {
   "cell_type": "markdown",
   "metadata": {},
   "source": [
    "#### Try out a graph using the data from just one device\n",
    "\n",
    "If this pans out, we'll go back and do this data cleaning at an earlier stage so it affects the entire dataset"
   ]
  },
  {
   "cell_type": "code",
   "execution_count": 21,
   "metadata": {},
   "outputs": [
    {
     "ename": "SyntaxError",
     "evalue": "invalid syntax (<ipython-input-21-06374c5d9984>, line 1)",
     "output_type": "error",
     "traceback": [
      "\u001b[0;36m  File \u001b[0;32m\"<ipython-input-21-06374c5d9984>\"\u001b[0;36m, line \u001b[0;32m1\u001b[0m\n\u001b[0;31m    FI_device_A031zeroSCP = flatiron[ (flatiron[\"C/A\"]==\"A031) & (flatiron[\"SCP\"]==\"00-00-00\")].copy()\u001b[0m\n\u001b[0m                                                                            ^\u001b[0m\n\u001b[0;31mSyntaxError\u001b[0m\u001b[0;31m:\u001b[0m invalid syntax\n"
     ]
    }
   ],
   "source": [
    "FI_device_A031zeroSCP = flatiron[ (flatiron[\"C/A\"]==\"A031) & (flatiron[\"SCP\"]==\"00-00-00\")].copy()\n",
    "FI_device_A031zeroSCP.sort_values(by=[\"DATE\", \"TIME\"]).head(10)"
   ]
  },
  {
   "cell_type": "code",
   "execution_count": null,
   "metadata": {},
   "outputs": [],
   "source": [
    "FI_device_A031zeroSCP[\"Exit diffs\"] = FI_device_A031zeroSCP[\"EXITS\"].diff()"
   ]
  },
  {
   "cell_type": "code",
   "execution_count": null,
   "metadata": {},
   "outputs": [],
   "source": [
    "FI_device_A031zeroSCP[FI_device_A031zeroSCP[\"TIME\"]==\"00:00:00\"]"
   ]
  },
  {
   "cell_type": "code",
   "execution_count": null,
   "metadata": {},
   "outputs": [],
   "source": [
    "plt.figure(figsize=(10,10))\n",
    "plt.scatter( x=FI_device_A031zeroSCP['TIME'], y=FI_device_A031zeroSCP['Exit diffs'], marker='_', s=(800,))"
   ]
  },
  {
   "cell_type": "markdown",
   "metadata": {},
   "source": [
    "##### It seems as though noon time (at least on certain days) as well as 8pm are the times with the most traffic."
   ]
  },
  {
   "cell_type": "code",
   "execution_count": null,
   "metadata": {},
   "outputs": [],
   "source": [
    "x_labels = ['Sat', 'Sun', 'Mon', 'Tues', 'Wed', 'Thurs', 'Fri'] \n",
    "plt.figure(figsize=(10,10))\n",
    "positions = range(7)\n",
    "plt.xticks(positions, x_labels)\n",
    "plt.scatter( x=FI_device_A031zeroSCP['DATE'], y=FI_device_A031zeroSCP['Exit diffs'], marker='_', s=(800,))"
   ]
  },
  {
   "cell_type": "markdown",
   "metadata": {},
   "source": [
    "#### It seems as though Wednesday and Thursday have the most traffic."
   ]
  },
  {
   "cell_type": "markdown",
   "metadata": {},
   "source": [
    "Meanwhile, what about the zip code of stations? We'll need to merge this with the turnstile data if we want to \n",
    "\n",
    "identify stops that that are higher-income neighborhoods, by joining (merging) with a demographics/census dataset"
   ]
  },
  {
   "cell_type": "code",
   "execution_count": null,
   "metadata": {},
   "outputs": [],
   "source": []
  },
  {
   "cell_type": "code",
   "execution_count": null,
   "metadata": {},
   "outputs": [],
   "source": [
    "stations = pd.read_csv('http://web.mta.info/developers/data/nyct/subway/Stations.csv')"
   ]
  },
  {
   "cell_type": "code",
   "execution_count": null,
   "metadata": {},
   "outputs": [],
   "source": [
    "stations.sample(10)"
   ]
  },
  {
   "cell_type": "markdown",
   "metadata": {},
   "source": [
    "Whereas the stop names in the turnstile dataset were all caps, these are in title case. \n",
    "\n",
    "Who knows if truly corresponding names are used for each station?\n",
    "\n",
    "As a preliminary step to finding out, lets convert that columns to upper "
   ]
  },
  {
   "cell_type": "code",
   "execution_count": null,
   "metadata": {},
   "outputs": [],
   "source": [
    "stations['Stop Name'] = stations['Stop Name'].str.upper() "
   ]
  },
  {
   "cell_type": "code",
   "execution_count": null,
   "metadata": {},
   "outputs": [],
   "source": [
    "# sanity check\n",
    "stations.sample(5)"
   ]
  },
  {
   "cell_type": "code",
   "execution_count": null,
   "metadata": {},
   "outputs": [],
   "source": [
    "stations.columns"
   ]
  },
  {
   "cell_type": "markdown",
   "metadata": {},
   "source": [
    "Merge (join) the turnstile and stations dataframes.  We probably have too many columms here and should pare down."
   ]
  },
  {
   "cell_type": "code",
   "execution_count": null,
   "metadata": {},
   "outputs": [],
   "source": [
    "turnstile_station = df.merge(stations, left_on=\"STATION\", right_on=\"Stop Name\")\n",
    "turnstile_station "
   ]
  },
  {
   "cell_type": "markdown",
   "metadata": {},
   "source": [
    "For this to be useful regarding income levels in neighborhoods (which will probably exists by zip code), \n",
    "\n",
    "we'd have to merge this station we'd have to use library that gets zip code from lat and longitude\n",
    "\n",
    "I believe the one to use is probably geopy: \n",
    "[geopy](https://geopy.readthedocs.io/en/stable/)"
   ]
  },
  {
   "cell_type": "markdown",
   "metadata": {},
   "source": [
    "These might or not be helpful:\n",
    "\n",
    "[income by zip](https://www.incomebyzipcode.com/newyork)\n",
    "\n",
    "[open data nyc](https://opendata.cityofnewyork.us/)    "
   ]
  },
  {
   "cell_type": "code",
   "execution_count": null,
   "metadata": {},
   "outputs": [],
   "source": []
  }
 ],
 "metadata": {
  "kernelspec": {
   "display_name": "Python 3",
   "language": "python",
   "name": "python3"
  },
  "language_info": {
   "codemirror_mode": {
    "name": "ipython",
    "version": 3
   },
   "file_extension": ".py",
   "mimetype": "text/x-python",
   "name": "python",
   "nbconvert_exporter": "python",
   "pygments_lexer": "ipython3",
   "version": "3.8.5"
  }
 },
 "nbformat": 4,
 "nbformat_minor": 4
}
